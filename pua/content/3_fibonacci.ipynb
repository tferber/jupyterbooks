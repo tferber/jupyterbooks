{
 "cells": [
  {
   "cell_type": "markdown",
   "id": "92461b25-8c2c-4dec-adf8-ee4fa529703b",
   "metadata": {},
   "source": [
    "# Fibonacci Zahlen"
   ]
  },
  {
   "cell_type": "markdown",
   "id": "f3dac4a8-bce0-4834-b12b-df5bb323ffc8",
   "metadata": {},
   "source": [
    "Die Fibonacci-Zahlen sind eine Zahlenfolge, bei der jede Zahl die Summe der beiden vorangegangenen ist. Die Folge beginnt in der Regel bei 0 und 1. Ausgehend von 0 und 1 lauten die ersten Werte in der Folge: 0, 1, 1, 2, 3, 5, 8, 13, 21, 34, 55, 89, 144, ...\n",
    "\n",
    "Die Fibonacci-Zahlen wurden bereits 200 v. Chr. in der indischen Mathematik beschrieben. Sie sind nach dem italienischen Mathematiker Leonardo von Pisa, auch bekannt als Fibonacci, benannt, der die Zahlenreihe in seinem Buch Liber Abaci aus dem Jahr 1202 in die westeuropäische Mathematik einführte.\n",
    "\n",
    "Die Fibonacci-Zahlen tauchen unerwartet oft in der Mathematik auf, und sie kommen auch in der Biologie vor. Zu den Anwendungen der Fibonacci-Zahlen gehören Computeralgorithmen wie die Fibonacci-Suchtechnik und die Fibonacci-Haufen-Datenstruktur.\n",
    "\n",
    "Mehr Informationen: https://en.wikipedia.org/wiki/Fibonacci_sequence"
   ]
  },
  {
   "cell_type": "markdown",
   "id": "a0e62c1c-24a4-4073-898f-43ebe15adfa0",
   "metadata": {},
   "source": [
    "### Rekursive Funktion"
   ]
  },
  {
   "cell_type": "markdown",
   "id": "c4c351a8-0afb-473f-a123-db8ae37f5bd4",
   "metadata": {},
   "source": [
    "Das berechnen der fünfunddreissigsten Fibonacci-Zahl dauert mit dem rekursiven Algorithmus bereits mehrere Sekunden."
   ]
  },
  {
   "cell_type": "code",
   "execution_count": 23,
   "id": "78fbfd52-1ad3-40b5-803c-ed131b92dc47",
   "metadata": {},
   "outputs": [
    {
     "name": "stdout",
     "output_type": "stream",
     "text": [
      "5702887\n"
     ]
    }
   ],
   "source": [
    "def fibonacci_rekursiv(n):\n",
    "    '''\n",
    "    Calculate the nth Fibonacci number using recursion.\n",
    "\n",
    "    Parameters:\n",
    "    n (int): The position of the Fibonacci number in the Fibonacci sequence. Must be a positive integer.\n",
    "\n",
    "    Returns:\n",
    "    int: The nth Fibonacci number.\n",
    "\n",
    "    Raises:\n",
    "    TypeError: If n is not an integer.\n",
    "    ValueError: If n is negative.\n",
    "    '''\n",
    "\n",
    "    if not isinstance(n, int):\n",
    "        raise TypeError(\"n must be a integer.\")\n",
    "    if n < 0:\n",
    "        raise ValueError(\"n must be a positive number.\")\n",
    "    \n",
    "    if n == 1:\n",
    "        return 0\n",
    "    elif n == 2:\n",
    "        return 1\n",
    "    else:\n",
    "        return fibonacci_rekursiv(n-1) + fibonacci_rekursiv(n-2)\n",
    "\n",
    "# Test the function\n",
    "print(fibonacci_rekursiv(35))\n"
   ]
  },
  {
   "cell_type": "markdown",
   "id": "e7940cf2-7855-4e51-aabf-299f4d80a171",
   "metadata": {},
   "source": [
    "### Iterative Funktion"
   ]
  },
  {
   "cell_type": "markdown",
   "id": "9ca433d2-e29d-46e6-aaea-669ee7adacf5",
   "metadata": {},
   "source": [
    "Der iterative ALgorithmus ist deutlich schneller und funkioniert auch für sehr große Zahlen extrem schnell."
   ]
  },
  {
   "cell_type": "code",
   "execution_count": 22,
   "id": "b11b54fc-10ea-4991-ad62-3ad8e2396632",
   "metadata": {},
   "outputs": [
    {
     "name": "stdout",
     "output_type": "stream",
     "text": [
      "5702887\n"
     ]
    }
   ],
   "source": [
    "def fibonacci_iterativ(n):\n",
    "    '''\n",
    "    Calculate the nth Fibonacci number using iteration.\n",
    "\n",
    "    Parameters:\n",
    "    n (int): The position of the Fibonacci number in the Fibonacci sequence. Must be a positive integer.\n",
    "\n",
    "    Returns:\n",
    "    int: The nth Fibonacci number.\n",
    "\n",
    "    Raises:\n",
    "    TypeError: If n is not an integer.\n",
    "    ValueError: If n is negative.\n",
    "    '''\n",
    "\n",
    "    if not isinstance(n, int):\n",
    "        raise TypeError(\"n must be a integer.\")\n",
    "    if n < 0:\n",
    "        raise ValueError(\"n must be a positive number.\")\n",
    "\n",
    "    if n == 1:\n",
    "        return 0\n",
    "    elif n == 2:\n",
    "        return 1\n",
    "    else:\n",
    "        a, b = 0, 1\n",
    "        for _ in range(2, n):\n",
    "            a, b = b, a + b\n",
    "        return b\n",
    "\n",
    "# Test the function\n",
    "print(fibonacci_iterativ(35))"
   ]
  },
  {
   "cell_type": "code",
   "execution_count": null,
   "id": "77c778c8-d39a-4b1c-9f2b-6452536bbcfc",
   "metadata": {},
   "outputs": [],
   "source": []
  }
 ],
 "metadata": {
  "kernelspec": {
   "display_name": "Python 3 (ipykernel)",
   "language": "python",
   "name": "python3"
  },
  "language_info": {
   "codemirror_mode": {
    "name": "ipython",
    "version": 3
   },
   "file_extension": ".py",
   "mimetype": "text/x-python",
   "name": "python",
   "nbconvert_exporter": "python",
   "pygments_lexer": "ipython3",
   "version": "3.9.16"
  }
 },
 "nbformat": 4,
 "nbformat_minor": 5
}
