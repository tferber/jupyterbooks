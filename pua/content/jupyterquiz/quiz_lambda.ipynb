{
 "cells": [
  {
   "cell_type": "markdown",
   "id": "85bfe4b7-7dcf-4217-a13b-34677f8d4802",
   "metadata": {},
   "source": [
    "# Quiz lambda-Funktionen"
   ]
  },
  {
   "cell_type": "code",
   "execution_count": 1,
   "id": "f90f5900-e165-41be-997e-14e6141ebaeb",
   "metadata": {
    "tags": [
     "remove-input"
    ]
   },
   "outputs": [
    {
     "ename": "ModuleNotFoundError",
     "evalue": "No module named 'jupyterquiz'",
     "output_type": "error",
     "traceback": [
      "\u001b[0;31m---------------------------------------------------------------------------\u001b[0m",
      "\u001b[0;31mModuleNotFoundError\u001b[0m                       Traceback (most recent call last)",
      "Cell \u001b[0;32mIn[1], line 1\u001b[0m\n\u001b[0;32m----> 1\u001b[0m \u001b[38;5;28;01mfrom\u001b[39;00m \u001b[38;5;21;01mjupyterquiz\u001b[39;00m \u001b[38;5;28;01mimport\u001b[39;00m display_quiz\n\u001b[1;32m      2\u001b[0m display_quiz(\u001b[38;5;124m\"\u001b[39m\u001b[38;5;124mquiz_variables.json\u001b[39m\u001b[38;5;124m\"\u001b[39m, colors\u001b[38;5;241m=\u001b[39m\u001b[38;5;124m'\u001b[39m\u001b[38;5;124mfdsp\u001b[39m\u001b[38;5;124m'\u001b[39m)\n",
      "\u001b[0;31mModuleNotFoundError\u001b[0m: No module named 'jupyterquiz'"
     ]
    }
   ],
   "source": [
    "from jupyterquiz import display_quiz\n",
    "# git_path=\"https://github.com/tferber/jupyterbooks/tree/main/pua/content/jupyterquiz/\"\n",
    "# display_quiz(git_path + \"quiz_variablen.json\", colors='fdsp')\n",
    "\n",
    "q1=[{\n",
    "            \"question\": \"Was ist die Ausgabe des folgenden Codes\",\n",
    "            \"code\": \"def gen():\\n    yield 1\\n    yield 2\\n    yield 3\\n\\ng = gen()\\nprint(next(g))\\nprint(next(g))\\nprint(next(g))\\nprint(next(g))\",\n",
    "            \"type\": \"multiple_choice\",\n",
    "            \"answers\": [\n",
    "                {\n",
    "                    \"answer\": \"1 1 1 1\",\n",
    "                    \"correct\": False,\n",
    "                    \"feedback\": \"Falsch! yield() hält den Generator an. Beim nächsten Aufruf von next() läuft der Code weiter - bis zum nächsten yield().\"\n",
    "                },\n",
    "                {\n",
    "                    \"answer\": \"1 2 3 4\",\n",
    "                    \"correct\": False,\n",
    "                    \"feedback\": \"Falsch! yield() hält den Generator an. Beim nächsten Aufruf von next() läuft der Code weiter - bis zum nächsten yield(). Was passiert beim vierten Aufruf?\"\n",
    "                },\n",
    "                {\n",
    "                    \"answer\": \"1 2 3 StopIteration\",\n",
    "                    \"correct\": True,\n",
    "                    \"feedback\": \"Richtig! Das liegt daran, dass eine Generatorfunktion ein Generatorobjekt zurückgibt, über das mit der Funktion next() iteriert werden kann. Wenn die Generatorfunktion das Ende ihres Codes erreicht, löst sie eine StopIteration-Ausnahme aus, um zu signalisieren, dass es keine weiteren Werte mehr zu liefern gibt.\"\n",
    "                },\n",
    "                {\n",
    "                    \"answer\": \"SyntaxError\",\n",
    "                    \"correct\": False,\n",
    "                    \"feedback\": \"Falsch! Die Syntax dieses Codes ist einwandfrei.\"\n",
    "                },\n",
    "            ]\n",
    "    }]\n",
    "\n",
    "q2=[{\n",
    "            \"question\": \"Was ist die Ausgabe des folgenden Codes?\",\n",
    "            \"code\": \"def gen():\\n    for i in range(3):\\n        yield i\\n\\ng = gen()\\nprint(next(g))\\nprint(next(g))\\nprint(next(gen()))\\nprint(next(g))\\nprint(next(g))\",   \n",
    "            \"type\": \"multiple_choice\",\n",
    "            \"answers\": [\n",
    "                {\n",
    "                    \"answer\": \"0 1 0 2 StopIteration\",\n",
    "                    \"correct\": True,\n",
    "                    \"feedback\": \"Richtig! \"\n",
    "                },\n",
    "                {\n",
    "                    \"answer\": \"0 1 1 2 2\",\n",
    "                    \"correct\": False,\n",
    "                    \"feedback\": \"Falsch! Die Funktion gen ist eine Generatorfunktion, die in einer Schleife die Werte 0, 1 und 2 liefert. Die Variable g ist ein Generatorobjekt, das durch den Aufruf der Funktion gen erzeugt wird. Die Funktion next nimmt ein Generatorobjekt und gibt den nächsten Wert zurück oder löst eine StopIteration-Ausnahme aus, wenn es keine weiteren Werte gibt. Die ersten beiden Aufrufe von next(g) geben die Werte 0 bzw. 1 zurück und bringen das Generatorobjekt in den nächsten Zustand. Der dritte Aufruf von next(gen()) gibt den Wert 0 zurück, wirkt sich aber nicht auf die Variable g aus, da er ein neues Generatorobjekt erzeugt, das von g unabhängig ist. Der Aufruf von next(g) gibt den Wert 2 zurück, der der letzte Wert ist, den die Variable g liefert. Der letzte Aufruf erzeugt eine StopIteration-Ausnahme.\"\n",
    "                },\n",
    "                {\n",
    "                    \"answer\": \"0 1 2 StopIteration StopIteration\",\n",
    "                    \"correct\": False,\n",
    "                    \"feedback\": \"Falsch! Die Funktion gen ist eine Generatorfunktion, die in einer Schleife die Werte 0, 1 und 2 liefert. Die Variable g ist ein Generatorobjekt, das durch den Aufruf der Funktion gen erzeugt wird. Die Funktion next nimmt ein Generatorobjekt und gibt den nächsten Wert zurück oder löst eine StopIteration-Ausnahme aus, wenn es keine weiteren Werte gibt. Die ersten beiden Aufrufe von next(g) geben die Werte 0 bzw. 1 zurück und bringen das Generatorobjekt in den nächsten Zustand. Der dritte Aufruf von next(gen()) gibt den Wert 0 zurück, wirkt sich aber nicht auf die Variable g aus, da er ein neues Generatorobjekt erzeugt, das von g unabhängig ist. Der Aufruf von next(g) gibt den Wert 2 zurück, der der letzte Wert ist, den die Variable g liefert. Der letzte Aufruf erzeugt eine StopIteration-Ausnahme.\"\n",
    "                },\n",
    "                {\n",
    "                    \"answer\": \"0 1 StopIteration SyntaxError\",\n",
    "                    \"correct\": False,\n",
    "                    \"feedback\": \"Falsch! Die Funktion gen ist eine Generatorfunktion, die in einer Schleife die Werte 0, 1 und 2 liefert. Die Variable g ist ein Generatorobjekt, das durch den Aufruf der Funktion gen erzeugt wird. Die Funktion next nimmt ein Generatorobjekt und gibt den nächsten Wert zurück oder löst eine StopIteration-Ausnahme aus, wenn es keine weiteren Werte gibt. Die ersten beiden Aufrufe von next(g) geben die Werte 0 bzw. 1 zurück und bringen das Generatorobjekt in den nächsten Zustand. Der dritte Aufruf von next(gen()) gibt den Wert 0 zurück, wirkt sich aber nicht auf die Variable g aus, da er ein neues Generatorobjekt erzeugt, das von g unabhängig ist. Der Aufruf von next(g) gibt den Wert 2 zurück, der der letzte Wert ist, den die Variable g liefert. Der letzte Aufruf erzeugt eine StopIteration-Ausnahme.\"\n",
    "                },\n",
    "            ]\n",
    "    }]\n",
    "\n",
    "q3=[{\n",
    "            \"question\": \"Was ist die Ausgabe des folgenden Codes?\",\n",
    "            \"code\": \"def gen():\\n    yield from range(3)\\n\\ng = gen()\\nh = gen()\\nprint(next(g))\\nprint(next(h))\\nprint(next(g))\\nprint(next(h))\",\n",
    "            \"type\": \"multiple_choice\",\n",
    "            \"answers\": [\n",
    "                {\n",
    "                    \"answer\": \"0 0 1 1\",\n",
    "                    \"correct\": True,\n",
    "                    \"feedback\": \"Richtig! \"\n",
    "                },\n",
    "                {\n",
    "                    \"answer\": \"0 1 0 1\",\n",
    "                    \"correct\": False,\n",
    "                    \"feedback\": \"Falsch! Die Funktion gen ist eine Generatorfunktion, die die yield from-Syntax verwendet, um die Iteration an eine andere Iterable zu delegieren, die range(3) ist. Das bedeutet, dass die Funktion gen die Werte 0, 1 und 2 in einer Schleife ausgibt. Die Variablen g und h sind zwei verschiedene Generatorobjekte, die durch den Aufruf der Funktion gen erzeugt werden. Sie sind unabhängig voneinander und haben ihre eigenen Zustände. Die Funktion next nimmt ein Generatorobjekt und gibt den nächsten Wert zurück, den es liefert, oder löst eine StopIteration-Ausnahme aus, wenn es keine weiteren Werte gibt. Der erste Aufruf von next(g) gibt den Wert 0 zurück, also den ersten Wert, den die Variable g liefert, und bringt das Generatorobjekt in den nächsten Zustand. Der zweite Aufruf von next(h) gibt den Wert 0 zurück, der der erste von der Variable h gelieferte Wert ist, und schaltet das Generatorobjekt in den nächsten Zustand weiter. Dies hat keine Auswirkungen auf die Variable g, da es sich um getrennte Objekte handelt. Der dritte Aufruf von next(g) gibt den Wert 1 zurück, der der zweite Wert ist, den die Variable g liefert, und bringt das Generatorobjekt in den nächsten Zustand. Der vierte Aufruf von next(h) gibt den Wert 1 zurück, der der zweite von der Variable h gelieferte Wert ist, und schaltet das Generatorobjekt in den nächsten Zustand weiter. Dies hat keine Auswirkungen auf die Variable g, da es sich um getrennte Objekte handelt.\"\n",
    "                },\n",
    "                {\n",
    "                    \"answer\": \"0 1 2 StopIteration\",\n",
    "                    \"correct\": False,\n",
    "                    \"feedback\": \"Falsch! Die Funktion gen ist eine Generatorfunktion, die die yield from-Syntax verwendet, um die Iteration an eine andere Iterable zu delegieren, die range(3) ist. Das bedeutet, dass die Funktion gen die Werte 0, 1 und 2 in einer Schleife ausgibt. Die Variablen g und h sind zwei verschiedene Generatorobjekte, die durch den Aufruf der Funktion gen erzeugt werden. Sie sind unabhängig voneinander und haben ihre eigenen Zustände. Die Funktion next nimmt ein Generatorobjekt und gibt den nächsten Wert zurück, den es liefert, oder löst eine StopIteration-Ausnahme aus, wenn es keine weiteren Werte gibt. Der erste Aufruf von next(g) gibt den Wert 0 zurück, also den ersten Wert, den die Variable g liefert, und bringt das Generatorobjekt in den nächsten Zustand. Der zweite Aufruf von next(h) gibt den Wert 0 zurück, der der erste von der Variable h gelieferte Wert ist, und schaltet das Generatorobjekt in den nächsten Zustand weiter. Dies hat keine Auswirkungen auf die Variable g, da es sich um getrennte Objekte handelt. Der dritte Aufruf von next(g) gibt den Wert 1 zurück, der der zweite Wert ist, den die Variable g liefert, und bringt das Generatorobjekt in den nächsten Zustand. Der vierte Aufruf von next(h) gibt den Wert 1 zurück, der der zweite von der Variable h gelieferte Wert ist, und schaltet das Generatorobjekt in den nächsten Zustand weiter. Dies hat keine Auswirkungen auf die Variable g, da es sich um getrennte Objekte handelt.\"\n",
    "                },\n",
    "                {\n",
    "                    \"answer\": \"StopIteration StopIteration StopIteration StopIteration\",\n",
    "                    \"correct\": False,\n",
    "                    \"feedback\": \"Falsch! Die Funktion gen ist eine Generatorfunktion, die die yield from-Syntax verwendet, um die Iteration an eine andere Iterable zu delegieren, die range(3) ist. Das bedeutet, dass die Funktion gen die Werte 0, 1 und 2 in einer Schleife ausgibt. Die Variablen g und h sind zwei verschiedene Generatorobjekte, die durch den Aufruf der Funktion gen erzeugt werden. Sie sind unabhängig voneinander und haben ihre eigenen Zustände. Die Funktion next nimmt ein Generatorobjekt und gibt den nächsten Wert zurück, den es liefert, oder löst eine StopIteration-Ausnahme aus, wenn es keine weiteren Werte gibt. Der erste Aufruf von next(g) gibt den Wert 0 zurück, also den ersten Wert, den die Variable g liefert, und bringt das Generatorobjekt in den nächsten Zustand. Der zweite Aufruf von next(h) gibt den Wert 0 zurück, der der erste von der Variable h gelieferte Wert ist, und schaltet das Generatorobjekt in den nächsten Zustand weiter. Dies hat keine Auswirkungen auf die Variable g, da es sich um getrennte Objekte handelt. Der dritte Aufruf von next(g) gibt den Wert 1 zurück, der der zweite Wert ist, den die Variable g liefert, und bringt das Generatorobjekt in den nächsten Zustand. Der vierte Aufruf von next(h) gibt den Wert 1 zurück, der der zweite von der Variable h gelieferte Wert ist, und schaltet das Generatorobjekt in den nächsten Zustand weiter. Dies hat keine Auswirkungen auf die Variable g, da es sich um getrennte Objekte handelt.\"\n",
    "                },\n",
    "            ]\n",
    "    }]\n"
   ]
  },
  {
   "cell_type": "code",
   "execution_count": null,
   "id": "70fafc5c-07e8-4d5d-9070-dae8bf998f88",
   "metadata": {
    "tags": [
     "remove-input"
    ]
   },
   "outputs": [],
   "source": [
    "display_quiz(q1, colors='fdsp')\n",
    "display_quiz(q2, colors='fdsp')\n",
    "display_quiz(q3, colors='fdsp')\n"
   ]
  }
 ],
 "metadata": {
  "kernelspec": {
   "display_name": "Python 3 (ipykernel)",
   "language": "python",
   "name": "python3"
  },
  "language_info": {
   "codemirror_mode": {
    "name": "ipython",
    "version": 3
   },
   "file_extension": ".py",
   "mimetype": "text/x-python",
   "name": "python",
   "nbconvert_exporter": "python",
   "pygments_lexer": "ipython3",
   "version": "3.9.16"
  }
 },
 "nbformat": 4,
 "nbformat_minor": 5
}
