{
 "cells": [
  {
   "cell_type": "markdown",
   "id": "85bfe4b7-7dcf-4217-a13b-34677f8d4802",
   "metadata": {},
   "source": [
    "# Quiz lambda-Funktionen"
   ]
  },
  {
   "cell_type": "code",
   "execution_count": 4,
   "id": "f90f5900-e165-41be-997e-14e6141ebaeb",
   "metadata": {
    "tags": [
     "remove-input"
    ]
   },
   "outputs": [
    {
     "ename": "SyntaxError",
     "evalue": "invalid syntax (2525410522.py, line 8)",
     "output_type": "error",
     "traceback": [
      "\u001b[0;36m  Cell \u001b[0;32mIn[4], line 8\u001b[0;36m\u001b[0m\n\u001b[0;31m    \"type\": \"multiple_choice\",\u001b[0m\n\u001b[0m          ^\u001b[0m\n\u001b[0;31mSyntaxError\u001b[0m\u001b[0;31m:\u001b[0m invalid syntax\n"
     ]
    }
   ],
   "source": [
    "from jupyterquiz import display_quiz\n",
    "# git_path=\"https://github.com/tferber/jupyterbooks/tree/main/pua/content/jupyterquiz/\"\n",
    "# display_quiz(git_path + \"quiz_variablen.json\", colors='fdsp')\n",
    "\n",
    "q1=[{\n",
    "            \"question\": \"Was ist die Ausgabe des folgenden Codes\",\n",
    "            \"code\": \"x = lambda a, b: a * b\\nprint(x(5, 6))\",\n",
    "            \"type\": \"multiple_choice\",\n",
    "            \"answers\": [\n",
    "                {\n",
    "                    \"answer\": \"11\",\n",
    "                    \"correct\": False,\n",
    "                    \"feedback\": \"Falsch! Die Lambda-Funktion nimmt zwei Parameter a und b entgegen und gibt deren Produkt zurück. Die Funktion wird der Variablen x zugewiesen und dann mit den Argumenten 5 und 6 aufgerufen.\"\n",
    "                },\n",
    "                {\n",
    "                    \"answer\": \"30\",\n",
    "                    \"correct\": True,\n",
    "                    \"feedback\": \"Richtig!\"\n",
    "                },\n",
    "                {\n",
    "                    \"answer\": \"36\",\n",
    "                    \"correct\": False,\n",
    "                    \"feedback\": \"Falsch! Die Lambda-Funktion nimmt zwei Parameter a und b entgegen und gibt deren Produkt zurück. Die Funktion wird der Variablen x zugewiesen und dann mit den Argumenten 5 und 6 aufgerufen.\"\n",
    "                },\n",
    "                {\n",
    "                    \"answer\": \"SyntaxError\",\n",
    "                    \"correct\": False,\n",
    "                    \"feedback\": \"Falsch! Die Lambda-Funktion nimmt zwei Parameter a und b entgegen und gibt deren Produkt zurück. Die Funktion wird der Variablen x zugewiesen und dann mit den Argumenten 5 und 6 aufgerufen.\"\n",
    "                },\n",
    "            ]\n",
    "    }]\n",
    "\n",
    "q2=[{\n",
    "            \"question\": \"Was ist die Ausgabe des folgenden Codes?\",\n",
    "            \"code\": \"def myfunc(n):\\n    return lambda a: a * n\\n\\ntripler = myfunc(2)\\nprint(tripler(3))\",\n",
    "            \"type\": \"multiple_choice\",\n",
    "            \"answers\": [\n",
    "                {\n",
    "                    \"answer\": \"6\",\n",
    "                    \"correct\": True,\n",
    "                    \"feedback\": \"Richtig! \"\n",
    "                },\n",
    "                {\n",
    "                    \"answer\": \"9\",\n",
    "                    \"correct\": False,\n",
    "                    \"feedback\": \"Falsch! Die Funktion myfunc nimmt einen Parameter n an und gibt eine andere Lambda-Funktion zurück, die einen Parameter a annimmt und das Produkt von a und n zurückgibt. Die Funktion myfunc wird mit dem Argument 2 aufgerufen, und die zurückgegebene Lambda-Funktion wird der Variablen doubler zugewiesen. Die Variable tripler wird dann mit dem Argument 3 aufgerufen. Der Name der Funktion ist ein Beispiel für einen schlechten Funktionsnamen - diese Funktion verdreifacht nicht!\"\n",
    "                },\n",
    "                {\n",
    "                    \"answer\": \"12\",\n",
    "                    \"correct\": False,\n",
    "                    \"feedback\": \"Falsch! Die Funktion myfunc nimmt einen Parameter n an und gibt eine andere Lambda-Funktion zurück, die einen Parameter a annimmt und das Produkt von a und n zurückgibt. Die Funktion myfunc wird mit dem Argument 2 aufgerufen, und die zurückgegebene Lambda-Funktion wird der Variablen doubler zugewiesen. Die Variable tripler wird dann mit dem Argument 3 aufgerufen. Der Name der Funktion ist ein Beispiel für einen schlechten Funktionsnamen - diese Funktion verdreifacht nicht!\"\n",
    "                },\n",
    "                {\n",
    "                    \"answer\": \"NameError\",\n",
    "                    \"correct\": False,\n",
    "                    \"feedback\": \"Falsch! Die Funktion myfunc nimmt einen Parameter n an und gibt eine andere Lambda-Funktion zurück, die einen Parameter a annimmt und das Produkt von a und n zurückgibt. Die Funktion myfunc wird mit dem Argument 2 aufgerufen, und die zurückgegebene Lambda-Funktion wird der Variablen doubler zugewiesen. Die Variable tripler wird dann mit dem Argument 3 aufgerufen. Der Name der Funktion ist ein Beispiel für einen schlechten Funktionsnamen - diese Funktion verdreifacht nicht!\"\n",
    "                },\n",
    "            ]\n",
    "    }]\n",
    "\n",
    "q3=[{\n",
    "            \"question\": \"Was ist die Ausgabe des folgenden Codes?\",\n",
    "            \"code\": \"nums = [1, 2, 3, 4, 5]\\nvalues = list(map(lambda x: x ** 2, nums))\\nprint(values)\",\n",
    "            \"type\": \"multiple_choice\",\n",
    "            \"answers\": [\n",
    "                {\n",
    "                    \"answer\": \"[1, 4, 9, 16, 25]\",\n",
    "                    \"correct\": True,\n",
    "                    \"feedback\": \"Richtig! \"\n",
    "                },\n",
    "                {\n",
    "                    \"answer\": \"[1, 2, 9, 16, 25]\",\n",
    "                    \"correct\": False,\n",
    "                    \"feedback\": \"Falsch! Die eingebaute Funktion map nimmt ein Funktionsobjekt und eine Iterable als Argumente und gibt einen Iterator zurück, der die Funktion auf jedes Element der Iterable anwendet. Die Lambda-Funktion nimmt einen Parameter x entgegen und gibt dessen Quadrat zurück. Die Funktion map wird mit der Lambda-Funktion und der Liste nums als Argumente aufgerufen, und der zurückgegebene Iterator wird mit der eingebauten Funktion list in eine Liste umgewandelt. Die Liste squared enthält die Quadrate der einzelnen Elemente in nums.\"\n",
    "                },\n",
    "                {\n",
    "                    \"answer\": \"[1, 4, 9, 16]\",\n",
    "                    \"correct\": False,\n",
    "                    \"feedback\": \"Falsch! Die eingebaute Funktion map nimmt ein Funktionsobjekt und eine Iterable als Argumente und gibt einen Iterator zurück, der die Funktion auf jedes Element der Iterable anwendet. Die Lambda-Funktion nimmt einen Parameter x entgegen und gibt dessen Quadrat zurück. Die Funktion map wird mit der Lambda-Funktion und der Liste nums als Argumente aufgerufen, und der zurückgegebene Iterator wird mit der eingebauten Funktion list in eine Liste umgewandelt. Die Liste squared enthält die Quadrate der einzelnen Elemente in nums.\"\n",
    "                },\n",
    "                {\n",
    "                    \"answer\": \"TypeError\",\n",
    "                    \"correct\": False,\n",
    "                    \"feedback\": \"Falsch! Die eingebaute Funktion map nimmt ein Funktionsobjekt und eine Iterable als Argumente und gibt einen Iterator zurück, der die Funktion auf jedes Element der Iterable anwendet. Die Lambda-Funktion nimmt einen Parameter x entgegen und gibt dessen Quadrat zurück. Die Funktion map wird mit der Lambda-Funktion und der Liste nums als Argumente aufgerufen, und der zurückgegebene Iterator wird mit der eingebauten Funktion list in eine Liste umgewandelt. Die Liste squared enthält die Quadrate der einzelnen Elemente in nums.\"\n",
    "                },\n",
    "            ]\n",
    "    }]\n"
   ]
  },
  {
   "cell_type": "code",
   "execution_count": null,
   "id": "70fafc5c-07e8-4d5d-9070-dae8bf998f88",
   "metadata": {
    "tags": [
     "remove-input"
    ]
   },
   "outputs": [],
   "source": [
    "display_quiz(q1, colors='fdsp')\n",
    "display_quiz(q2, colors='fdsp')\n",
    "display_quiz(q3, colors='fdsp')\n"
   ]
  }
 ],
 "metadata": {
  "kernelspec": {
   "display_name": "Python 3 (ipykernel)",
   "language": "python",
   "name": "python3"
  },
  "language_info": {
   "codemirror_mode": {
    "name": "ipython",
    "version": 3
   },
   "file_extension": ".py",
   "mimetype": "text/x-python",
   "name": "python",
   "nbconvert_exporter": "python",
   "pygments_lexer": "ipython3",
   "version": "3.9.16"
  }
 },
 "nbformat": 4,
 "nbformat_minor": 5
}
