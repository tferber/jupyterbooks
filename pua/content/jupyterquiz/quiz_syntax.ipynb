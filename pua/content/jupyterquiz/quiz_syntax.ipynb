{
 "cells": [
  {
   "cell_type": "markdown",
   "id": "85bfe4b7-7dcf-4217-a13b-34677f8d4802",
   "metadata": {},
   "source": [
    "# Quiz Syntax und Semantik\n",
    " "
   ]
  },
  {
   "cell_type": "code",
   "execution_count": 1,
   "id": "f90f5900-e165-41be-997e-14e6141ebaeb",
   "metadata": {
    "tags": [
     "remove-input"
    ]
   },
   "outputs": [
    {
     "ename": "ModuleNotFoundError",
     "evalue": "No module named 'jupyterquiz'",
     "output_type": "error",
     "traceback": [
      "\u001b[0;31m---------------------------------------------------------------------------\u001b[0m",
      "\u001b[0;31mModuleNotFoundError\u001b[0m                       Traceback (most recent call last)",
      "Cell \u001b[0;32mIn[1], line 1\u001b[0m\n\u001b[0;32m----> 1\u001b[0m \u001b[38;5;28;01mfrom\u001b[39;00m \u001b[38;5;21;01mjupyterquiz\u001b[39;00m \u001b[38;5;28;01mimport\u001b[39;00m display_quiz\n\u001b[1;32m      2\u001b[0m display_quiz(\u001b[38;5;124m\"\u001b[39m\u001b[38;5;124mquiz_variables.json\u001b[39m\u001b[38;5;124m\"\u001b[39m, colors\u001b[38;5;241m=\u001b[39m\u001b[38;5;124m'\u001b[39m\u001b[38;5;124mfdsp\u001b[39m\u001b[38;5;124m'\u001b[39m)\n",
      "\u001b[0;31mModuleNotFoundError\u001b[0m: No module named 'jupyterquiz'"
     ]
    }
   ],
   "source": [
    "from jupyterquiz import display_quiz\n",
    "\n",
    "q1=[{\n",
    "            \"question\": \"Welche der folgenden Zeichenketten sind erlaubt?\",\n",
    "            \"type\": \"multiple_choice\",\n",
    "            \"answers\": [\n",
    "                {\n",
    "                    \"answer\": \"\\\"Haus\\\"\",\n",
    "                    \"correct\": True,\n",
    "                    \"feedback\": \"Richtig! Das ist eine ganz normale, langweilige Zeichenkennte mit einem Wort.\"\n",
    "                },\n",
    "                {\n",
    "                    \"answer\": \"\\\"Haus@See\\\"\",\n",
    "                    \"correct\": True,\n",
    "                    \"feedback\": \"Richtig! Die Zeichenkette enthält zwar ein Sonderzeichen, aber das ist erlaubt.\"\n",
    "                },\n",
    "                {\n",
    "                    \"answer\": \"\\\"493.330\\\"\",\n",
    "                    \"correct\": True,\n",
    "                    \"feedback\": \"Richtig! Das ist eine erlaubte Zeichenkette - sie beschreibt aber keine Gleitkommazahl, obwohl sie so aussieht.\"\n",
    "                },\n",
    "                {\n",
    "                    \"answer\": \"\\\"Haus\\'\",\n",
    "                    \"correct\": False,\n",
    "                    \"feedback\": \"Falsch! Diese Zeichenkette ist mit anderen Anführungszeichen beendet als begonnen. Dies führt zu einem SyntaxError (unterminated string literal).\"\n",
    "                },\n",
    "                {\n",
    "                    \"answer\": \"\\\"Haus am See\\\"\",\n",
    "                    \"correct\": True,\n",
    "                    \"feedback\": \"Richtig! Diese Zeichenkette enthält zwar Leerzeichen, aber das ist erlaubt. Zeichenketten können durch einfache oder doppelte Anführungszeichen gekennzeichnet werden.\"\n",
    "                },\n",
    "                {\n",
    "                    \"answer\": \"\\'Haus am See\\'\",\n",
    "                    \"correct\": True,\n",
    "                    \"feedback\": \"Richtig! Diese Zeichenkette enthält zwar Leerzeichen, aber das ist erlaubt. Zeichenketten können durch einfache oder doppelte Anführungszeichen gekennzeichnet werden.\"\n",
    "                }\n",
    "            ]\n",
    "    }]\n",
    "\n",
    "q2=[{\n",
    "            \"question\": \"Was ist type(5)?\",\n",
    "            \"type\": \"multiple_choice\",\n",
    "            \"answers\": [\n",
    "                {\n",
    "                    \"answer\": \"int\",\n",
    "                    \"correct\": True,\n",
    "                    \"feedback\": \"Richtig! 5 ist eine ganze Zahl, in Python durch das Datenobjekt `int` beschrieben.\"\n",
    "                },\n",
    "                {\n",
    "                    \"answer\": \"float\",\n",
    "                    \"correct\": False,\n",
    "                    \"feedback\": \"Falsch! 5 ist eine ganze Zahl, in Python durch das Datenobjekt `int` beschrieben.\"\n",
    "                },\n",
    "                {\n",
    "                    \"answer\": \"string\",\n",
    "                    \"correct\": False,\n",
    "                    \"feedback\": \"Falsch! 5 ist eine ganze Zahl, in Python durch das Datenobjekt `int` beschrieben.\"\n",
    "                },\n",
    "            ]\n",
    "    }]\n",
    "\n",
    "q3=[{\n",
    "            \"question\": \"Was ist type(\\\"26.3\\\")?\",\n",
    "            \"type\": \"multiple_choice\",\n",
    "            \"answers\": [\n",
    "                {\n",
    "                    \"answer\": \"int\",\n",
    "                    \"correct\": False,\n",
    "                    \"feedback\": \"Falsch! \\\"26.3\\\" ist eine Zeichenkette da sie durch Anführungszeichen begrenzt wird. Es sieht aus wie eine Gleitkommazahl (die durch `float` beschrieben würde), ist aber keine.\"\n",
    "                },\n",
    "                {\n",
    "                    \"answer\": \"float\",\n",
    "                    \"correct\": False,\n",
    "                    \"feedback\": \"Falsch! \\\"26.3\\\" ist eine Zeichenkette da sie durch Anführungszeichen begrenzt wird. Es sieht aus wie eine Gleitkommazahl, ist aber keine.\"\n",
    "                },\n",
    "                {\n",
    "                    \"answer\": \"string\",\n",
    "                    \"correct\": True,\n",
    "                    \"feedback\": \"Richtig! \\\"26.3\\\" ist eine Zeichenkette da sie durch Anführungszeichen begrenzt wird.\"\n",
    "                },\n",
    "            ]\n",
    "    }]\n"
   ]
  },
  {
   "cell_type": "code",
   "execution_count": null,
   "id": "70fafc5c-07e8-4d5d-9070-dae8bf998f88",
   "metadata": {
    "tags": [
     "remove-input"
    ]
   },
   "outputs": [],
   "source": [
    "display_quiz(q1, colors='fdsp')\n",
    "display_quiz(q2, colors='fdsp')\n",
    "display_quiz(q3, colors='fdsp')\n"
   ]
  }
 ],
 "metadata": {
  "kernelspec": {
   "display_name": "Python 3 (ipykernel)",
   "language": "python",
   "name": "python3"
  },
  "language_info": {
   "codemirror_mode": {
    "name": "ipython",
    "version": 3
   },
   "file_extension": ".py",
   "mimetype": "text/x-python",
   "name": "python",
   "nbconvert_exporter": "python",
   "pygments_lexer": "ipython3",
   "version": "3.9.16"
  }
 },
 "nbformat": 4,
 "nbformat_minor": 5
}
