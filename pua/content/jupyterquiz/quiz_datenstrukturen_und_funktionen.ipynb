{
 "cells": [
  {
   "cell_type": "markdown",
   "id": "e192d6ad-b82f-46fd-b3ca-476c04af8dcb",
   "metadata": {},
   "source": [
    "# Quiz Datenstrukturen und Funktionen"
   ]
  },
  {
   "cell_type": "code",
   "execution_count": 1,
   "id": "f90f5900-e165-41be-997e-14e6141ebaeb",
   "metadata": {
    "tags": [
     "remove-input"
    ]
   },
   "outputs": [
    {
     "ename": "ModuleNotFoundError",
     "evalue": "No module named 'jupyterquiz'",
     "output_type": "error",
     "traceback": [
      "\u001b[0;31m---------------------------------------------------------------------------\u001b[0m",
      "\u001b[0;31mModuleNotFoundError\u001b[0m                       Traceback (most recent call last)",
      "Cell \u001b[0;32mIn[1], line 1\u001b[0m\n\u001b[0;32m----> 1\u001b[0m \u001b[38;5;28;01mfrom\u001b[39;00m \u001b[38;5;21;01mjupyterquiz\u001b[39;00m \u001b[38;5;28;01mimport\u001b[39;00m display_quiz\n\u001b[1;32m      2\u001b[0m display_quiz(\u001b[38;5;124m\"\u001b[39m\u001b[38;5;124mquiz_variables.json\u001b[39m\u001b[38;5;124m\"\u001b[39m, colors\u001b[38;5;241m=\u001b[39m\u001b[38;5;124m'\u001b[39m\u001b[38;5;124mfdsp\u001b[39m\u001b[38;5;124m'\u001b[39m)\n",
      "\u001b[0;31mModuleNotFoundError\u001b[0m: No module named 'jupyterquiz'"
     ]
    }
   ],
   "source": [
    "from jupyterquiz import display_quiz\n",
    "\n",
    "explanation = 'Dies ist einer der bekanntesten Python Fehler überhaupt :). Der Standardwert für ein Funktionsargument wird in Python nur einmal ausgewertet, nämlich zu dem Zeitpunkt, zu dem die Funktion definiert wird. Jedes Mal, wenn foo aufgerufen wird, wird also an dieselbe Liste x angehängt.'\n",
    "q1=[{\n",
    "            \"question\": \"Was ist das Ergebnis des folgenden Codes?\",\n",
    "            \"code\": \"def foo(i, x=[]):\\n    x.append(i)\\n    return x\\n\\nfor i in range(3):\\n    print(foo(i))\\n\",\n",
    "            \"type\": \"multiple_choice\",\n",
    "            \"answers\": [\n",
    "                {\n",
    "                    \"answer\": \"[0] [1] [2]\",\n",
    "                    \"correct\": False,\n",
    "                    \"feedback\": f\"Das hätten sie wohl gerne! Aber sie sind nicht alleine: {explanation}\"\n",
    "                },\n",
    "                {\n",
    "                    \"answer\": \"[0] [0, 1] [0, 1, 2]\",\n",
    "                    \"correct\": True,\n",
    "                    \"feedback\": f\"Richtig! {explanation}\"\n",
    "                },\n",
    "                {\n",
    "                    \"answer\": \"[0, 1, 2] [0, 1, 2] [0, 1, 2]\",\n",
    "                    \"correct\": False,\n",
    "                    \"feedback\": f\"Falsch! {explanation}\",\n",
    "                },\n",
    "                {\n",
    "                    \"answer\": \"None\",\n",
    "                    \"correct\": False,\n",
    "                    \"feedback\": \"Falsch!\"\n",
    "                },\n",
    "            ]\n",
    "    }]\n",
    "\n",
    "q2=[{\n",
    "            \"question\": \"Welche der folgenden Operation fügen einer Liste `t` eine Ganzzahl `x` als Element hinzu?\",\n",
    "            \"code\": \"A: t.append(x)\\nB: t += [x]\\nC: t.append([x])\\nD: t = t + x\",\n",
    "            \"type\": \"multiple_choice\",\n",
    "            \"answers\": [\n",
    "                {\n",
    "                    \"answer\": \"A und B\",\n",
    "                    \"correct\": True,\n",
    "                    \"feedback\": f\"Richtig!\",\n",
    "                },\n",
    "                {\n",
    "                    \"answer\": \"A und C\",\n",
    "                    \"correct\": False,\n",
    "                    \"feedback\": f\"Falsch! C ist erlaubt, fügt der Liste aber Liste mit dem Wert x hinzu.\",\n",
    "                },\n",
    "                {\n",
    "                    \"answer\": \"B und D\",\n",
    "                    \"correct\": False,\n",
    "                    \"feedback\": f\"Falsch! Addition von Listen (t) und Werten (x) ist ein SyntaxError.\",\n",
    "                },\n",
    "                {\n",
    "                    \"answer\": \"Alle\",\n",
    "                    \"correct\": False,\n",
    "                    \"feedback\": \"Falsch!\"\n",
    "                },\n",
    "            ]\n",
    "    }]\n",
    "\n",
    "q3=[{\n",
    "            \"question\": \"Was ist das Ergebnis des folgenden Codes?\",\n",
    "            \"code\": \"meine_liste = [1, 2, 3, 4, ]\\ndef entferne_erste_zeile(meine_liste):\\n\\n    meine_liste = meine_liste[1:]\\n\\nentferne_erste_zeile(meine_liste)\\nprint(meine_liste)\",\n",
    "            \"type\": \"multiple_choice\",\n",
    "            \"answers\": [\n",
    "                {\n",
    "                    \"answer\": \"[2, 3, 4]\",\n",
    "                    \"correct\": False,\n",
    "                    \"feedback\": f\"Falsch! Zuweisungen innerhalb einer Funktion verlieren ihre Gültigkeit wenn die Funktion verlassen wird. Durch die Zuweisung wird eine neue Referenz erzeugt die die urpsrüngliche Liste nicht ändert.\",\n",
    "                },\n",
    "                {\n",
    "                    \"answer\": \"[1, 2, 3]\",\n",
    "                    \"correct\": False,\n",
    "                    \"feedback\": f\"Falsch! Zuweisungen innerhalb einer Funktion verlieren ihre Gültigkeit wenn die Funktion verlassen wird. Durch die Zuweisung wird eine neue Referenz erzeugt die die urpsrüngliche Liste nicht ändert.\",\n",
    "                },\n",
    "                {\n",
    "                    \"answer\": \"[1, 2, 3, 4]\",\n",
    "                    \"correct\": True,\n",
    "                    \"feedback\": f\"Richtig! Die Funktion hat keinerlei Effekt auf die ursprüngliche Liste.\",\n",
    "                },\n",
    "                {\n",
    "                    \"answer\": \"None\",\n",
    "                    \"correct\": False,\n",
    "                    \"feedback\": \"Falsch!\"\n",
    "                },\n",
    "            ]\n",
    "    }]\n",
    "\n"
   ]
  },
  {
   "cell_type": "code",
   "execution_count": null,
   "id": "70fafc5c-07e8-4d5d-9070-dae8bf998f88",
   "metadata": {
    "tags": [
     "remove-input"
    ]
   },
   "outputs": [],
   "source": [
    "display_quiz(q1, colors='fdsp')\n",
    "display_quiz(q2, colors='fdsp')\n",
    "display_quiz(q3, colors='fdsp')\n"
   ]
  },
  {
   "cell_type": "code",
   "execution_count": null,
   "id": "fa018531-1c85-4006-a849-84907a97cfd8",
   "metadata": {},
   "outputs": [],
   "source": []
  }
 ],
 "metadata": {
  "kernelspec": {
   "display_name": "Python 3 (ipykernel)",
   "language": "python",
   "name": "python3"
  },
  "language_info": {
   "codemirror_mode": {
    "name": "ipython",
    "version": 3
   },
   "file_extension": ".py",
   "mimetype": "text/x-python",
   "name": "python",
   "nbconvert_exporter": "python",
   "pygments_lexer": "ipython3",
   "version": "3.9.16"
  }
 },
 "nbformat": 4,
 "nbformat_minor": 5
}
