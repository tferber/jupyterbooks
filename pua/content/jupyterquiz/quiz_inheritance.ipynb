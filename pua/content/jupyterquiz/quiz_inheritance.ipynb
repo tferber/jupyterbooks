{
 "cells": [
  {
   "cell_type": "markdown",
   "id": "e192d6ad-b82f-46fd-b3ca-476c04af8dcb",
   "metadata": {},
   "source": [
    "# Quiz Vererbung"
   ]
  },
  {
   "cell_type": "code",
   "execution_count": 1,
   "id": "f90f5900-e165-41be-997e-14e6141ebaeb",
   "metadata": {
    "tags": [
     "remove-input"
    ]
   },
   "outputs": [
    {
     "ename": "ModuleNotFoundError",
     "evalue": "No module named 'jupyterquiz'",
     "output_type": "error",
     "traceback": [
      "\u001b[0;31m---------------------------------------------------------------------------\u001b[0m",
      "\u001b[0;31mModuleNotFoundError\u001b[0m                       Traceback (most recent call last)",
      "Cell \u001b[0;32mIn[1], line 1\u001b[0m\n\u001b[0;32m----> 1\u001b[0m \u001b[38;5;28;01mfrom\u001b[39;00m \u001b[38;5;21;01mjupyterquiz\u001b[39;00m \u001b[38;5;28;01mimport\u001b[39;00m display_quiz\n\u001b[1;32m      2\u001b[0m display_quiz(\u001b[38;5;124m\"\u001b[39m\u001b[38;5;124mquiz_variables.json\u001b[39m\u001b[38;5;124m\"\u001b[39m, colors\u001b[38;5;241m=\u001b[39m\u001b[38;5;124m'\u001b[39m\u001b[38;5;124mfdsp\u001b[39m\u001b[38;5;124m'\u001b[39m)\n",
      "\u001b[0;31mModuleNotFoundError\u001b[0m: No module named 'jupyterquiz'"
     ]
    }
   ],
   "source": [
    "from jupyterquiz import display_quiz\n",
    "\n",
    "q1=[{\n",
    "            \"question\": \"Was ist das Ergebnis des folgenden Codes?\",\n",
    "            \"code\": \"class Animal:\\n    def __init__(self, name):\\n        self.name = name\\n\\n    def sound(self):\\n        return \\\"Unknown\\\"\\n\\nclass Dog(Animal):\\n\\n   def sound(self):\\n        return \\\"Woof\\\"\\n\\ndog = Dog(\\\"Rex\\\")\\nprint(dog.name, dog.sound())\",\n",
    "            \"type\": \"multiple_choice\",\n",
    "            \"answers\": [\n",
    "                {\n",
    "                    \"answer\": \"Rex, Woof\",\n",
    "                    \"correct\": True,\n",
    "                    \"feedback\": \"Richtig!\"\n",
    "                },\n",
    "                {\n",
    "                    \"answer\": \"Rex, Unknown\",\n",
    "                    \"correct\": False,\n",
    "                    \"feedback\": \"Falsch! Die Klasse Dog erbt von der Klasse Animal, was bedeutet, dass sie alle Attribute und Methoden der Klasse Animal sowie einige zusätzliche besitzt. Die Klasse Dog überschreibt die Methode sound, um einen anderen Wert für den Hund zurückzugeben, nämlich \\\"Woof\\\". Das Hundeobjekt ist eine Instanz der Klasse Dog und hat ein Attribut name, das in der Methode __init__ der Klasse Animal auf \\\"Rex\\\" initialisiert wird. Die Druckanweisung zeigt den Namen und den Ton des Hundeobjekts an, nämlich \\\"Rex\\\" und \\\"Woof\\\".\"\n",
    "                },\n",
    "                {\n",
    "                    \"answer\":\"Dog, SyntaxError\",\n",
    "                    \"correct\": False,\n",
    "                    \"feedback\": \"Falsch! Die Klasse Dog erbt von der Klasse Animal, was bedeutet, dass sie alle Attribute und Methoden der Klasse Animal sowie einige zusätzliche besitzt. Die Klasse Dog überschreibt die Methode sound, um einen anderen Wert für den Hund zurückzugeben, nämlich \\\"Woof\\\". Das Hundeobjekt ist eine Instanz der Klasse Dog und hat ein Attribut name, das in der Methode __init__ der Klasse Animal auf \\\"Rex\\\" initialisiert wird. Die Druckanweisung zeigt den Namen und den Ton des Hundeobjekts an, nämlich \\\"Rex\\\" und \\\"Woof\\\".\"\n",
    "                },\n",
    "                {\n",
    "                    \"answer\":\"Dog, Woof\",\n",
    "                    \"correct\": False,\n",
    "                    \"feedback\": \"Falsch! Die Klasse Dog erbt von der Klasse Animal, was bedeutet, dass sie alle Attribute und Methoden der Klasse Animal sowie einige zusätzliche besitzt. Die Klasse Dog überschreibt die Methode sound, um einen anderen Wert für den Hund zurückzugeben, nämlich \\\"Woof\\\". Das Hundeobjekt ist eine Instanz der Klasse Dog und hat ein Attribut name, das in der Methode __init__ der Klasse Animal auf \\\"Rex\\\" initialisiert wird. Die Druckanweisung zeigt den Namen und den Ton des Hundeobjekts an, nämlich \\\"Rex\\\" und \\\"Woof\\\".\"\n",
    "                },\n",
    "                {\n",
    "                    \"answer\":\"Cat, Meow\",\n",
    "                    \"correct\": False,\n",
    "                    \"feedback\": \"Falsch! :)\"\n",
    "                },\n",
    "            ]\n",
    "    }]\n",
    "\n",
    "\n",
    "q2=[{\n",
    "            \"question\": \"Was ist das Ergebnis des folgenden Codes?\",\n",
    "            \"code\": \"class A:\\n    def show(self):\\n        print(\\\"A\\\")\\nclass B(A):\\n    def show(self):\\n        print(\\\"B\\\")\\nclass C(A):\\n    def show(self):\\n        print(\\\"C\\\")\\nclass D(B, C):\\n    pass\\n\\nr = D()\\nr.show()\",\n",
    "            \"type\": \"multiple_choice\",\n",
    "            \"answers\": [\n",
    "                {\n",
    "                    \"answer\": \"A\",\n",
    "                    \"correct\": False,\n",
    "                    \"feedback\": \"Falsch! Python verwendet hier eine sog. Method Resolution Order (MRO) um die Reihenfolge zu bestimmen, in der in einer Klassenhierarchie nach Methoden gesucht wird. MRO ist besonders wichtig für die Mehrfachvererbung, bei der eine Klasse mehr als eine Elternklasse haben kann. Das Grundprinzip von MRO besteht darin, dass die Reihenfolge der Basisklassen beibehalten wird und auch das erste Auftreten jeder Klasse in der Basisliste beibehalten wird. Wenn wir zum Beispiel eine Klasse D haben, die von den Klassen B und C erbt, und sowohl B als auch C erben von der Klasse A, dann ist die MRO von D: D -> B -> C -> A. Das bedeutet, dass Python zuerst in D, dann in B, dann in C und schließlich in A nach einer Methode sucht. Wenn die Methode in keiner dieser Klassen gefunden wird, wird ein AttributeError ausgelöst.\"\n",
    "                },\n",
    "                {\n",
    "                    \"answer\": \"B\",\n",
    "                    \"correct\": True,\n",
    "                    \"feedback\": \"Richtig! Python verwendet hier eine sog. Method Resolution Order (MRO) um die Reihenfolge zu bestimmen, in der in einer Klassenhierarchie nach Methoden gesucht wird. \"\n",
    "                },\n",
    "                {\n",
    "                    \"answer\":\"C\",\n",
    "                    \"correct\": False,\n",
    "                    \"feedback\": \"Falsch! Python verwendet hier eine sog. Method Resolution Order (MRO) um die Reihenfolge zu bestimmen, in der in einer Klassenhierarchie nach Methoden gesucht wird. MRO ist besonders wichtig für die Mehrfachvererbung, bei der eine Klasse mehr als eine Elternklasse haben kann. Das Grundprinzip von MRO besteht darin, dass die Reihenfolge der Basisklassen beibehalten wird und auch das erste Auftreten jeder Klasse in der Basisliste beibehalten wird. Wenn wir zum Beispiel eine Klasse D haben, die von den Klassen B und C erbt, und sowohl B als auch C erben von der Klasse A, dann ist die MRO von D: D -> B -> C -> A. Das bedeutet, dass Python zuerst in D, dann in B, dann in C und schließlich in A nach einer Methode sucht. Wenn die Methode in keiner dieser Klassen gefunden wird, wird ein AttributeError ausgelöst.\"\n",
    "                },\n",
    "                {\n",
    "                    \"answer\":\"AttributeError\",\n",
    "                    \"correct\": False,\n",
    "                    \"feedback\": \"Falsch! Python verwendet hier eine sog. Method Resolution Order (MRO) um die Reihenfolge zu bestimmen, in der in einer Klassenhierarchie nach Methoden gesucht wird. MRO ist besonders wichtig für die Mehrfachvererbung, bei der eine Klasse mehr als eine Elternklasse haben kann. Das Grundprinzip von MRO besteht darin, dass die Reihenfolge der Basisklassen beibehalten wird und auch das erste Auftreten jeder Klasse in der Basisliste beibehalten wird. Wenn wir zum Beispiel eine Klasse D haben, die von den Klassen B und C erbt, und sowohl B als auch C erben von der Klasse A, dann ist die MRO von D: D -> B -> C -> A. Das bedeutet, dass Python zuerst in D, dann in B, dann in C und schließlich in A nach einer Methode sucht. Wenn die Methode in keiner dieser Klassen gefunden wird, wird ein AttributeError ausgelöst - dies ist hier aber nicht der Fall!\"\n",
    "                },\n",
    "            ]\n",
    "    }]\n",
    "\n",
    "q3=[{\n",
    "            \"question\": \"Was ist das Ergebnis des folgenden Codes?\",\n",
    "            \"code\": \"class A:\\n    def __init__(self, x):\\n        self.x = x\\n\\nclass B(A):\\n    def __init__(self, x, y):\\n        self.y = y\\n\\nclass C(B):\\n    def __init__(self, x, y, z):\\n        super().__init__(x, y)\\n        self.z = z\\n\\nc = C(1, 2, 3)\\nprint(c.x)\\n\",\n",
    "    \"type\": \"multiple_choice\",\n",
    "            \"answers\": [\n",
    "                {\n",
    "                    \"answer\": \"1\",\n",
    "                    \"correct\": False,\n",
    "                    \"feedback\": \"Falsch! Gucken sie sich die Definition von class B(A) nochmal genau an... fehlt hier nicht etwas?\"\n",
    "                },\n",
    "                {\n",
    "                    \"answer\": \"2\",\n",
    "                    \"correct\": False,\n",
    "                    \"feedback\": \"Falsch! Gucken sie sich die Definition von class B(A) nochmal genau an... fehlt hier nicht etwas?\"\n",
    "                },\n",
    "                {\n",
    "                    \"answer\":\"3\",\n",
    "                    \"correct\": False,\n",
    "                    \"feedback\": \"Falsch! Gucken sie sich die Definition von class B(A) nochmal genau an... fehlt hier nicht etwas?\"\n",
    "                },\n",
    "                {\n",
    "                    \"answer\":\"AttributeError\",\n",
    "                    \"correct\": True,\n",
    "                    \"feedback\": \"Richtig! Wie können sie diesen Fehler beheben?\"\n",
    "                },\n",
    "            ]\n",
    "    }]\n",
    "\n"
   ]
  },
  {
   "cell_type": "code",
   "execution_count": null,
   "id": "70fafc5c-07e8-4d5d-9070-dae8bf998f88",
   "metadata": {
    "tags": [
     "remove-input"
    ]
   },
   "outputs": [],
   "source": [
    "display_quiz(q1, colors='fdsp')\n",
    "display_quiz(q2, colors='fdsp')\n",
    "display_quiz(q3, colors='fdsp')"
   ]
  }
 ],
 "metadata": {
  "kernelspec": {
   "display_name": "Python 3 (ipykernel)",
   "language": "python",
   "name": "python3"
  },
  "language_info": {
   "codemirror_mode": {
    "name": "ipython",
    "version": 3
   },
   "file_extension": ".py",
   "mimetype": "text/x-python",
   "name": "python",
   "nbconvert_exporter": "python",
   "pygments_lexer": "ipython3",
   "version": "3.9.16"
  }
 },
 "nbformat": 4,
 "nbformat_minor": 5
}
