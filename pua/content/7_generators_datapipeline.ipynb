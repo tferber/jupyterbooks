{
 "cells": [
  {
   "cell_type": "markdown",
   "id": "cda89431-2f7f-4e72-8bb8-b850ba7c1875",
   "metadata": {},
   "source": [
    "# Generators Data Pipeline"
   ]
  },
  {
   "cell_type": "markdown",
   "id": "14a6c34e-eafb-4588-8d7f-e9fd905164ff",
   "metadata": {},
   "source": [
    "Eine Datenpipeline ist ein Verfahren zur stufenweisen Verarbeitung von Daten, bei dem die Ausgabe einer Stufe die Eingabe der nächsten Stufe ist. Generatoren sind für die Erstellung von Datenpipelines nützlich, da sie Daten nach und nach erzeugen können, ohne alle Daten auf einmal im Speicher zu speichern.\n",
    "\n",
    "In diesem Beispiel verwenden wir eine Liste von Listen, um die Daten zu repräsentieren, anstatt sie aus einer Datei zu lesen. Wir verwenden zwei Generatorfunktionen, um die Daten zu filtern und Statistiken zu berechnen."
   ]
  },
  {
   "cell_type": "code",
   "execution_count": 1,
   "id": "872714e2-098c-4d2c-98f7-c0a2a794c14c",
   "metadata": {},
   "outputs": [
    {
     "name": "stdout",
     "output_type": "stream",
     "text": [
      "Total: 15000000.00, Count: 1, Average: 15000000.00\n",
      "Total: 35000000.00, Count: 2, Average: 17500000.00\n",
      "Total: 75000000.00, Count: 3, Average: 25000000.00\n",
      "Total: 85000000.00, Count: 4, Average: 21250000.00\n",
      "Total: 115000000.00, Count: 5, Average: 23000000.00\n",
      "Total: 125000000.00, Count: 6, Average: 20833333.33\n",
      "Total: 155000000.00, Count: 7, Average: 22142857.14\n",
      "Total: 165000000.00, Count: 8, Average: 20625000.00\n"
     ]
    }
   ],
   "source": [
    "# Define a list of lists to store the data (these are startup funds for various, now huge, companies)\n",
    "data = [\n",
    "    [\"Facebook\", \"social\", \"USA\", 15000000],\n",
    "    [\"Twitter\", \"social\", \"USA\", 5000000],\n",
    "    [\"Airbnb\", \"travel\", \"USA\", 20000000],\n",
    "    [\"Uber\", \"transportation\", \"USA\", 40000000],\n",
    "    [\"Spotify\", \"music\", \"Sweden\", 10000000],\n",
    "    [\"Netflix\", \"entertainment\", \"USA\", 30000000],\n",
    "    [\"Zalando\", \"e-commerce\", \"Germany\", 5000000],\n",
    "    [\"Delivery Hero\", \"food delivery\", \"Germany\", 10000000],\n",
    "    [\"N26\", \"fintech\", \"Germany\", 30000000],\n",
    "    [\"BlaBlaCar\", \"carpooling\", \"France\", 10000000]\n",
    "]\n",
    "\n",
    "# Define a generator function to filter out unwanted rows\n",
    "def filter_data(data, min_amount):\n",
    "    # Loop over the data\n",
    "    for row in data:\n",
    "        # Convert the funding amount to a float\n",
    "        amount = float(row[3])\n",
    "        # Check if the amount is greater than or equal to the minimum\n",
    "        if amount >= min_amount:\n",
    "            # Yield the row\n",
    "            yield row\n",
    "\n",
    "# Define a generator function to calculate some statistics on the data\n",
    "def calculate_stats(data):\n",
    "    # Initialize some variables\n",
    "    total = 0\n",
    "    count = 0\n",
    "    average = 0\n",
    "    # Loop over the data\n",
    "    for row in data:\n",
    "        # Convert the funding amount to a float\n",
    "        amount = float(row[3])\n",
    "        # Update the total and count\n",
    "        total += amount\n",
    "        count += 1\n",
    "        # Calculate the average\n",
    "        average = total / count\n",
    "        # Yield the current statistics as a tuple\n",
    "        yield (total, count, average)\n",
    "\n",
    "# Create a generator object by calling the filter_data function with the data and a minimum amount of 10 million\n",
    "data = filter_data(data, 10_000_000)\n",
    "# Create another generator object by calling the calculate_stats function with the data\n",
    "data = calculate_stats(data)\n",
    "# Iterate over the final generator object and print the statistics\n",
    "for total, count, average in data:\n",
    "    print(f\"Total: {total:.2f}, Count: {count}, Average: {average:.2f}\")\n"
   ]
  },
  {
   "cell_type": "markdown",
   "id": "65fbdc80-54f1-4667-97e6-41647b6dbd2e",
   "metadata": {},
   "source": [
    "Die Funktion ```calculate_stats``` muss ein Generator und keine reguläre Funktion sein, weil sie die Statistiken für jede Datenzeile erstellen muss, während sie vom ```filter_data```-Generator verarbeitet wird. Wäre sie eine reguläre Funktion, müsste sie warten, bis alle Daten gefiltert sind, und dann die endgültige Statistik als einen einzigen Wert zurückgeben. Dies würde den Zweck der Verwendung von Generatoren vereiteln, der darin besteht, Daten langsam zu verarbeiten und zu vermeiden, dass alle Daten auf einmal im Speicher abgelegt werden. Durch die Verwendung eines Generators können wir die Statistiken für jede Datenzeile abrufen, sobald sie gefiltert wurde, und wir können die Iteration auch jederzeit stoppen, wenn wir wollen. Wenn wir z. B. nur die Statistiken für die ersten fünf Datenzeilen benötigen, können wir die Schleife mit der break-Anweisung nach fünf Iterationen verlassen. Auf diese Weise können wir Zeit und Speicherplatz sparen, indem wir den Rest der Daten nicht verarbeiten. Generatoren sind effizienter und flexibler als reguläre Funktionen zur Erstellung von Datenpipelines in Python."
   ]
  }
 ],
 "metadata": {
  "kernelspec": {
   "display_name": "Python 3 (ipykernel)",
   "language": "python",
   "name": "python3"
  },
  "language_info": {
   "codemirror_mode": {
    "name": "ipython",
    "version": 3
   },
   "file_extension": ".py",
   "mimetype": "text/x-python",
   "name": "python",
   "nbconvert_exporter": "python",
   "pygments_lexer": "ipython3",
   "version": "3.9.16"
  }
 },
 "nbformat": 4,
 "nbformat_minor": 5
}
