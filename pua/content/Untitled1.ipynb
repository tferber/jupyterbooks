{
 "cells": [
  {
   "cell_type": "code",
   "execution_count": 11,
   "id": "cac5c8b4-a4d8-45bc-a297-61ca4d29ddb0",
   "metadata": {},
   "outputs": [],
   "source": [
    "import csv\n",
    "\n",
    "datafile = '/Users/ferber/bwSyncShare/vorlesungen/pua_2023/example_csv.csv'\n",
    "\n",
    "f = open(datafile, 'r')\n",
    "reader = csv.reader(f, quoting=csv.QUOTE_NONNUMERIC)\n",
    "data = []\n",
    "\n",
    "try:\n",
    "    for row in reader:\n",
    "        data.append(row)\n",
    "finally:\n",
    "    f.close()"
   ]
  },
  {
   "cell_type": "code",
   "execution_count": 12,
   "id": "c64b86bb-1475-400a-9ba3-689589823f23",
   "metadata": {},
   "outputs": [
    {
     "data": {
      "text/plain": [
       "[0.092042452, -0.3847279549, 0.2577791214, 0.05990886688, 0.4669633251]"
      ]
     },
     "execution_count": 12,
     "metadata": {},
     "output_type": "execute_result"
    }
   ],
   "source": [
    "data[0]"
   ]
  },
  {
   "cell_type": "code",
   "execution_count": 7,
   "id": "c44c0b46-3d16-463f-b292-bb9bbafb137f",
   "metadata": {},
   "outputs": [
    {
     "name": "stdout",
     "output_type": "stream",
     "text": [
      "[5 2 3 4]\n"
     ]
    }
   ],
   "source": [
    "import numpy as np\n",
    "\n",
    "a = np.array([1, 2, 3, 4])\n",
    "b = a[0:]\n",
    "b[0] = 5\n",
    "print(a)"
   ]
  },
  {
   "cell_type": "code",
   "execution_count": 9,
   "id": "55a6dd46-b423-4db0-92e3-8c3ed6997cc8",
   "metadata": {},
   "outputs": [
    {
     "name": "stdout",
     "output_type": "stream",
     "text": [
      "[1, 2, 3, 4]\n"
     ]
    }
   ],
   "source": [
    "c = [1, 2, 3, 4]\n",
    "d = c[0:]\n",
    "d[0] = 5\n",
    "print(c)"
   ]
  },
  {
   "cell_type": "code",
   "execution_count": null,
   "id": "101a5ba2-98da-4375-9cee-d39060c78d8b",
   "metadata": {},
   "outputs": [],
   "source": []
  }
 ],
 "metadata": {
  "kernelspec": {
   "display_name": "Python 3 (ipykernel)",
   "language": "python",
   "name": "python3"
  },
  "language_info": {
   "codemirror_mode": {
    "name": "ipython",
    "version": 3
   },
   "file_extension": ".py",
   "mimetype": "text/x-python",
   "name": "python",
   "nbconvert_exporter": "python",
   "pygments_lexer": "ipython3",
   "version": "3.9.16"
  }
 },
 "nbformat": 4,
 "nbformat_minor": 5
}
