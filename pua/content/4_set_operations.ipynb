{
 "cells": [
  {
   "cell_type": "markdown",
   "id": "92461b25-8c2c-4dec-adf8-ee4fa529703b",
   "metadata": {},
   "source": [
    "# Operationen auf Sets"
   ]
  },
  {
   "cell_type": "markdown",
   "id": "89c3a5e0-98b6-4a7e-a9c2-68c8a292e18f",
   "metadata": {},
   "source": [
    "Sets werden in der Regel verwendet, um mathematische Mengenoperationen wie Vereinigung, Schnittmenge usw. durchzuführen und um doppelte Werte aus einer Liste zu entfernen\n",
    "\n",
    "* Vereinigung (engl. union) (|): Die Vereinigung zweier Mengen ist eine neue Menge, die alle Elemente aus beiden Mengen enthält. Zum Beispiel: `{1, 2} | {2, 3}` ergibt `{1, 2, 3}`.\n",
    "* Schnittmenge (engl. intersection) (&): Die Schnittmenge zweier Mengen ist eine neue Menge, die alle Elemente enthält, die in beiden Mengen enthalten sind. Zum Beispiel: `{1, 2} & {2, 3}` ergibt `{2}`.\n",
    "* Differenz (engl. difference) (-): Die Differenz von zwei Mengen ist eine neue Menge, die alle Elemente der ersten Menge enthält, die nicht in der zweiten Menge enthalten sind. Zum Beispiel: `{1, 2} - {2, 3}` ergibt `{1}`.\n",
    "* Symmetrische Differenz (engl. symmetric difference) (^): Die symmetrische Differenz zweier Mengen ist eine neue Menge, die alle Elemente enthält, die in einer der beiden Mengen enthalten sind, aber nicht in beiden. Zum Beispiel: `{1, 2} ^ {2, 3}` ergibt `{1, 3}`."
   ]
  },
  {
   "cell_type": "markdown",
   "id": "62410199-cf16-4f82-8c85-d061f3d060f4",
   "metadata": {},
   "source": [
    "#### Komplizierteres Beispiel"
   ]
  },
  {
   "cell_type": "code",
   "execution_count": 5,
   "id": "dfc9cc91-7347-4a3f-82f9-8f88b43aa9fa",
   "metadata": {},
   "outputs": [
    {
     "name": "stdout",
     "output_type": "stream",
     "text": [
      "Union of all sets: {1, 2, 3, 4, 5, 6, 7, 8, 9, 10}\n",
      "Intersection of all sets: {4}\n",
      "Elements unique to set1: {1, 2, 3}\n",
      "Elements in set1 and set2 but not in set3: {1, 2, 3, 6}\n"
     ]
    }
   ],
   "source": [
    "# Define three sets\n",
    "set1 = {1, 2, 3, 4, 5}\n",
    "set2 = {4, 5, 6, 7, 8}\n",
    "set3 = {4, 7, 8, 9, 10}\n",
    "\n",
    "# Find the union of all three sets\n",
    "union_set = set1 | set2 | set3\n",
    "print(f\"Union of all sets: {union_set}\")\n",
    "\n",
    "# Find the intersection of all three sets\n",
    "intersection_set = set1 & set2 & set3\n",
    "print(f\"Intersection of all sets: {intersection_set}\")\n",
    "\n",
    "# Find the elements that are unique to set1 (compared to set2 and set3)\n",
    "difference_set = set1 - set2 - set3\n",
    "print(f\"Elements unique to set1: {difference_set}\")\n",
    "\n",
    "# Find the elements that are in set1 and set2 but not in set3\n",
    "symmetric_difference_set = (set1 ^ set2) - set3\n",
    "print(f\"Elements in set1 and set2 but not in set3: {symmetric_difference_set}\")\n"
   ]
  },
  {
   "cell_type": "markdown",
   "id": "a4daa0db-8463-4f55-ad58-4d004930ea8c",
   "metadata": {},
   "source": [
    "#### Entfernen von Duplikaten"
   ]
  },
  {
   "cell_type": "code",
   "execution_count": 11,
   "id": "6e82eebb-427b-4d21-8a57-f0b87cda70f0",
   "metadata": {},
   "outputs": [
    {
     "name": "stdout",
     "output_type": "stream",
     "text": [
      "Elements in list: [1, 2, 3, 4, 4, 4, 1, 6, 7]\n",
      "Elements in set (duplicates removed): {1, 2, 3, 4, 6, 7}\n"
     ]
    }
   ],
   "source": [
    "list1 = [1, 2, 3, 4, 4, 4, 1, 6, 7]\n",
    "print(f\"Elements in list: {list1}\")\n",
    "\n",
    "# Convert list to set to remove all duplicates from list1\n",
    "set1 = set(list1)\n",
    "print(f\"Elements in set (duplicates removed): {set1}\")\n"
   ]
  }
 ],
 "metadata": {
  "kernelspec": {
   "display_name": "Python 3 (ipykernel)",
   "language": "python",
   "name": "python3"
  },
  "language_info": {
   "codemirror_mode": {
    "name": "ipython",
    "version": 3
   },
   "file_extension": ".py",
   "mimetype": "text/x-python",
   "name": "python",
   "nbconvert_exporter": "python",
   "pygments_lexer": "ipython3",
   "version": "3.9.16"
  }
 },
 "nbformat": 4,
 "nbformat_minor": 5
}
