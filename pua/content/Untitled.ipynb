{
 "cells": [
  {
   "cell_type": "code",
   "execution_count": 1,
   "id": "72cdc8d5-c1a9-4592-a35d-d1360d93b80a",
   "metadata": {},
   "outputs": [],
   "source": [
    "import numpy as np"
   ]
  },
  {
   "cell_type": "code",
   "execution_count": 2,
   "id": "d967cf31-49f3-472c-8f3d-73fecc925061",
   "metadata": {},
   "outputs": [
    {
     "data": {
      "text/plain": [
       "array(['1', 'a', '2.5'], dtype='<U32')"
      ]
     },
     "execution_count": 2,
     "metadata": {},
     "output_type": "execute_result"
    }
   ],
   "source": [
    "np.array([1, 'a', 2.5])"
   ]
  },
  {
   "cell_type": "code",
   "execution_count": 4,
   "id": "0b7d79a7-3e55-4afe-9c81-99259b9d6014",
   "metadata": {},
   "outputs": [
    {
     "data": {
      "text/plain": [
       "dtype('float64')"
      ]
     },
     "execution_count": 4,
     "metadata": {},
     "output_type": "execute_result"
    }
   ],
   "source": [
    "a = np.array([1, 2.5])\n",
    "a.dtype"
   ]
  },
  {
   "cell_type": "code",
   "execution_count": 5,
   "id": "63eb3351-1e05-4697-80c5-f8044cbc4546",
   "metadata": {},
   "outputs": [
    {
     "data": {
      "text/plain": [
       "dtype('int64')"
      ]
     },
     "execution_count": 5,
     "metadata": {},
     "output_type": "execute_result"
    }
   ],
   "source": [
    "a = np.array([1, 2])\n",
    "a.dtype"
   ]
  },
  {
   "cell_type": "code",
   "execution_count": 13,
   "id": "74cf0f3d-f04e-4da3-a3b4-09ed6f351359",
   "metadata": {},
   "outputs": [],
   "source": [
    "a_list = [1, 3, 4]\n",
    "a = np.array(a_list)\n",
    "\n",
    "a_tuple = (1, 3, 4)\n",
    "a = np.array(a_tuple)\n",
    "\n",
    "a_set = {1, 3, 4}\n",
    "a = np.array(a_set)"
   ]
  },
  {
   "cell_type": "code",
   "execution_count": 14,
   "id": "6bdd8ada-988c-46a9-90d6-f8c1116011d9",
   "metadata": {},
   "outputs": [
    {
     "data": {
      "text/plain": [
       "set"
      ]
     },
     "execution_count": 14,
     "metadata": {},
     "output_type": "execute_result"
    }
   ],
   "source": [
    "type(a_set)"
   ]
  },
  {
   "cell_type": "code",
   "execution_count": 25,
   "id": "f34218ea-5bb9-4f1c-b367-b4f5bc70e479",
   "metadata": {},
   "outputs": [
    {
     "name": "stdout",
     "output_type": "stream",
     "text": [
      "{1, 2, 3, 4, 5, 6, 9}\n"
     ]
    }
   ],
   "source": [
    "import numpy as np\n",
    "\n",
    "# Python set\n",
    "my_set = {3, 1, 4, 1, 5, 9, 2, 6, 5, 3, 5}\n",
    "\n",
    "# Trying to convert set directly to NumPy array (without list conversion)\n",
    "numpy_array_from_set = np.array(my_set)\n",
    "\n",
    "print(numpy_array_from_set)\n"
   ]
  },
  {
   "cell_type": "code",
   "execution_count": 24,
   "id": "cde9c665-192b-4664-b0cb-6969cd7999ac",
   "metadata": {},
   "outputs": [
    {
     "ename": "IndexError",
     "evalue": "too many indices for array: array is 0-dimensional, but 1 were indexed",
     "output_type": "error",
     "traceback": [
      "\u001b[0;31m---------------------------------------------------------------------------\u001b[0m",
      "\u001b[0;31mIndexError\u001b[0m                                Traceback (most recent call last)",
      "Cell \u001b[0;32mIn[24], line 1\u001b[0m\n\u001b[0;32m----> 1\u001b[0m \u001b[43mnumpy_array_from_set\u001b[49m\u001b[43m[\u001b[49m\u001b[38;5;241;43m0\u001b[39;49m\u001b[43m]\u001b[49m\n",
      "\u001b[0;31mIndexError\u001b[0m: too many indices for array: array is 0-dimensional, but 1 were indexed"
     ]
    }
   ],
   "source": [
    "numpy_array_from_set[0]"
   ]
  },
  {
   "cell_type": "code",
   "execution_count": 20,
   "id": "e6e4c801-c08b-4692-a0e6-a70888527053",
   "metadata": {},
   "outputs": [
    {
     "name": "stdout",
     "output_type": "stream",
     "text": [
      "[1 2 3 4 5 6 9]\n"
     ]
    }
   ],
   "source": [
    "# Convert set to list before creating NumPy array\n",
    "numpy_array_from_set = np.array(list(my_set))\n",
    "\n",
    "print(numpy_array_from_set)\n"
   ]
  },
  {
   "cell_type": "code",
   "execution_count": 21,
   "id": "2794b85f-23ff-461b-b46e-4efd7083193c",
   "metadata": {},
   "outputs": [
    {
     "data": {
      "text/plain": [
       "numpy.ndarray"
      ]
     },
     "execution_count": 21,
     "metadata": {},
     "output_type": "execute_result"
    }
   ],
   "source": [
    "type(numpy_array_from_set)"
   ]
  },
  {
   "cell_type": "code",
   "execution_count": 26,
   "id": "5ae3cb03-ef85-4ac6-8933-b0ec36340559",
   "metadata": {},
   "outputs": [
    {
     "name": "stdout",
     "output_type": "stream",
     "text": [
      "\n",
      "Tuple to NumPy Array:\n",
      "[1 2 3 4 5]\n"
     ]
    }
   ],
   "source": [
    "my_tuple = (1, 2, 3, 4, 5)\n",
    "numpy_array_from_tuple = np.array(my_tuple)\n",
    "print(\"\\nTuple to NumPy Array:\")\n",
    "print(numpy_array_from_tuple)"
   ]
  },
  {
   "cell_type": "code",
   "execution_count": 30,
   "id": "b6d95b6e-ebec-43fd-ac16-c1eee4c6165b",
   "metadata": {},
   "outputs": [
    {
     "data": {
      "text/plain": [
       "(2, 3)"
      ]
     },
     "execution_count": 30,
     "metadata": {},
     "output_type": "execute_result"
    }
   ],
   "source": [
    "a = np.array([[1, 2, 3], [4, 5, 6]])\n",
    "a.shape"
   ]
  },
  {
   "cell_type": "code",
   "execution_count": 34,
   "id": "b3f21a59-bd23-468d-b1d6-1a387dfc090e",
   "metadata": {},
   "outputs": [
    {
     "ename": "ValueError",
     "evalue": "all the input arrays must have same number of dimensions, but the array at index 0 has 2 dimension(s) and the array at index 1 has 1 dimension(s)",
     "output_type": "error",
     "traceback": [
      "\u001b[0;31m---------------------------------------------------------------------------\u001b[0m",
      "\u001b[0;31mValueError\u001b[0m                                Traceback (most recent call last)",
      "Cell \u001b[0;32mIn[34], line 1\u001b[0m\n\u001b[0;32m----> 1\u001b[0m \u001b[43mnp\u001b[49m\u001b[38;5;241;43m.\u001b[39;49m\u001b[43mappend\u001b[49m\u001b[43m(\u001b[49m\u001b[43ma\u001b[49m\u001b[43m,\u001b[49m\u001b[43m \u001b[49m\u001b[43m[\u001b[49m\u001b[38;5;241;43m4\u001b[39;49m\u001b[43m]\u001b[49m\u001b[43m,\u001b[49m\u001b[43m \u001b[49m\u001b[43maxis\u001b[49m\u001b[38;5;241;43m=\u001b[39;49m\u001b[38;5;241;43m0\u001b[39;49m\u001b[43m)\u001b[49m\n",
      "File \u001b[0;32m<__array_function__ internals>:180\u001b[0m, in \u001b[0;36mappend\u001b[0;34m(*args, **kwargs)\u001b[0m\n",
      "File \u001b[0;32m~/anaconda3/envs/stats/lib/python3.9/site-packages/numpy/lib/function_base.py:5444\u001b[0m, in \u001b[0;36mappend\u001b[0;34m(arr, values, axis)\u001b[0m\n\u001b[1;32m   5442\u001b[0m     values \u001b[38;5;241m=\u001b[39m ravel(values)\n\u001b[1;32m   5443\u001b[0m     axis \u001b[38;5;241m=\u001b[39m arr\u001b[38;5;241m.\u001b[39mndim\u001b[38;5;241m-\u001b[39m\u001b[38;5;241m1\u001b[39m\n\u001b[0;32m-> 5444\u001b[0m \u001b[38;5;28;01mreturn\u001b[39;00m \u001b[43mconcatenate\u001b[49m\u001b[43m(\u001b[49m\u001b[43m(\u001b[49m\u001b[43marr\u001b[49m\u001b[43m,\u001b[49m\u001b[43m \u001b[49m\u001b[43mvalues\u001b[49m\u001b[43m)\u001b[49m\u001b[43m,\u001b[49m\u001b[43m \u001b[49m\u001b[43maxis\u001b[49m\u001b[38;5;241;43m=\u001b[39;49m\u001b[43maxis\u001b[49m\u001b[43m)\u001b[49m\n",
      "File \u001b[0;32m<__array_function__ internals>:180\u001b[0m, in \u001b[0;36mconcatenate\u001b[0;34m(*args, **kwargs)\u001b[0m\n",
      "\u001b[0;31mValueError\u001b[0m: all the input arrays must have same number of dimensions, but the array at index 0 has 2 dimension(s) and the array at index 1 has 1 dimension(s)"
     ]
    }
   ],
   "source": [
    "np.append(a, [4], axis=0)"
   ]
  },
  {
   "cell_type": "code",
   "execution_count": 36,
   "id": "2f9b2894-a0c7-4588-bb52-19062de0e184",
   "metadata": {},
   "outputs": [],
   "source": [
    "import random\n",
    "list_A = random.sample(range(256,10000), 1000)"
   ]
  },
  {
   "cell_type": "code",
   "execution_count": 38,
   "id": "d792db0b-a4ec-4144-8c95-6eda039fa2f5",
   "metadata": {},
   "outputs": [
    {
     "ename": "AttributeError",
     "evalue": "'list' object has no attribute 'shape'",
     "output_type": "error",
     "traceback": [
      "\u001b[0;31m---------------------------------------------------------------------------\u001b[0m",
      "\u001b[0;31mAttributeError\u001b[0m                            Traceback (most recent call last)",
      "Cell \u001b[0;32mIn[38], line 1\u001b[0m\n\u001b[0;32m----> 1\u001b[0m \u001b[43mlist_A\u001b[49m\u001b[38;5;241;43m.\u001b[39;49m\u001b[43mshape\u001b[49m\n",
      "\u001b[0;31mAttributeError\u001b[0m: 'list' object has no attribute 'shape'"
     ]
    }
   ],
   "source": [
    "list_A"
   ]
  },
  {
   "cell_type": "code",
   "execution_count": null,
   "id": "90c41d6c-d601-45e5-9c86-6e07dd1ab2a6",
   "metadata": {},
   "outputs": [],
   "source": []
  }
 ],
 "metadata": {
  "kernelspec": {
   "display_name": "Python 3 (ipykernel)",
   "language": "python",
   "name": "python3"
  },
  "language_info": {
   "codemirror_mode": {
    "name": "ipython",
    "version": 3
   },
   "file_extension": ".py",
   "mimetype": "text/x-python",
   "name": "python",
   "nbconvert_exporter": "python",
   "pygments_lexer": "ipython3",
   "version": "3.9.16"
  }
 },
 "nbformat": 4,
 "nbformat_minor": 5
}
