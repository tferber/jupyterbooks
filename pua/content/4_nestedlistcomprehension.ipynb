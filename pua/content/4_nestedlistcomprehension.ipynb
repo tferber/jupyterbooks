{
 "cells": [
  {
   "cell_type": "markdown",
   "id": "92461b25-8c2c-4dec-adf8-ee4fa529703b",
   "metadata": {},
   "source": [
    "# Nested list comprehension"
   ]
  },
  {
   "cell_type": "markdown",
   "id": "f3dac4a8-bce0-4834-b12b-df5bb323ffc8",
   "metadata": {},
   "source": [
    "In diesem Beispiel ist `matrix` eine Liste von Listen (auch als verschachtelte Liste bekannt), die man sich wie eine Matrix oder eine Tabelle mit Zeilen und Spalten vorstellen kann. Jede innere Liste steht für eine Zeile in der Matrix.\n",
    "\n",
    "Das Ziel besteht darin, die Matrix in eine einzige Liste zu \"verflachen\", die alle Zahlen der ursprünglichen verschachtelten Liste enthält. Dies ist ein üblicher Vorgang beim Umgang mit verschachtelten Listen oder anderen mehrdimensionalen Datenstrukturen.\n",
    "\n",
    "Die Listenverstehensanweisung [num for sublist in matrix for num in sublist] tut genau das. Sie iteriert über jede Teilliste in der Matrix und dann über jede Zahl in der Teilliste. Für jede Zahl wird sie einfach in die neue Liste aufgenommen.\n",
    "\n",
    "Diese doppelte Iteration (eine Iteration innerhalb einer anderen Iteration) entspricht der Verwendung verschachtelter Schleifen. `list comprehension` bietet jedoch eine kompaktere und elegantere Möglichkeit, diesen Vorgang auszudrücken.\n",
    "\n",
    "Es ist wichtig zu beachten, dass die Reihenfolge der Iterationen in einer `list comprehension` dieselbe ist, in der Sie verschachtelte Schleifen schreiben würden. Die äußere Schleife (`for sublist in matrix`) kommt zuerst und die innere Schleife (`for num in sublist`) kommt als zweites.\n",
    "\n",
    "Die `list comprehension` ist eine leistungsstarke Funktion von Python, die Ihren Code prägnanter und lesbarer machen kann. Bei komplexen oder mehrstufigen Iterationen kann es jedoch schwieriger werden, sie zu verstehen. Daher ist es immer wichtig, bei der Verwendung dieser Funktion die Lesbarkeit im Auge zu behalten."
   ]
  },
  {
   "cell_type": "code",
   "execution_count": 3,
   "id": "78fbfd52-1ad3-40b5-803c-ed131b92dc47",
   "metadata": {},
   "outputs": [
    {
     "name": "stdout",
     "output_type": "stream",
     "text": [
      "[[1, 2, 3], [4, 5, 6], [7, 8, 9]]\n",
      "[1, 2, 3, 4, 5, 6, 7, 8, 9]\n"
     ]
    }
   ],
   "source": [
    "matrix = [[1, 2, 3], [4, 5, 6], [7, 8, 9]]\n",
    "print(matrix) # Output: [[1, 2, 3], [4, 5, 6], [7, 8, 9]]\n",
    "\n",
    "flattened = [num for sublist in matrix for num in sublist]\n",
    "print(flattened)  # Output: [1, 2, 3, 4, 5, 6, 7, 8, 9]"
   ]
  }
 ],
 "metadata": {
  "kernelspec": {
   "display_name": "Python 3 (ipykernel)",
   "language": "python",
   "name": "python3"
  },
  "language_info": {
   "codemirror_mode": {
    "name": "ipython",
    "version": 3
   },
   "file_extension": ".py",
   "mimetype": "text/x-python",
   "name": "python",
   "nbconvert_exporter": "python",
   "pygments_lexer": "ipython3",
   "version": "3.9.16"
  }
 },
 "nbformat": 4,
 "nbformat_minor": 5
}
