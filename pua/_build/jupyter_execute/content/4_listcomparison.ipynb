{
 "cells": [
  {
   "cell_type": "markdown",
   "id": "92461b25-8c2c-4dec-adf8-ee4fa529703b",
   "metadata": {},
   "source": [
    "# List comparison"
   ]
  },
  {
   "cell_type": "markdown",
   "id": "f3dac4a8-bce0-4834-b12b-df5bb323ffc8",
   "metadata": {},
   "source": [
    "Gleichheit (`==`): Zwei Listen sind gleich, wenn sie die gleichen Elemente in der gleichen Reihenfolge enthalten. Zum Beispiel ist `[1, 2, 3] == [1, 2, 3]` wahr, aber `[1, 2, 3] == [3, 2, 1]` ist falsch.\n",
    "\n",
    "Ungleichheit (`!=`): Zwei Listen sind ungleich, wenn sie nicht die gleichen Elemente in der gleichen Reihenfolge enthalten. Dies ist das Gegenteil von Gleichheit.\n",
    "\n",
    "Größer als (`>`), kleiner als (`<`), größer als oder gleich (`>=`), kleiner als oder gleich (`<=`): Listen werden lexikografisch durch Vergleich der ersten Elemente verglichen. Zum Beispiel ist `[1, 2] < [2, 1]` wahr, weil `1 < 2` ist. Wenn die entsprechenden Elemente gleich sind, werden die nächsten Elemente verglichen, usw. Wenn eine Liste kürzer ist, aber alle ihre Elemente gleich dem Anfang einer längeren Liste sind, wird die kürzere Liste als kleiner betrachtet. Zum Beispiel ist `[1, 2] < [1, 2, 3]` wahr.\n",
    "\n",
    "Diese Regeln gelten für Listen von Zahlen, Zeichenketten und anderen Typen, die \"vergleichbar\" sind. Listen können auch andere Listen enthalten, und die gleichen Regeln gelten rekursiv.\n",
    "\n",
    "Beachten Sie, dass der Vergleich von Listen mit Nicht-Listen (oder anderen nicht vergleichbaren Typen) unter Verwendung dieser Operatoren zu einem TypeError führt. Zum Beispiel wird `[1, 2] < \"123\"` einen TypeError auslösen\n",
    "\n",
    "Beachten Sie auch, dass die Vergleichsoperatoren von Python nicht prüfen, ob zwei Listen unabhängig von der Reihenfolge die gleichen Elemente enthalten. Zum Beispiel ist `[1, 2] == [2, 1]` falsch. Wenn Sie prüfen wollen, ob zwei Listen unabhängig von der Reihenfolge dieselben Elemente enthalten, müssen Sie sie zuerst sortieren oder in Mengen umwandeln (wenn sie keine Duplikate enthalten)."
   ]
  },
  {
   "cell_type": "markdown",
   "id": "48fdff25-5b14-4948-bede-1b48a6a6da94",
   "metadata": {},
   "source": [
    "#### Nested list comparison: Gleichheit"
   ]
  },
  {
   "cell_type": "code",
   "execution_count": 1,
   "id": "09cde208-c65f-49b6-bcb8-43525f09fa10",
   "metadata": {},
   "outputs": [
    {
     "name": "stdout",
     "output_type": "stream",
     "text": [
      "True\n",
      "False\n"
     ]
    }
   ],
   "source": [
    "list1 = [[1, 2], [3, 4]]\n",
    "list2 = [[1, 2], [3, 4]]\n",
    "list3 = [[1, 2], [4, 3]]\n",
    "\n",
    "print(list1 == list2)  # Output: True\n",
    "print(list1 == list3)  # Output: False"
   ]
  },
  {
   "cell_type": "markdown",
   "id": "9de69592-b0d2-4a29-a188-a4eba4b43363",
   "metadata": {},
   "source": [
    "In diesem Beispiel sind list1 und list2 gleich, weil sie die gleichen verschachtelten Listen in der gleichen Reihenfolge enthalten. Daher gibt list1 == list2 `True` zurück.\n",
    "\n",
    "Andererseits sind `list1` und `list3` nicht gleich, weil die zweite verschachtelte Liste in `list3` [4, 3] ist, was nicht dasselbe ist wie die zweite verschachtelte Liste in `list1`, die [3, 4] ist. Daher liefert `list1 == list3` den Wert False.\n",
    "\n",
    "Der Vergleich wird rekursiv durchgeführt, d. h. jedes entsprechende Paar verschachtelter Listen wird genauso verglichen wie die Listen der obersten Ebene. Wird festgestellt, dass ein Paar verschachtelter Listen ungleich ist, gibt der gesamte Vergleich sofort False zurück. Wenn alle Paare verschachtelter Listen gleich sind, gibt der gesamte Vergleich `True` zurück."
   ]
  },
  {
   "cell_type": "markdown",
   "id": "999ca739-e9d0-4754-b141-2568735aee0a",
   "metadata": {},
   "source": [
    "#### Nested list comparison: > und <"
   ]
  },
  {
   "cell_type": "markdown",
   "id": "9a616fe0-baaa-41cf-bcda-6a7674eff056",
   "metadata": {},
   "source": [
    "Die Operatoren `>` und `<` können auch zum Vergleich verschachtelter Listen in Python verwendet werden. Der Vergleich erfolgt lexikografisch, d. h. es werden die ersten Elemente der Listen verglichen, dann die zweiten Elemente und so weiter, bis Elemente gefunden werden, die nicht gleich sind."
   ]
  },
  {
   "cell_type": "code",
   "execution_count": 2,
   "id": "9c98fc9d-c7fe-41fb-9607-80f60191b974",
   "metadata": {},
   "outputs": [
    {
     "name": "stdout",
     "output_type": "stream",
     "text": [
      "True\n",
      "False\n"
     ]
    }
   ],
   "source": [
    "list1 = [[1, 2], [3, 4]]\n",
    "list2 = [[1, 2], [3, 5]]\n",
    "list3 = [[1, 2], [3, 4], [5]]\n",
    "\n",
    "print(list1 < list2)  # Output: True\n",
    "print(list1 > list3)  # Output: False"
   ]
  },
  {
   "cell_type": "markdown",
   "id": "d998e331-94e7-44bb-9cf5-129488310cee",
   "metadata": {},
   "source": [
    "Im ersten Vergleich ist `list1` kleiner als `list2`, weil das zweite Element der zweiten verschachtelten Liste in `list2` größer ist als das entsprechende Element in `list1`, obwohl ihre ersten verschachtelten Listen `[1, 2]` gleich sind.\n",
    "\n",
    "Im zweiten Vergleich ist `list1` nicht größer als `list3`, weil `list3` eine zusätzliche verschachtelte Liste `[5]` nach dem Punkt hat, an dem alle ihre vorherigen verschachtelten Listen gleich sind.\n",
    "\n",
    "Denken Sie daran: Wenn Sie verschachtelte Listen unterschiedlicher Länge vergleichen und alle Elemente der kürzeren Liste gleich dem Anfang der längeren Liste sind, wird die kürzere Liste als kleiner angesehen. Zum Beispiel: `[[1, 2], [3, 4]] < [[1, 2], [3, 4], [5]]` ist `True`."
   ]
  },
  {
   "cell_type": "markdown",
   "id": "5f0afa67-6495-42e8-892a-1202b8ef4793",
   "metadata": {},
   "source": [
    "#### Vergleiche von leeren Listen"
   ]
  },
  {
   "cell_type": "markdown",
   "id": "51955485-8f41-4878-b0f8-c057bbd6fdda",
   "metadata": {},
   "source": [
    "Es gibt ein paar Dinge zu beachten, wenn man mit leeren Listen oder `None` in Python vergleicht:\n",
    "\n",
    "Eine leere Liste `[]` wird als `False` angesehen, wenn sie in einen booleschen Kontext umgewandelt wird, während eine nicht-leere Liste als `True` angesehen wird. In einer if-Anweisung beispielsweise löst eine leere Liste die Bedingung nicht aus, eine nicht-leere Liste hingegen schon:"
   ]
  },
  {
   "cell_type": "code",
   "execution_count": 3,
   "id": "303c90f6-7ddf-4afa-8265-f52a1a84d3a3",
   "metadata": {},
   "outputs": [
    {
     "name": "stdout",
     "output_type": "stream",
     "text": [
      "Das ist eine nicht-leere Liste\n"
     ]
    }
   ],
   "source": [
    "if []:\n",
    "    print('Das ist eine leere Liste') #wird nicht ausgegeben\n",
    "    \n",
    "if [1, 2, 3]:\n",
    "    print('Das ist eine nicht-leere Liste') #wird ausgegeben"
   ]
  },
  {
   "cell_type": "markdown",
   "id": "16db2233-6e65-4eaa-92af-b9b7abee0535",
   "metadata": {},
   "source": [
    "Wenn man eine leere Liste mit `None` vergleicht, sind sie nicht gleich, da es sich um unterschiedliche Objekttypen handelt. Eine leere Liste ist ein Listenobjekt ohne Elemente, während `None` ein spezielles Objekt eines eigenen Typs (`NoneType`) ist. Daher ergibt `[] == None` den Wert `False`.\n",
    "\n",
    "In einem booleschen Kontext werden jedoch sowohl eine leere Liste als auch `None` als `False` betrachtet. Daher gibt `bool([]) == bool(None)` `True` zurück.\n",
    "\n",
    "Bei der Verwendung von Vergleichsoperatoren (`<, <=, >, >=`) können Sie eine Liste (leer oder nicht) nicht mit `None` vergleichen. Dies führt zu einem `TypeError`. Zum Beispiel: `[] < None` führt zu einem `TypeError`. Das gleiche gilt übrigens auch beim Vergleich von Listen mit nicht-Listenobjekten wie `int` oder `float`.\n",
    "\n",
    "Beim Vergleich zweier Listen wird eine leere Liste als \"kleiner\" betrachtet als eine nicht leere Liste. Zum Beispiel gibt `[] < [1]` True zurück."
   ]
  }
 ],
 "metadata": {
  "kernelspec": {
   "display_name": "Python 3 (ipykernel)",
   "language": "python",
   "name": "python3"
  },
  "language_info": {
   "codemirror_mode": {
    "name": "ipython",
    "version": 3
   },
   "file_extension": ".py",
   "mimetype": "text/x-python",
   "name": "python",
   "nbconvert_exporter": "python",
   "pygments_lexer": "ipython3",
   "version": "3.11.4"
  }
 },
 "nbformat": 4,
 "nbformat_minor": 5
}