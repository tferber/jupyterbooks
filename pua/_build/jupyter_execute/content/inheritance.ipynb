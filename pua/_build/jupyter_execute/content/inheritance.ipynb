{
 "cells": [
  {
   "cell_type": "markdown",
   "id": "47f4e447-3a4b-40f5-b045-56ee0c0f7fea",
   "metadata": {},
   "source": [
    "# Vererbung"
   ]
  },
  {
   "cell_type": "markdown",
   "id": "76a94394-e0ce-46bc-aeaf-0a9107f7b91e",
   "metadata": {},
   "source": [
    "Der Code demonstriert die Verwendung der Mehrfachvererbung in Python, was bedeutet, dass eine Klasse von mehr als einer Elternklasse erben kann. Der Code definiert fünf Klassen: Tier, Vogel, Pinguin, Säugetier und Schnabeltier. Jede Klasse hat einige Attribute und Methoden, die ihr Verhalten und ihre Eigenschaften definieren.\n",
    "\n",
    "Die Klasse Animal ist die Basisklasse für alle anderen Klassen. Sie hat ein Namensattribut, das in der Methode ```__init__``` initialisiert wird, einer speziellen Methode, die aufgerufen wird, wenn ein Objekt erstellt wird. Die Klasse Animal verfügt außerdem über eine Sound-Methode, die den Sound des Tieres zurückgibt, und eine ```__str__```-Methode, die die String-Repräsentation des Tieres zurückgibt. Die ```__str__```-Methode ist eine weitere spezielle Methode, die aufgerufen wird, wenn ein Objekt gedruckt oder in eine Zeichenkette umgewandelt wird.\n",
    "Die Klasse Bird erbt von der Klasse Animal, d. h. sie hat alle Attribute und Methoden der Klasse Animal sowie einige zusätzliche. Die Klasse Bird hat eine fly-Methode, die die Flugfähigkeit des Vogels zurückgibt, und sie überschreibt die ```__str__```-Methode, um diese Information in die String-Darstellung des Vogels aufzunehmen. Die Klasse Bird verwendet die Funktion ```super()```, um die Methode ```__str__``` der Klasse Animal aufzurufen, und fügt dann ihren eigenen Teil hinzu.\n",
    "\n",
    "Die Klasse Penguin erbt von der Klasse Bird, was bedeutet, dass sie alle Attribute und Methoden der Klassen Bird und Animal sowie einige zusätzliche besitzt. Die Klasse Penguin überschreibt die Methoden Fly und Sound, um unterschiedliche Werte für den Pinguin zurückzugeben, da Pinguine nicht fliegen können und einen anderen Sound als andere Vögel erzeugen.\n",
    "Die Klasse Mammal (Säugetier) erbt von der Klasse Animal (Tier), d. h. sie hat alle Attribute und Methoden der Klasse Animal und einige zusätzliche. Die Säugetierklasse hat eine Fellmethode, die die Fellfarbe des Säugetiers zurückgibt, und sie überschreibt die ```__str__```-Methode, um diese Information in die String-Darstellung des Säugetiers aufzunehmen. Die Klasse Mammal verwendet die Funktion super(), um die Methode ```__str__``` der Klasse Animal aufzurufen, und fügt dann ihren eigenen Teil hinzu.\n",
    "Die Platypus-Klasse erbt sowohl von der Vogel- als auch von der Säugetierklasse, was bedeutet, dass sie alle Attribute und Methoden beider Klassen sowie einige zusätzliche besitzt. Die Klasse Platypus überschreibt die Methoden fur, sound und fly, um verschiedene Werte für das Schnabeltier zurückzugeben, da Schnabeltiere ein braunes Fell haben, ein quakendes Geräusch machen und nicht fliegen können. Die Klasse Platypus verwendet die Syntax der Mehrfachvererbung, um beide Elternklassen in Klammern nach ihrem Namen anzugeben."
   ]
  },
  {
   "cell_type": "code",
   "execution_count": 1,
   "id": "336d5086-abc8-4f60-9f5c-fd7148b9972c",
   "metadata": {},
   "outputs": [
    {
     "name": "stdout",
     "output_type": "stream",
     "text": [
      "Generic makes Unknown sound.\n",
      "Sparrow makes Unknown sound. and can fly: Yes.\n",
      "Pingu makes Squawk sound. and can fly: No.\n",
      "Dog makes Unknown sound. and has Unknown fur.\n",
      "Perry makes Quack sound. and has Brown fur. and can fly: No.\n"
     ]
    }
   ],
   "source": [
    "# Define a class Animal with a name attribute and a sound method\n",
    "class Animal:\n",
    "    \"\"\"A class that represents an animal with a name and a sound.\"\"\"\n",
    "    def __init__(self, name):\n",
    "        \"\"\"Initialize the name attribute.\"\"\"\n",
    "        self.name = name\n",
    "    \n",
    "    def sound(self):\n",
    "        \"\"\"Return the sound of the animal.\"\"\"\n",
    "        return \"Unknown\"\n",
    "\n",
    "    def __str__(self):\n",
    "        \"\"\"Return the string representation of the animal.\"\"\"\n",
    "        return f\"{self.name} makes {self.sound()} sound.\"\n",
    "\n",
    "# Define a class Bird that inherits from Animal and has a fly method\n",
    "class Bird(Animal):\n",
    "    \"\"\"A class that represents a bird that inherits from Animal and has a fly method.\"\"\"\n",
    "    def fly(self):\n",
    "        \"\"\"Return the flying ability of the bird.\"\"\"\n",
    "        return \"Yes\"\n",
    "\n",
    "    def __str__(self):\n",
    "        \"\"\"Return the string representation of the bird.\"\"\"\n",
    "        return super().__str__() + f\" and can fly: {self.fly()}.\"\n",
    "\n",
    "# Define a class Penguin that inherits from Bird and overrides the fly and sound methods\n",
    "class Penguin(Bird):\n",
    "    \"\"\"A class that represents a penguin that inherits from Bird and overrides the fly and sound methods.\"\"\"\n",
    "    def fly(self):\n",
    "        \"\"\"Return the flying ability of the penguin.\"\"\"\n",
    "        return \"No\"\n",
    "\n",
    "    def sound(self):\n",
    "        \"\"\"Return the sound of the penguin.\"\"\"\n",
    "        return \"Squawk\"\n",
    "\n",
    "# Define a class Mammal that inherits from Animal and has a fur method\n",
    "class Mammal(Animal):\n",
    "    \"\"\"A class that represents a mammal that inherits from Animal and has a fur method.\"\"\"\n",
    "    def fur(self):\n",
    "        \"\"\"Return the fur color of the mammal.\"\"\"\n",
    "        return \"Unknown\"\n",
    "\n",
    "    def __str__(self):\n",
    "        \"\"\"Return the string representation of the mammal.\"\"\"\n",
    "        return super().__str__() + f\" and has {self.fur()} fur.\"\n",
    "\n",
    "# Define a class Platypus that inherits from both Bird and Mammal and overrides the fur, sound and fly methods\n",
    "class Platypus(Bird, Mammal):\n",
    "    \"\"\"A class that represents a platypus that inherits from both Bird and Mammal and overrides the fur, sound and fly methods.\"\"\"\n",
    "    def fur(self):\n",
    "        \"\"\"Return the fur color of the platypus.\"\"\"\n",
    "        return \"Brown\"\n",
    "\n",
    "    def sound(self):\n",
    "        \"\"\"Return the sound of the platypus.\"\"\"\n",
    "        return \"Quack\"\n",
    "\n",
    "    def fly(self):\n",
    "        \"\"\"Return the flying ability of the platypus.\"\"\"\n",
    "        return \"No\"\n",
    "\n",
    "# Create some instances of different classes and print them\n",
    "animal = Animal(\"Generic\")\n",
    "print(animal)\n",
    "# Output: Generic makes Unknown sound.\n",
    "\n",
    "bird = Bird(\"Sparrow\")\n",
    "print(bird)\n",
    "# Output: Sparrow makes Unknown sound and can fly: Yes.\n",
    "\n",
    "penguin = Penguin(\"Pingu\")\n",
    "print(penguin)\n",
    "# Output: Pingu makes Squawk sound and can fly: No.\n",
    "\n",
    "mammal = Mammal(\"Dog\")\n",
    "print(mammal)\n",
    "# Output: Dog makes Unknown sound and has Unknown fur.\n",
    "\n",
    "platypus = Platypus(\"Perry\")\n",
    "print(platypus)\n",
    "# Output: Perry makes Quack sound and can fly: No and has Brown fur.\n"
   ]
  }
 ],
 "metadata": {
  "kernelspec": {
   "display_name": "Python 3 (ipykernel)",
   "language": "python",
   "name": "python3"
  },
  "language_info": {
   "codemirror_mode": {
    "name": "ipython",
    "version": 3
   },
   "file_extension": ".py",
   "mimetype": "text/x-python",
   "name": "python",
   "nbconvert_exporter": "python",
   "pygments_lexer": "ipython3",
   "version": "3.11.4"
  }
 },
 "nbformat": 4,
 "nbformat_minor": 5
}