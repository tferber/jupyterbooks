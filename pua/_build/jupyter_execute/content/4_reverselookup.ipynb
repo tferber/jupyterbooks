{
 "cells": [
  {
   "cell_type": "markdown",
   "id": "92461b25-8c2c-4dec-adf8-ee4fa529703b",
   "metadata": {},
   "source": [
    "# Reverse lookup"
   ]
  },
  {
   "cell_type": "markdown",
   "id": "f3dac4a8-bce0-4834-b12b-df5bb323ffc8",
   "metadata": {},
   "source": [
    "Ein Reverse-Lookup im Kontext eines Python-Dictionary bezieht sich auf das Auffinden eines Schlüssels anhand eines Wertes. Normalerweise sind Dictionaries für schlüsselbasierte Suchvorgänge konzipiert, d.h. Sie geben einen Schlüssel an und erhalten den zugehörigen Wert. Es kann jedoch Situationen geben, in denen man einen Wert hat und den entsprechenden Schlüssel finden möchte. Dies ist kein eingebauter Vorgang, da die Werte in einem Wörterbuch nicht eindeutig sein müssen, was bedeutet, dass mehrere Schlüssel denselben Wert haben können.\n",
    "\n",
    "Hier sind einige Szenarien, in denen einen solche Rückwärtssuche (engl. reverse lookup) nützlich sein kann:\n",
    "\n",
    "* Datenanalyse: Wenn Sie Daten analysieren, bei denen Wörterbuchwerte eine Art von Punktzahl oder Zählung darstellen, möchten Sie vielleicht wissen, welche(r) Schlüssel zu einer bestimmten Punktzahl geführt haben.\n",
    "* Fehlersuche: Wenn während der Softwareentwicklung ein unerwarteter Wert auftaucht und Sie nicht sicher sind, woher er kommt, kann Reverse Lookup helfen, den Schlüssel zu identifizieren, der mit diesem Wert verbunden ist.\n",
    "* Spiele-Entwicklung: Wenn Sie bei der Spieleentwicklung Werte zur Darstellung von Spielzuständen und Schlüssel zur Darstellung von Spieleraktionen verwenden, kann ein Reverse Lookup dabei helfen, festzustellen, welche Aktion zu einem bestimmten Spielzustand geführt hat.\n",
    "\n",
    "Da mehrere Schlüssel denselben Wert haben können, gibt eine Rückwärtssuche möglicherweise mehrere Schlüssel zurück. Außerdem ist sie im Allgemeinen rechenintensiver als eine normale Suche, da sie eine Iteration über das Wörterbuch erfordert."
   ]
  },
  {
   "cell_type": "code",
   "execution_count": 1,
   "id": "09cde208-c65f-49b6-bcb8-43525f09fa10",
   "metadata": {},
   "outputs": [
    {
     "name": "stdout",
     "output_type": "stream",
     "text": [
      "The key for the value 2 is banana\n"
     ]
    }
   ],
   "source": [
    "# Define the dictionary\n",
    "d = {'apple': 1, 'banana': 2, 'orange': 3}\n",
    "\n",
    "# Value to find\n",
    "value_to_find = 2\n",
    "\n",
    "# Perform the reverse lookup\n",
    "for key, value in d.items():\n",
    "    if value == value_to_find:\n",
    "        print(f\"The key for the value {value_to_find} is {key}\")\n",
    "        break\n",
    "else:\n",
    "    print(f\"No key found for the value {value_to_find}\")\n"
   ]
  }
 ],
 "metadata": {
  "kernelspec": {
   "display_name": "Python 3 (ipykernel)",
   "language": "python",
   "name": "python3"
  },
  "language_info": {
   "codemirror_mode": {
    "name": "ipython",
    "version": 3
   },
   "file_extension": ".py",
   "mimetype": "text/x-python",
   "name": "python",
   "nbconvert_exporter": "python",
   "pygments_lexer": "ipython3",
   "version": "3.11.4"
  }
 },
 "nbformat": 4,
 "nbformat_minor": 5
}