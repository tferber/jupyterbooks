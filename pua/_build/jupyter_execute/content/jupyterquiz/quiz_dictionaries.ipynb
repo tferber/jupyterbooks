{
 "cells": [
  {
   "cell_type": "markdown",
   "id": "e192d6ad-b82f-46fd-b3ca-476c04af8dcb",
   "metadata": {},
   "source": [
    "# Quiz Dictionaries"
   ]
  },
  {
   "cell_type": "code",
   "execution_count": 1,
   "id": "f90f5900-e165-41be-997e-14e6141ebaeb",
   "metadata": {
    "tags": [
     "remove-input"
    ]
   },
   "outputs": [],
   "source": [
    "from jupyterquiz import display_quiz\n",
    "\n",
    "q1=[{\n",
    "            \"question\": \"Was ist das Ergebnis des folgenden Codes?\",\n",
    "            \"code\": \"print((True or False) and (False and True))\",\n",
    "            \"type\": \"multiple_choice\",\n",
    "            \"answers\": [\n",
    "                {\n",
    "                    \"answer\": \"True\",\n",
    "                    \"correct\": False,\n",
    "                    \"feedback\": \"Falsch!\"\n",
    "                },\n",
    "                {\n",
    "                    \"answer\": \"False\",\n",
    "                    \"correct\": True,\n",
    "                    \"feedback\": \"Richtig!\"\n",
    "                },\n",
    "                {\n",
    "                    \"answer\": \"None\",\n",
    "                    \"correct\": False,\n",
    "                    \"feedback\": \"Falsch! Der Datentyp nach einer Bedingungsoperation ist i.A. vom Type `bool`\"\n",
    "                },\n",
    "                {\n",
    "                    \"answer\": \"SyntaxError\",\n",
    "                    \"correct\": False,\n",
    "                    \"feedback\": \"Falsch! Diese Operation ist gültiger Python Code.\"\n",
    "                },\n",
    "            ]\n",
    "    }]\n",
    "\n"
   ]
  },
  {
   "cell_type": "code",
   "execution_count": 2,
   "id": "70fafc5c-07e8-4d5d-9070-dae8bf998f88",
   "metadata": {
    "tags": [
     "remove-input"
    ]
   },
   "outputs": [],
   "source": [
    "# display_quiz(q1, colors='fdsp')\n",
    "# display_quiz(q2, colors='fdsp')\n",
    "# display_quiz(q3, colors='fdsp')\n",
    "# display_quiz(q4, colors='fdsp')\n",
    "# display_quiz(q5, colors='fdsp')\n",
    "# display_quiz(q5b, colors='fdsp')\n",
    "# display_quiz(q6, colors='fdsp')"
   ]
  }
 ],
 "metadata": {
  "kernelspec": {
   "display_name": "Python 3 (ipykernel)",
   "language": "python",
   "name": "python3"
  },
  "language_info": {
   "codemirror_mode": {
    "name": "ipython",
    "version": 3
   },
   "file_extension": ".py",
   "mimetype": "text/x-python",
   "name": "python",
   "nbconvert_exporter": "python",
   "pygments_lexer": "ipython3",
   "version": "3.11.4"
  }
 },
 "nbformat": 4,
 "nbformat_minor": 5
}