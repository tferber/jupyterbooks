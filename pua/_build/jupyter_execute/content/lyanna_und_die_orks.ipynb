{
 "cells": [
  {
   "cell_type": "markdown",
   "id": "d5a66296-4ebf-4b3c-a5dc-d1cb83a935b4",
   "metadata": {},
   "source": [
    "# Lyanna und die Orks 🧝‍♂️\n",
    "Basierend auf \"Functional vs Object-Oriented Programming - A showcase\" (https://github.com/joelbarmettlerUZH/Functional_vs_OOP_Showcase), angepasst und übersetzt von Torben Ferber, Illustrationen von Lea Reuter"
   ]
  },
  {
   "cell_type": "markdown",
   "id": "8c1a10d0-dad7-4385-ac66-cf201d63b237",
   "metadata": {},
   "source": [
    "### Story\n",
    "Vor langer Zeit lebte im mystischen Land Etepenia eine tapferer Heldin namens **Lyanna**. **Lyanna** war im ganzen Reich für ihren unerschütterlichen Mut und ihren unbeugsamen Charakter bekannt. Sie hatte ein Herz aus Gold und den brennenden Wunsch, die Einwohner\\*innen vor dem Bösen zu schützen.\n",
    "Auf der anderen Seite von Etepenia, im Tückischen Wald der Verzweiflung, herrschte ein furchterregender Ork namens **Omugug**. **Omugug** war der König der Orks, ein Kämpfer von ungeheurer Stärke. Er war berüchtigt für seine rücksichtslose Art und seinen unstillbaren Hunger nach Macht - und Pfannkuchen, aber das wissen die Wenigsten.\n",
    "Eines schicksalhaften Tages erhielt **Lyanna** die Nachricht, dass Omugug das berühmte **Tuch von Eldoria** gestohlen hatte, ein Relikt, das unvorstellbare Macht besitzen sollte (das war völliger Quatsch, aber auch das wussten die Wenigsten). Entschlossen, das Tuch zurückzuholen und den Frieden im Land wiederherzustellen, begab sich **Lyanna** auf eine gefährliche Reise, um ihren Erzfeind zu stellen.\n",
    "Auf dem Weg traf **Lyanna** auf Wiederstand: Orks. Viele Orks. Große und Kleine. Mit Keulen und Äxten. Mit Rüstungen oder ohne. Erst nach vielen Tagen und Kämpfen traf Lyanna auf **Omugug**. Der Kampf würde die Grundfesten von Eldoria erschütterte. **Omugugs** rohe Kraft traf auf **Lyannas** unvergleichliches Geschick mit der Klinge. Funken flogen, als sich ihre Waffen kreuzten. Und in jedem Schlag schwang das Schicksal von Etepenia mit."
   ]
  },
  {
   "cell_type": "markdown",
   "id": "68f1d6d8-2041-4e3c-a267-107eb3a812aa",
   "metadata": {},
   "source": [
    "# Problemstellung\n",
    "\n",
    "Wir werden ein textbasiertes Computerspiel entwickeln und dabei funktionale und objektorientierte Programmierung nutzen. Wir werden zunächst nur Funktionen und Datenstrukturen verwenden, wie sie in älteren, nicht objektorientierten Programmiersprachen wie C wahrscheinlich implementiert würden. Dann werden wir die gleichen Funktionen implementieren, aber mit einem objektorientierten Ansatz. Sie werden ein gutes Verständnis dafür entwickeln, wie Objektorientierung mehr Flexibilität und eine klarere Architektur bietet.\n",
    "\n",
    "Lassen Sie uns zunächst den Umfang unseres Spiels festlegen. Wir wollen es einfach halten: Wir wollen ein Spiel entwickeln, in dem wir **Lyanna** spielen (sie dürfen ihre\\*n Held\\*in natürlich gerne auch anders nennen). Wir, **Lyanna**, können mit einem Ork kämpfen und den Ork mit unserer Waffe töten. \n",
    "\n",
    "Orcs ihrerseits können uns leider mit ihrer Waffe auch töten. Wenn Lyanna den Kampf gewinnt, kann er den Ork ausplündern (engl. loot), d.h. die Waffe mitnehmen und im nächsten Kampf verwenden. Um mit dem Spiel fortzufahren, kann **Lyanna** sich mit einem Heiltrank heilen. Die Gegner werden immer schwieriger indem sie mit besseren Waffen, mehr Trefferpunkten, oder gar schweren Rüstungen anreten.\n",
    "\n",
    "So weit, so gut. Lassen Sie uns die Informationen, die wir erhalten haben, abstrahieren (d.h. in eine Form bringen, die wir in Python ausdrücken können). Wir unterscheiden zwischen zwei Kategorien: Attribute und Methoden. Oder, allgemein gesprochen: Werte, die den Zustand unseres Charakters und der Orcs beschreiben, und Aktionen, die sie ausführen können.\n",
    "\n",
    "Wie in der Softwareentwicklung üblich werden wir englische Begriffe für Variablen und die Dokumentation verwenden."
   ]
  },
  {
   "cell_type": "markdown",
   "id": "9fee3b51-aaee-4b8a-be3e-a149286c8b40",
   "metadata": {},
   "source": [
    "# Attribute\n",
    "Die Attribute unseres Characters sind ihr Name, die Anzahl der Lebenspunkte (engl. hitpoints oder HP), ihre aktuelle Waffe (engl. weapon) und wie viele Heiltränke (engl. healing potion) sie noch hat. Unser Gegner hat auch einen Namen (ja, auch Orcs haben eine Familie!), seine Lebenspunkte und er hat auch eine Waffe. Um das ganze etwas spannender zu machen, haben die Waffen einen Namen, einen Schaden, und einen Typ. Als Textbeschreibung würde unser Character also wie folgt klingen:\n",
    "\n",
    "**Spieler\\*in: Lyanna (Aktuelle Trefferpunkte sind 100, ihre Waffe vom Typ \"Dolch\" heißt \"Blutschnitzer\", der Schaden ist 12, sie hat 3 Heiltränke die jeweils 50 HP heilen.)**\n",
    "\n",
    "Der erst, noch sehr schwache, Ork auf den Lyanna trifft klingt wie folgt:\n",
    "\n",
    "**Gegner: Brumbatz (Aktuelle Trefferpunkte sind 20, seine Waffe vom Typ \"Keule\" heißt \"Hoffnungsbrecher\", der Schaden ist 15.5.)**"
   ]
  },
  {
   "cell_type": "markdown",
   "id": "e9fedd26-5981-48b3-90b6-dcb751d55255",
   "metadata": {},
   "source": [
    "# Methoden\n",
    "Nun sind die Methoden, wie beschrieben, die Dinge, die ein Charakter oder Gegner tun kann. Unser Hauptcharakter Lyanna hat zunächst die Fähigkeit, jemanden anzugreifen (engl. *attack*), sich zu heilen (engl. *heal*) oder einen toten Feind zu plündern (engl. *loot*), während der einfache Ork nur jemanden angreifen kann (das Leben kann so einfach sein). Einfache Orks können nicht plündern und sich auch nicht heilen (ein ziemlich langweiliges und tödliches Leben). Die beiden Gegener\\*innen sollen sich abwechseln angreifen.\n",
    "\n",
    "Ein typischer Kampf soll so aussehen:\n",
    "\n",
    "* Runde 1: Lyanna attacks Brumbatz → Brumbatz HP decreases by 12 HP\n",
    "\n",
    "* Runde 2: Brumbatz attacks Lyanna → Lyanna HP decreases by 15.5 HP\n",
    "\n",
    "* Runde 3: Lyanna attacks Brumbatz → Brumbatz HP decreases by 12 HP. Brumbatz is dead.\n",
    "\n",
    "* Runde 4: Lyanna loots Brumbatz → Lyanna gets Brumbatzs weapon \"Hoffnungsbrecher\" of type \"Mace\"\n",
    "\n",
    "* Runde 5: Lyanna heals → Lyanna health is increased by (up to) 50 to her maximum of 100, amount of healing potions decreases by 1"
   ]
  },
  {
   "cell_type": "markdown",
   "id": "a03bae0c-19f0-457d-b9c6-9c79c3f8548d",
   "metadata": {},
   "source": [
    "# Implementierung ohne Objektorientierung\n",
    "\n",
    "Beginnen wir mit der Implementierung und abstrahieren wir die Textbausteine in Python-Code. Zuerst brauchen wir eine Möglichkeit, die Characteratribute zu speichern. Python bietet dafür die sehr vielseiting Datenstruktur eines Wörterbuchs (engl. *dictionary*), die es uns erlaubt, Paare aus einen Namen und einen Wert zu geben (engl. *key/value-pair*). Das scheint der perfekte Weg zu sein, um unsere Characterattribute zu repräsentieren. Wir erstellen zwei Wörterbücher, eines für jeden Character, und füllen die Startwerte entsprechend vor."
   ]
  },
  {
   "cell_type": "code",
   "execution_count": 1,
   "id": "ae01554b-ee59-4fd1-9ea9-a1ad61f78488",
   "metadata": {},
   "outputs": [],
   "source": [
    "# define two dictionaries that hold all character and enemy attributes\n",
    "character_lyanna = {\"Name\":\"Lyanna\", \"HP\": 100, \"Weapon\": (\"Dagger\", 12, \"Piekser\"), \"Potions\": [3, 50]}\n",
    "enemy_brumbatz = {\"Name\":\"Brumbatz\", \"HP\": 20, \"Weapon\": (\"Mace\", 15.5, \"Hoffnungsbrecher\")}"
   ]
  },
  {
   "cell_type": "markdown",
   "id": "361d390f-4034-43d0-8a5b-52a6cfd2c3bc",
   "metadata": {},
   "source": [
    "Das key/value-pair für die *weapon* ist etwas anders als die anderen: Als Wert übergeben wir ein Tuple - sie erinnern sich sicherlich noch was der Unterschied zu einer Liste ist.\n",
    "Auch das key/value-pair für die *potions* ist etwas anders als die anderen: Als Wert übergeben wir ein Liste... "
   ]
  },
  {
   "cell_type": "markdown",
   "id": "85f32ecc-d7d1-4b79-a863-a8c3bb495fc2",
   "metadata": {},
   "source": [
    "Als nächstes definieren wir die Funktionen, die wir in für unser Spiel benötigen. Neben den bereits beschriebenen Funktionen attack, heal und loot, führen wir eine weitere Funktion print_character ein, die den aktuellen Zustand des Charakters auf der Konsole ausgibt. Wir schreiben zunächst eine leere Funktionsstruktur (engl. *skeleton*), um ein Gefühl für die Funktion zu bekommen - dies ist eine oft verwendetete Technik beim Programmieren!"
   ]
  },
  {
   "cell_type": "code",
   "execution_count": 2,
   "id": "1acef028-11c5-47e4-8510-a4ad87248f2b",
   "metadata": {},
   "outputs": [],
   "source": [
    "def print_characters(character):\n",
    "    \"\"\"\n",
    "    Prints information about the specified character.\n",
    "\n",
    "    Parameters:\n",
    "        character (Character): The character to be printed.\n",
    "\n",
    "    Returns:\n",
    "        None\n",
    "    \"\"\"\n",
    "    pass\n",
    "\n",
    "\n",
    "def attack(attacker, attacked):\n",
    "    \"\"\"\n",
    "    Initiates an attack from the attacker character to the attacked character.\n",
    "\n",
    "    Parameters:\n",
    "        attacker (Character): The character initiating the attack.\n",
    "        attacked (Character): The character being attacked.\n",
    "\n",
    "    Returns:\n",
    "        None\n",
    "    \"\"\"\n",
    "    pass\n",
    "\n",
    "\n",
    "def heal(character):\n",
    "    \"\"\"\n",
    "    Restores the health of the specified character.\n",
    "\n",
    "    Parameters:\n",
    "        character (Character): The character to be healed.\n",
    "\n",
    "    Returns:\n",
    "        None\n",
    "    \"\"\"\n",
    "    pass\n",
    "\n",
    "\n",
    "def loot(character, body):\n",
    "    \"\"\"\n",
    "    Allows the specified character to loot items from a defeated enemy's body.\n",
    "\n",
    "    Parameters:\n",
    "        character (Character): The character looting the items.\n",
    "        body (Enemy): The defeated enemy's body to be looted.\n",
    "\n",
    "    Returns:\n",
    "        None\n",
    "    \"\"\"\n",
    "    pass"
   ]
  },
  {
   "cell_type": "markdown",
   "id": "0962cb88-4723-409a-a82f-fe47578a6c65",
   "metadata": {},
   "source": [
    "Nun beginnen wir mit der Implementierung der eigentlichen Funktionen basierend auf unseren *skeletons*. Wir beginnen mit der einfachsten: Die ```print_character```-Funktionen. Wenn wir darüber nachdenken, wie die ```print```-Anweisung aussehen soll, stellen wir schnell fest, dass die Darstellung von Lyanna anders aussehen soll als die Darstellung der Orcs: Das liegt daran, dass Lyanna ein Hauptcharakter ist und daher einen Heiltränke hat, die bei der Darstellung von Lyanna berücksichtigt werden müssen. Wir passen die Characterattribute entsprechend an und fügen dem existierenden Dictionary ein neues *key/value*-Paar hinzu:"
   ]
  },
  {
   "cell_type": "code",
   "execution_count": 3,
   "id": "64441140-a720-430f-8732-192cf01a7bc0",
   "metadata": {},
   "outputs": [],
   "source": [
    "# augment the dictionaries with another *key/value-pair*\n",
    "character_lyanna[\"Maincharacter\"] = True\n",
    "enemy_brumbatz[\"Maincharacter\"] = False"
   ]
  },
  {
   "cell_type": "markdown",
   "id": "243bcbb9-1457-4784-b87e-27b770eeb5e9",
   "metadata": {},
   "source": [
    "In unserer  ```print_character``` Funktion nutzen wir den *key* ```Maincharacter``` um in der Ausgabe zwischen Lyanna und einem Orc zu unterscheiden. In weiser Voraussicht unterscheiden wir ausserdem den Fall, dass der Gegner keine Waffe hat (weil wir sie dem Ork weggenommen haben!)."
   ]
  },
  {
   "cell_type": "code",
   "execution_count": 4,
   "id": "5fef72ce-1a1e-4d04-8733-fd0986fe48d8",
   "metadata": {},
   "outputs": [],
   "source": [
    "def print_character(character):\n",
    "    \"\"\"\n",
    "    Prints information about the specified character.\n",
    "\n",
    "    Parameters:\n",
    "        character (Character): The character to be printed.\n",
    "\n",
    "    Returns:\n",
    "        None\n",
    "    \"\"\"\n",
    "\n",
    "    if character[\"Maincharacter\"]:\n",
    "        print(\"Name: {}. HP: {}. Weapon: {} ({} damage). Potions: {} (Level: {})\".format(character[\"Name\"], character[\"HP\"], character[\"Weapon\"][0], character[\"Weapon\"][1], character[\"Potions\"][0], character[\"Potions\"][1]))\n",
    "    else:\n",
    "        if character[\"Weapon\"] is not None:\n",
    "            print(\"Name: {}. HP: {}. Weapon: {} ({} damage).\".format(character[\"Name\"], character[\"HP\"], character[\"Weapon\"][0], character[\"Weapon\"][1]))\n",
    "        else:\n",
    "            print(\"Name: {}. HP: {}.\".format(character[\"Name\"], character[\"HP\"]))\n"
   ]
  },
  {
   "cell_type": "markdown",
   "id": "440da27e-74ec-47b6-9548-bbed1ad45845",
   "metadata": {},
   "source": [
    "Alle Änderungen oder Erweiterungen testen wir immer direkt:"
   ]
  },
  {
   "cell_type": "code",
   "execution_count": 5,
   "id": "2c06b8d0-740b-4405-aac0-f3d360518668",
   "metadata": {},
   "outputs": [
    {
     "name": "stdout",
     "output_type": "stream",
     "text": [
      "Name: Lyanna. HP: 100. Weapon: Dagger (12 damage). Potions: 3 (Level: 50)\n",
      "Name: Brumbatz. HP: 20. Weapon: Mace (15.5 damage).\n"
     ]
    }
   ],
   "source": [
    "print_character(character_lyanna)\n",
    "print_character(enemy_brumbatz)"
   ]
  },
  {
   "cell_type": "markdown",
   "id": "7a755359-3db0-4916-9c6a-c56ad9fa267c",
   "metadata": {},
   "source": [
    "Das sieht sehr gut aus - wenn Ihnen hier etwas noch nicht gefällt, passen sie die ```print_character```-Funktion oder die Dictionaries entsprechend an."
   ]
  },
  {
   "cell_type": "markdown",
   "id": "d00897b1-15f3-45fb-bb30-c7ec4c4331f0",
   "metadata": {},
   "source": [
    "### attack\n",
    "Die Angriffsmethode *attack* ist einfach: wir reduzieren einfach die Angriffspunkte des/der Angegriffenen um die Waffenstärke, die der/die Angreifer\\*in hat. Nachdem wir die Angriffspunkte reduziert haben, überprüfen wir, ob der/die angegriffene Charakter\\*in tot ist (die Waffenstärke ist auf 0 oder weniger gesunken) und geben die entsprechende Meldung aus. Wir haben die Wahl dies als *pure function* zu implementieren (siehe VL 5) oder als normale Funktion. Die folgende Implementierung ist keine *pure function* - versuchen sie aber doch als Übung einmal die *attack* Funktionalität als *pure function* zu implementieren."
   ]
  },
  {
   "cell_type": "code",
   "execution_count": 6,
   "id": "03e6c83f-79ce-45da-98b4-b6df0ce42f7d",
   "metadata": {},
   "outputs": [],
   "source": [
    "# this is not a pure function: it directly modfies the argument ```attacked``` \n",
    "# and it prints out information on the screen\n",
    "\n",
    "def attack(attacker, attacked):\n",
    "    print(\"{} attacked {} with {}!\".format(attacker[\"Name\"],attacked[\"Name\"],attacker[\"Weapon\"][2]))\n",
    "    attacked[\"HP\"] -= attacker[\"Weapon\"][1]\n",
    "    if attacked[\"HP\"] <= 0:\n",
    "        print(\"{} is dead!\".format(attacked[\"Name\"]))"
   ]
  },
  {
   "cell_type": "code",
   "execution_count": 7,
   "id": "27d04241-9755-4ade-a739-1f0778074885",
   "metadata": {},
   "outputs": [
    {
     "name": "stdout",
     "output_type": "stream",
     "text": [
      "Brumbatz attacked Lyanna with Hoffnungsbrecher!\n",
      "Name: Lyanna. HP: 84.5. Weapon: Dagger (12 damage). Potions: 3 (Level: 50)\n",
      "Lyanna attacked Brumbatz with Piekser!\n",
      "Name: Brumbatz. HP: 8. Weapon: Mace (15.5 damage).\n"
     ]
    }
   ],
   "source": [
    "# test the implementation\n",
    "attack(enemy_brumbatz, character_lyanna)\n",
    "print_character(character_lyanna)\n",
    "attack(character_lyanna, enemy_brumbatz)\n",
    "print_character(enemy_brumbatz)"
   ]
  },
  {
   "cell_type": "markdown",
   "id": "d531cef8-cc16-4cac-8874-996cafd72b0a",
   "metadata": {},
   "source": [
    "### loot\n",
    "Jemanden zu plündern ist eine Prozedur, die nur mit einem/einer Hauptcharakter\\*in aufgerufen werden sollte, da Orks überhaupt nicht plündern können. Wir brauchen also zuerst eine ```if```-Anweisung, um zu prüfen, ob der als Argument angegebene Charakter wirklich ein/e Hauptcharakter/*in ist. Dann prüfen wir, ob der/die Charakter\\*in, den wir plündern wollen, tatsächlich tot ist, denn ein lebender Ork wird uns höchstwahrscheinlich nicht plündern lassen. Denken sie daran, dass sie dem geplünderten Character die Waffe auch wegnehmen müssen (auch wenn er tot ist)."
   ]
  },
  {
   "cell_type": "code",
   "execution_count": 8,
   "id": "03ee7afb-75df-4c4d-83ee-6ce1359bf8e2",
   "metadata": {},
   "outputs": [],
   "source": [
    "# this is not a pure function: it directly modfies the argument ```character```\n",
    "# and it prints out information on the screen\n",
    "\n",
    "def loot(character, body):\n",
    "    if character[\"Maincharacter\"] and body[\"HP\"] <= 0:\n",
    "        if body[\"Weapon\"] is not None:\n",
    "            character[\"Weapon\"] = body[\"Weapon\"]\n",
    "            print(\"{} looted {}. New weapon found: {} {} with strengh {}\".format(character[\"Name\"], body[\"Name\"], body[\"Weapon\"][0], body[\"Weapon\"][2], body[\"Weapon\"][1]))\n",
    "            body[\"Weapon\"] = None #take away the weapon from the body\n",
    "        else:\n",
    "            print(\"{} has no weapon to loot!\".format(body[\"Name\"]))\n",
    "    else:\n",
    "        print(\"Looting not possible - {} is not dead yet!\".format(body[\"Name\"]))\n"
   ]
  },
  {
   "cell_type": "markdown",
   "id": "ab9746c4-7f47-4093-bef7-68a66fad4932",
   "metadata": {},
   "source": [
    "Denken sie daran: Nur tote Orks sind gute Orks. Und nur tote Orks können sie *looten*. Wir greifen sicherheitshalb nochmal an..."
   ]
  },
  {
   "cell_type": "code",
   "execution_count": 9,
   "id": "c6f15dc6-053f-4841-b73e-9ca899069089",
   "metadata": {},
   "outputs": [
    {
     "name": "stdout",
     "output_type": "stream",
     "text": [
      "Lyanna attacked Brumbatz with Piekser!\n",
      "Brumbatz is dead!\n",
      "Lyanna looted Brumbatz. New weapon found: Mace Hoffnungsbrecher with strengh 15.5\n",
      "Name: Lyanna. HP: 84.5. Weapon: Mace (15.5 damage). Potions: 3 (Level: 50)\n",
      "Name: Brumbatz. HP: -4.\n"
     ]
    }
   ],
   "source": [
    "# test the implementation\n",
    "attack(character_lyanna, enemy_brumbatz)\n",
    "loot(character_lyanna, enemy_brumbatz)\n",
    "print_character(character_lyanna)\n",
    "print_character(enemy_brumbatz)"
   ]
  },
  {
   "cell_type": "markdown",
   "id": "9fcd7a26-90e9-4892-bbef-837b22bd9792",
   "metadata": {},
   "source": [
    "<div class=\"alert alert-block alert-info\">  \n",
    "Wir wollen hier künftig sicher noch etwas nachbessern: Will Lyanna wirklich immer die neue Waffe des Orks benutzen oder wollen wir dem/der Spieler*\\in vielleicht eine aktive Wahl lassen? Sollten wir nicht besser testen ob Lyanna auch lebt bevor wir einen Ork looten?</div>"
   ]
  },
  {
   "cell_type": "markdown",
   "id": "4840fac3-ecc1-4164-ab7d-203e47329c9f",
   "metadata": {},
   "source": [
    "### heal\n",
    "Wie auch schon ```loot``` ist ```heal```eine Aktion, die nur mit einem/einer Hauptcharakter\\*in aufgerufen werden kann, da Orks keine Potions besitzen. Wir brauchen also wieder zuerst eine ```if```-Anweisung, um zu prüfen, ob der als Argument angegebene Charakter wirklich ein/e Hauptcharakter/*in ist. Dann prüfen wir, ob der/die Charakter\\*in die wir heilen wollen noch Potions verfügbar hat. Dann erhöhen wir die HP um 50. Diesen Wert sollten wir aber im Dictionary festlegen und nicht als sog. *magic number* im Code verstecken - wir passen Lyanna also nochmal an, der Ork kann bleiben wie er/sie ist.\n"
   ]
  },
  {
   "cell_type": "code",
   "execution_count": 10,
   "id": "7b1d5c04-116a-446f-a18c-322ca431441e",
   "metadata": {},
   "outputs": [],
   "source": [
    "def heal(character):\n",
    "    if character[\"Maincharacter\"]:\n",
    "        if character[\"Potions\"][0] > 0:\n",
    "            character[\"Potions\"][0] -= 1\n",
    "            character[\"HP\"] += character[\"Potions\"][1]\n",
    "            print(\"{}'s health is increased to {}!\".format(character[\"Name\"], character[\"HP\"]))\n",
    "        else:\n",
    "            print(\"No potions left! :(\")\n",
    "    else:\n",
    "        print(\"Can not heal this character.... is it an Ork?\")\n",
    "    return character"
   ]
  },
  {
   "cell_type": "code",
   "execution_count": 11,
   "id": "73265ebf-3e20-479e-8d51-70afe9d4ea38",
   "metadata": {},
   "outputs": [
    {
     "name": "stdout",
     "output_type": "stream",
     "text": [
      "Lyanna's health is increased to 134.5!\n",
      "Name: Lyanna. HP: 134.5. Weapon: Mace (15.5 damage). Potions: 2 (Level: 50)\n"
     ]
    }
   ],
   "source": [
    "# test the implementation\n",
    "heal(character_lyanna)\n",
    "print_character(character_lyanna)"
   ]
  },
  {
   "cell_type": "markdown",
   "id": "cac3d364-9c19-4737-880e-fef7f4f1d2d5",
   "metadata": {},
   "source": [
    "<div class=\"alert alert-block alert-info\">  \n",
    "Auch hier gibt es noch Arbeit für die Zukunft: Wollen wir es erlauben, dass Lyanna sich beliebig heilt oder soll es maximale HP geben?"
   ]
  },
  {
   "cell_type": "markdown",
   "id": "801e4adc-72bc-41f2-9c64-335f82403651",
   "metadata": {},
   "source": [
    "### Der erste Kampf!\n",
    "Wir haben Lyanna und unseren ersten Ork implementiert, wir haben Funktionen für *attack*, *heal*, und *loot* geschrieben - es wird Zeit das alles zu testen. Bevor wir loslegen, setzen wir die HP und Waffen unserer beiden Charactere wieder auf die ursprünglichen Werte. Der Kampf geht auf Leben und Tod, let's go!"
   ]
  },
  {
   "cell_type": "code",
   "execution_count": 12,
   "id": "8ed2f881-cc35-4de8-8303-bf306c10968a",
   "metadata": {},
   "outputs": [],
   "source": [
    "character_lyanna = {\"Name\":\"Lyanna\", \"HP\": 100, \"Weapon\": (\"Dagger\", 12, \"Piekser\"), \"Potions\": [3, 50], \"Maincharacter\":True}\n",
    "enemy_brumbatz = {\"Name\":\"Brumbatz\", \"HP\": 20, \"Weapon\": (\"Mace\", 15.5, \"Hoffnungsbrecher\"), \"Maincharacter\":False}"
   ]
  },
  {
   "cell_type": "code",
   "execution_count": 13,
   "id": "b446f3af-e307-4e0a-adaa-ac395406599b",
   "metadata": {},
   "outputs": [
    {
     "name": "stdout",
     "output_type": "stream",
     "text": [
      "Name: Lyanna. HP: 100. Weapon: Dagger (12 damage). Potions: 3 (Level: 50)\n",
      "Name: Brumbatz. HP: 20. Weapon: Mace (15.5 damage).\n",
      "Lyanna attacked Brumbatz with Piekser!\n",
      "Brumbatz attacked Lyanna with Hoffnungsbrecher!\n",
      "Lyanna attacked Brumbatz with Piekser!\n",
      "Brumbatz is dead!\n",
      "Name: Lyanna. HP: 84.5. Weapon: Dagger (12 damage). Potions: 3 (Level: 50)\n",
      "Lyanna looted Brumbatz. New weapon found: Mace Hoffnungsbrecher with strengh 15.5\n",
      "Lyanna's health is increased to 134.5!\n",
      "Name: Lyanna. HP: 134.5. Weapon: Mace (15.5 damage). Potions: 2 (Level: 50)\n",
      "Name: Brumbatz. HP: -4.\n"
     ]
    }
   ],
   "source": [
    "print_character(character_lyanna)\n",
    "print_character(enemy_brumbatz)\n",
    "attack(character_lyanna, enemy_brumbatz)\n",
    "attack(enemy_brumbatz, character_lyanna)\n",
    "attack(character_lyanna, enemy_brumbatz)\n",
    "print_character(character_lyanna)\n",
    "loot(character_lyanna, enemy_brumbatz)\n",
    "heal(character_lyanna)\n",
    "print_character(character_lyanna)\n",
    "print_character(enemy_brumbatz)"
   ]
  },
  {
   "cell_type": "markdown",
   "id": "2abf61d5-5a19-4d5e-a3fd-ad5557e16fed",
   "metadata": {},
   "source": [
    "Das war der Erste Kampf - doch der nächste wartet schon! Wir fügen also einen neuen Charakter zu unserem Spiel hinzu: **Olmur**. Sie ist eine besondere Art von Ork, die auch eine Rüstung trägt, die sie vor Schaden schützt, solange die Waffenstärke des Angreifers geringer ist als ihre Rüstungspunkte. "
   ]
  },
  {
   "cell_type": "markdown",
   "id": "7e23258e-d8cc-450a-982c-87b5291a5513",
   "metadata": {},
   "source": [
    "Puh.\n",
    "\n",
    "Lassen Sie uns kurz über die Änderungen nachdenken, die wir vornehmen müssten, um unser Programm an die neuen Anforderungen anzupassen. Zunächst müssten wir eine weitere *if*-Anweisung zu den Prozeduren ```print_character``` hinzufügen - nervig aber machbar. Dann müsste aber auch die ```attack``` Funktion geändert werden, jetzt auch unter Berücksichtigung der Tatsache, dass es einige Charaktere gibt, die Rüstungen tragen. Aber wir sind noch nicht fertig. Wir müssen eigentlich unsere gesamten Charakter-*dictionaries* ändern, denn wir haben jetzt einen dritten Charaktertyp. Da wir nun drei Charaktertypen eingeführt haben, können wir den key ```Maincharacter``` nicht mehr mit einer boolschen ```True```/```False``` Variable verwenden. Also müssen wir das in eine ganze Zahl ändern: 0 = ```Maincharacter```, 1 = ```Orc```, 2 = ```Ork-with-armor```. Aber dann müssen wir auch alle unsere vorher geschriebenen ```if```-Anweisungen neu schreiben. Es ist klar, dass wir eine Menge Code hinzufügen und umschreiben müssten, nur um eine kleine Änderung in den Spielanforderungen einzuführen.\n",
    "\n",
    "Stellen wir uns nun ein größeres Spiel vor, bei dem es noch mehr Abhängigkeiten zwischen den verschiedenen Charakteren und Funktionen gibt. Wir würden unsere Funktionen schnell mit sehr vielen```if```-s neuen *dictionary*-Repräsentationen unserer Charaktere überfüllen und unüberschtlich machen."
   ]
  },
  {
   "cell_type": "markdown",
   "id": "8600cb45-77ed-40ba-8b6b-2a2d957cd108",
   "metadata": {},
   "source": [
    "# Implementierung mit Objektorientierung\n",
    "\n",
    "Auch wenn funktionales Programmieren einen wichtigen Platz in der Programmierung besitzt, ist dieses Computerspiel ein perfektes Beispiel, bei dem Objektorientierung viel besser ist. Wenn wir eine Software auf objektorientierte Weise entwerfen, verwenden wir Klassen. Jede Klasse, die wir entwerfen, repräsentiert ein Objekt im Spiel. Jede Klasse besteht dann aus Attributen und Methoden, die das Objekt beschreiben, das sie repräsentiert. "
   ]
  },
  {
   "cell_type": "markdown",
   "id": "4686630f-03e6-4263-b78b-2692f7a3f37a",
   "metadata": {},
   "source": [
    "In unserem Spielbeispiel ist es recht einfach, unsere ersten Objekte zu identifizieren: Lyanna (Hauptcharakter), Brumbatz, und Olmur. Diese beiden Objekte ergeben jeweils eine Klasse. Lyanna wird wieder Attribute für ```name```, ```hitpoints```, ```weapon``` sowie die Anzahl und Stärke der ```potions```, die sie noch hat, haben. Ihre Methoden sind weiterhin ```attack```, ```heal``` und ```loot```. Orkan hat immer noch die Attribute ```name```, ```hitpoints```, ```weapon``` und nur eine Methode ```attack```, während Olmur zusätzlich eine Rüstung trägt.  "
   ]
  },
  {
   "cell_type": "markdown",
   "id": "98ac23d3-3d28-46a0-bc7e-57997387ddd5",
   "metadata": {},
   "source": [
    "Aber warum sollte die Strukturierung der Attribute und Methoden in Klassen unsere Probleme lösen? Der Trick besteht darin, eine abstrakte Klasse zu verwenden, die die Attribute und Methoden bündelt, die sowohl Lyanna als auch die Orks gemeinsam haben. Wenn man Lyanna und und die Orks vergleicht, sieht man deutlich, dass sie die meisten Eigenschaften gemeinsam haben - aber eben nicht alle. Wir werden nun ein neues Objekt in unser Spiel einführen, ein so genanntes abstraktes Objekt oder eine abstrakte Klasse. Eine abstrakte Klasse ist eine Klasse, die nicht direkt verwendet/instanziiert werden darf, sondern die nur als Vorlage für andere Klassen dient."
   ]
  },
  {
   "cell_type": "markdown",
   "id": "d33414fd-f0a1-4002-ba50-2ec1f40abfe0",
   "metadata": {},
   "source": [
    "### base class \"character\"\n",
    "\n",
    "Beginnen wir mit der Erstellung unserer abstrakten Klasse. Unsere Klasse soll Felder (Instanzvariablen) für ```name```, ```hitpoints```, ```weapon``` sowie die Methode ```attack``` haben. Dieses Mal führen wir auch eine neue Methode namens ```reduce_health``` ein, die wir vorher nicht implementiert haben. Und warum? Weil HP ein privates Attribut sein soll, niemand soll die HP eines Charakters direkt verändern können, außer dem Charakter selbst. Als Faustregel gilt, dass auf private Variablen niemals direkt zugegriffen werden darf, sondern nur über Methoden. Anders als z.B. C++ kennt Python das Konzept von privaten Variablen allerdings nicht explizt sondern verlässt sich darauf, dass Nutzer\\*innen verantwortungsvoll mit dem Code umgehen. Wir kennzeichnen solche Variablen mit einem Unterstrich - dies ist nur ein Hinweis, aber kein expliziter Schutz dagegen, dass die Variablen nicht verändert werden sollen.\n",
    "\n",
    "Erinnern sie sich ausserdem an die Best practice: Wann immer sie eine neue Klasse definieren, implementieren sie immer zuerst die ```__init__``` und die ```__str__``` Methoden!\n",
    "\n",
    "Wenn wir eine neue Instanz des Charakters erstellen, wollen wir einen bestimmten Namen und eine bestimmte Waffe festlegen. Die HP wollen wir nicht manuell setzen, da die Klasse selbst bestimmt, wie viel HP ein Charakter bekommen soll. Zum Beispiel wird unser Hauptcharakter immer 100 HP haben, und unsere Orks abhängig davon welchen Ork wir gerade als Gegener haben. Wir übergeben das HP-Argument also nicht manuell, sondern berechnen/setzen es später im Konstruktor (der ```___init___``` Methode)."
   ]
  },
  {
   "cell_type": "code",
   "execution_count": 14,
   "id": "65a1705b-36fc-4c72-ad99-51b175fb2f3c",
   "metadata": {},
   "outputs": [],
   "source": [
    "class Character:\n",
    "    \"\"\"\n",
    "    A class to represent a character in a game.\n",
    "\n",
    "    Attributes\n",
    "    ----------\n",
    "    name : str\n",
    "        name of the character\n",
    "    HP : int\n",
    "        hit points of the character\n",
    "    weapon : str\n",
    "        weapon of the character\n",
    "\n",
    "    Methods\n",
    "    -------\n",
    "    __init__(self, Name, Weapon):\n",
    "        Initializes the Character with a name, health points, and a weapon.\n",
    "        \n",
    "    __str__(self):\n",
    "        Returns a string representation of the Character.\n",
    "        \n",
    "    attack(self, enemy):\n",
    "        Makes the Character attack an enemy.\n",
    "        \n",
    "    reduceHealth(self, enemy):\n",
    "        Reduces the health of the Character when attacked by an enemy.\n",
    "    \"\"\"\n",
    "\n",
    "    def __init__(self, name, weapon):\n",
    "        \"\"\"\n",
    "        Initializes the Character with a name, hit points, and a weapon.\n",
    "\n",
    "        Parameters\n",
    "        ----------\n",
    "        name : str\n",
    "        name of the character\n",
    "        weapon : tuple\n",
    "        weapon of the character\n",
    "        \"\"\"\n",
    "        \n",
    "        if type(self) == Character:\n",
    "            raise Exception(str(type(self)) + \" can not be directly instanced. Please use subclasses.\")\n",
    "\n",
    "        self._name = name\n",
    "        self._HP = -1 #not set in base class constructor, but in inherited classes later\n",
    "        self._weapon_type = weapon[0]\n",
    "        self._weapon_strength = weapon[1]\n",
    "        self._weapon_name = weapon[2]\n",
    "\n",
    "    def __str__(self):\n",
    "        \"\"\"\n",
    "        Returns a string representation of the Character.\n",
    "\n",
    "        Returns\n",
    "        -------\n",
    "        str\n",
    "        a string representation of the Character\n",
    "        \"\"\"\n",
    "        return(\"Name: {}. HP: {}. Weapon: {} ({} damage).\".format(self._name, self._HP, self._weapon_type, self._weapon_strength))\n",
    "\n",
    "    def get_hp(self): #for experts: this is not the pythonic way for such simple attributes, use properties instead\n",
    "        \"\"\"\n",
    "        Returns current HP of the Character.\n",
    "\n",
    "        Returns\n",
    "        -------\n",
    "        float\n",
    "        HP of the character\n",
    "        \"\"\"\n",
    "\n",
    "        return self._HP\n",
    "    \n",
    "    def attack(self, enemy):\n",
    "        \"\"\"\n",
    "        Makes the Character attack an enemy.\n",
    "\n",
    "        Parameters\n",
    "        ----------\n",
    "        enemy : Character\n",
    "        the enemy to be attacked by the Character\n",
    "        \"\"\"\n",
    "        enemy.reduce_health(self)\n",
    "\n",
    "\n",
    "    def reduce_health(self, enemy):\n",
    "        \"\"\"\n",
    "        Reduces the health of the Character when attacked by an enemy.\n",
    "\n",
    "        Parameters\n",
    "        ----------\n",
    "        enemy : Character\n",
    "        the enemy who attacks the Character\n",
    "        \"\"\"\n",
    "        if self._HP > 0 and enemy._weapon_type is not None:\n",
    "            damage = enemy._weapon_strength\n",
    "            self._HP -= damage\n",
    "            print(\"{} attacked {} with {} ({} damage)!\".format(enemy._name, self._name, enemy._weapon_name, damage))\n",
    "        if self._HP <= 0:\n",
    "            print(\"{} is dead!\".format(self._name))\n",
    "\n"
   ]
  },
  {
   "cell_type": "markdown",
   "id": "23137462-68b0-431e-a19b-bac8cbca154f",
   "metadata": {},
   "source": [
    "- Was macht die ```if```-Anweisung im ```___init___```?\n",
    "    - Unsere Klasse soll abstrakt sein, also ist keine Instanziierung erlaubt. Wir wollen nicht, dass irgendein Objekt direkt vom Typ \"Charakter\" ist. Was würde das überhaupt bedeuten? Man ist entweder ein Ork oder ein Hobbit, aber wie könnte man einfach ein allgemeiner Charakter sein? Der erste Mechanismus, um die Instanzierung der Klasse selbst zu verbieten, besteht also darin, im Konstruktor eine Ausnahme zu erzeugen, wenn jemand versucht, eine Instanz vom Typ \"Charakter\" zu erzeugen. Dies wird nicht zu Problemen führen, wenn wir später von Character erben, da die geerbten Objekte neue Namen haben werden. Sollte jemand versuchen eine Instanz der \"Character\"-Klasse zu erzeugen, funktioniert das nun nichtmehr so einfach und führt zu einer Fehlermeldung:"
   ]
  },
  {
   "cell_type": "code",
   "execution_count": 15,
   "id": "651e4446-6fd9-45ca-bc24-6fb714315d0b",
   "metadata": {},
   "outputs": [
    {
     "ename": "Exception",
     "evalue": "<class '__main__.Character'> can not be directly instanced. Please use subclasses.",
     "output_type": "error",
     "traceback": [
      "\u001b[0;31m---------------------------------------------------------------------------\u001b[0m",
      "\u001b[0;31mException\u001b[0m                                 Traceback (most recent call last)",
      "Cell \u001b[0;32mIn[15], line 1\u001b[0m\n\u001b[0;32m----> 1\u001b[0m character_lyanna \u001b[38;5;241m=\u001b[39m \u001b[43mCharacter\u001b[49m\u001b[43m(\u001b[49m\u001b[38;5;124;43m'\u001b[39;49m\u001b[38;5;124;43mLyanna\u001b[39;49m\u001b[38;5;124;43m'\u001b[39;49m\u001b[43m,\u001b[49m\u001b[43m \u001b[49m\u001b[43m(\u001b[49m\u001b[38;5;124;43m'\u001b[39;49m\u001b[38;5;124;43mdagger\u001b[39;49m\u001b[38;5;124;43m'\u001b[39;49m\u001b[43m,\u001b[49m\u001b[43m \u001b[49m\u001b[38;5;241;43m12\u001b[39;49m\u001b[43m,\u001b[49m\u001b[43m \u001b[49m\u001b[38;5;124;43m'\u001b[39;49m\u001b[38;5;124;43mPiekser\u001b[39;49m\u001b[38;5;124;43m'\u001b[39;49m\u001b[43m)\u001b[49m\u001b[43m)\u001b[49m\n",
      "Cell \u001b[0;32mIn[14], line 42\u001b[0m, in \u001b[0;36mCharacter.__init__\u001b[0;34m(self, name, weapon)\u001b[0m\n\u001b[1;32m     30\u001b[0m \u001b[38;5;250m\u001b[39m\u001b[38;5;124;03m\"\"\"\u001b[39;00m\n\u001b[1;32m     31\u001b[0m \u001b[38;5;124;03mInitializes the Character with a name, hit points, and a weapon.\u001b[39;00m\n\u001b[1;32m     32\u001b[0m \n\u001b[0;32m   (...)\u001b[0m\n\u001b[1;32m     38\u001b[0m \u001b[38;5;124;03mweapon of the character\u001b[39;00m\n\u001b[1;32m     39\u001b[0m \u001b[38;5;124;03m\"\"\"\u001b[39;00m\n\u001b[1;32m     41\u001b[0m \u001b[38;5;28;01mif\u001b[39;00m \u001b[38;5;28mtype\u001b[39m(\u001b[38;5;28mself\u001b[39m) \u001b[38;5;241m==\u001b[39m Character:\n\u001b[0;32m---> 42\u001b[0m     \u001b[38;5;28;01mraise\u001b[39;00m \u001b[38;5;167;01mException\u001b[39;00m(\u001b[38;5;28mstr\u001b[39m(\u001b[38;5;28mtype\u001b[39m(\u001b[38;5;28mself\u001b[39m)) \u001b[38;5;241m+\u001b[39m \u001b[38;5;124m\"\u001b[39m\u001b[38;5;124m can not be directly instanced. Please use subclasses.\u001b[39m\u001b[38;5;124m\"\u001b[39m)\n\u001b[1;32m     44\u001b[0m \u001b[38;5;28mself\u001b[39m\u001b[38;5;241m.\u001b[39m_name \u001b[38;5;241m=\u001b[39m name\n\u001b[1;32m     45\u001b[0m \u001b[38;5;28mself\u001b[39m\u001b[38;5;241m.\u001b[39m_HP \u001b[38;5;241m=\u001b[39m \u001b[38;5;241m-\u001b[39m\u001b[38;5;241m1\u001b[39m \u001b[38;5;66;03m#not set in base class constructor, but in inherited classes later\u001b[39;00m\n",
      "\u001b[0;31mException\u001b[0m: <class '__main__.Character'> can not be directly instanced. Please use subclasses."
     ]
    }
   ],
   "source": [
    "character_lyanna = Character('Lyanna', ('dagger', 12, 'Piekser'))"
   ]
  },
  {
   "cell_type": "markdown",
   "id": "e142ef08-bdf6-4c1f-96ae-a0d0526a273f",
   "metadata": {},
   "source": [
    "- Warum setzen wir die HP auf -1, ist der Charakter dann nicht schon bei der Erstellung tot? \n",
    "    - Wir setzen den HP auf einen negativen Wert, um unsere Unterklassen zu zwingen, ihn zu überschreiben. Wenn wir vergessen würden, die HP zu überschreiben, würde der neu instanziierte Charakter  direkt sterben und wir würden sehen, dass es ein Problem gibt, aber unser Spiel würde nicht sofort abstürzen. Man kann die Absturzvermeidung als gut oder schlecht ansehen - oftmals ist es aber auch besser schnell und sicher abzustürzen als später Probleme zu finden und nicht zu wissen woher sie kommen."
   ]
  },
  {
   "cell_type": "markdown",
   "id": "7ad7a898-76cf-4c20-88cf-7213b9a3a69a",
   "metadata": {},
   "source": [
    "Was ist mit der Angriffsfunktion? Denken Sie daran, dass das Objekt selbst nicht mehr dafür verantwortlich ist, dem Feind Schaden zuzufügen, wir rufen nur die Methode ```reduce_health``` des Feindes auf und er wird entsprechend handeln. Warum sollten wir nicht direkt in der Angreiferklasse agieren, sondern eine neue Methode einführen? Nun, der Angreifer sollte sich wirklich nicht darum kümmern, wie er für jeden möglichen Charaktertyp Schaden austeilen kann. Wie genau der Schaden genommen wird, ist eine Information, die der/die Angreifer\\*in gar nicht kennt. Der/die Angreifer\\*in sagt einfach: \"Ich füge dir Schade zu, reduziere deine Gesundheit\". Dann schaut sich die ```reduce_health```-Methode den Angreifer an und reduziert seine Gesundheit entsprechend der Waffe des Angreifers. **Brumbatz** wird so reagieren: \"Oh, ich werde mit einem Dolch angegriffen, also reduziere ich meine Gesundheit um die Angriffspunkte des Dolches\", aber **Olmur** anders: \"Was, du greifst mich mit so einem kleinen Dolch an? Meine Rüstung wird diesen Treffer verkraften, und ich werde meine Lebenspunkte nicht sehr reduzieren\". Es ist die Aufgabe von **Olmur** zu wissen, dass sie weniger Schaden nimmt, wenn die Waffe zu schwach ist, nicht **Lyana's**."
   ]
  },
  {
   "cell_type": "markdown",
   "id": "a2948e20-f501-4845-9fb1-5420b407aa40",
   "metadata": {},
   "source": [
    "Sie sehen hier etwas Besonderes: Die Attribute der Methoden ```attack``` und ```reduce_health``` sind beide vom Typ ```enemy``` - wir übergeben ein ganzes Objekt an diese Methoden! Unsere Angriffsfunktion weiß also, welcher Feind angegriffen werden soll (```enemy```) und ruft ihn auf, um seine Lebenspunkte zu reduzieren, ```enemy.reduce_health(self)```. Das ```self```, das als Parameter übergeben wird, ist das aktuelle Objekt selbst, das Objekt, in dessen Methode wir uns gerade befinden, also der Angreifer. Wenn wir also ```lyana.attack(olmur)``` aufrufen, gelangen wir in **Lyana's** Angriffsmethode und dann weiter zu **Olmur's** ```recude_health```-Methode mit **Lyana** als Argument: ```olmur.reduce_health(lyana)```. In der ```reduce_health``` Methode reduzieren wir normalerweise die HP des Gegners um die Waffenstärke des Angreifers. Wenn wir dieses ```reduce_health``` später anders implementieren wollen um z.B. Rüstungen zu berücksichtigen, können wir es einfach in unseren Unterklassen überschreiben."
   ]
  },
  {
   "cell_type": "markdown",
   "id": "19890e57-37bc-4e13-9c80-49d430f0e0ad",
   "metadata": {},
   "source": [
    "### Spieler\\*innen-character Lyana\n",
    "\n",
    "Gut, wir sind mit der Implementierung von der ```base class``` ```Character``` fertig. Nun implementieren wir den Spieler\\*innencharakter als Unterklasse von ```Character```. Wir erstellen wieder einen leeren Klassenkörper ```Player```. Beachten Sie, dass wir nichts von dem, was wir erben, nochmal implementieren, d.h. die Methoden für ```attack``` und ```reduce_health``` sind nicht in der Klasse ```Player``` zu finden, sondern werden geerbt. Dasselbe gilt für die Instanzvariablen: Wir definieren ```name```, ```hitpoints``` und ```weapon```  nicht noch einmal, das haben wir bereits in der abstrakten Klasse getan. Was wir hier implementieren, ist alles, was entweder neu ist oder nicht mehr von der abstrakten Klasse ```Character``` gilt:\n",
    "- das HP-Attribut (wir wollen natürlich, dass Player eine Gesundheit größer als -1 hat)\n",
    "- neue Attribute ```_number_of_potions``` und ```_potions_level```. Mit dem einfachen Unterstrich weisen wir darauf hin, dass diese Variablen nicht von aussen geandert werden sollen.\n",
    "- die ```___str___```-Methode (wir wollen eine andere String-Repräsentation für Player haben, also werden wir diese überschreiben) \n",
    "- die neue Methode ```heal```\n",
    "- die neue Methode ```loot```"
   ]
  },
  {
   "cell_type": "code",
   "execution_count": 56,
   "id": "3e5c04c3-5e66-4ccd-a954-a894f19436ca",
   "metadata": {},
   "outputs": [],
   "source": [
    "class Player(Character):\n",
    "    def __init__(self, name, weapon):\n",
    "        super().__init__(name, weapon) # calls ___init___ method of parent class\n",
    "        self._HP = 100\n",
    "        self._number_of_potions = 3\n",
    "        self._potions_level = 50\n",
    " \n",
    "    def __str__(self):\n",
    "        return(\"Name: {}. HP: {}. Weapon: {} ({} damage). Potions: {} (Level: {})\".format(self._name, self._HP, \n",
    "                                                                                          self._weapon_type, self._weapon_strength, \n",
    "                                                                                          self._number_of_potions, self._potions_level))\n",
    "    \n",
    "    def heal(self):\n",
    "        if self._number_of_potions > 0:\n",
    "            self._number_of_potions -= 1\n",
    "            self._HP += self._potions_level\n",
    "            print(\"{}'s health is increased to {}!\".format(self._name, self._HP))\n",
    "        else:\n",
    "            print(\"No potions left! :(\")\n",
    "\n",
    "            \n",
    "    def loot(self, body):\n",
    "        if body._weapon_type is not None:\n",
    "            self._weapon_type = body._weapon_type\n",
    "            self._weapon_strength = body._weapon_strength\n",
    "            self._weapon_name = body._weapon_name\n",
    "            print(\"{} looted {}. New weapon found: {} {} with strenght {}\".format(self._name, body._name, \n",
    "                                                                                 body._weapon_type, body._weapon_name,body._weapon_strength))\n",
    "            body._weapon_strength = None #take away the weapon from the body!\n",
    "            body._weapon_type = None #take away the weapon from the body!\n",
    "            body._weapon_name = None #take away the weapon from the body!\n",
    "        else:\n",
    "            print(\"{} has no weapon to loot!\".format(body._name))\n"
   ]
  },
  {
   "cell_type": "code",
   "execution_count": 57,
   "id": "c5659935-5c8c-4128-80c0-970a08120c6b",
   "metadata": {},
   "outputs": [
    {
     "name": "stdout",
     "output_type": "stream",
     "text": [
      "Name: Lyanna. HP: 100. Weapon: dagger (12 damage). Potions: 3 (Level: 50)\n"
     ]
    }
   ],
   "source": [
    "player_lyanna = Player('Lyanna', ('dagger', 12, 'Piekser'))\n",
    "print(player_lyanna)"
   ]
  },
  {
   "cell_type": "markdown",
   "id": "9b04457b-f3a2-456d-9eba-85fc28fcc188",
   "metadata": {},
   "source": [
    "### Orks: Brumbatz\n",
    "\n",
    "Jetzt, wo wir die Klasse ```Player``` implementiert haben, ist es wirklich einfach, das Gleiche mit den Orks zu tun - zumindest solange wir die Rüstung aussen vor lassen. Warum? Weil sie eigentlich alles von der abstrakten Klasse Character direkt erben können, ohne irgendeine Änderung oder Ergänzung. Nun, das ist nicht 100% wahr, wir müssen eine Änderung vornehmen, nämlich die HP überschreiben. Aber das war's dann auch schon. Wie wird diese Klasse dann aussehen? Nun, ziemlich leer..."
   ]
  },
  {
   "cell_type": "code",
   "execution_count": 58,
   "id": "daa3a4ee-c052-4106-9255-da22c07e4424",
   "metadata": {},
   "outputs": [],
   "source": [
    "class Ork(Character):\n",
    "    def __init__(self, name, weapon):\n",
    "        super().__init__(name, weapon)\n",
    "        self._HP = 20"
   ]
  },
  {
   "cell_type": "code",
   "execution_count": 59,
   "id": "64d4aa18-14be-413b-9f19-b533e2303732",
   "metadata": {},
   "outputs": [
    {
     "name": "stdout",
     "output_type": "stream",
     "text": [
      "Name: Brumbatz. HP: 20. Weapon: mace (15 damage).\n"
     ]
    }
   ],
   "source": [
    "enemy_brumbatz = Ork('Brumbatz', ('mace', 15, 'Hoffnungsbrecher'))\n",
    "print(enemy_brumbatz)"
   ]
  },
  {
   "cell_type": "markdown",
   "id": "485c8ec3-6712-4f77-a689-ad117036a430",
   "metadata": {},
   "source": [
    "### Orks: Olmur\n",
    "\n",
    "Wir erinnern uns: Die Motivation OOP zu benutzen, war **Olmur**, die Ork mit einer Rüstung. **Olmur** hat ausserdem mehr HP als **Brumbatz**. Wir müssen also die ```___init___``` Funktion anpassen um die HP und die Rüstung hinzuzufügen. Ausserdem braucht **Olmur*** eine andere ```reduce_health``` Funktion und sollte auch in der ```___str___``` Methode die Rüstung anzeigen. Beachten sie: Wir müssen gar nichts am Playercharakter ändern - der/die Angegriffene ist verantwortlich den Schaden richtig zu reduzieren.\n",
    "\n",
    "Für die HP führen wir ein *level* für die Orks ein - je höher das Level, desto mehr HP hat der Ork.\n",
    "\n",
    "Anstatt eine eigene Ork-Klasse für Orks mit Rüstungen einzuführen, bekommen jetzt alle Orks das Attribute ```armor``` - **Brumbatz** hat eben einfach keine Rüstung.."
   ]
  },
  {
   "cell_type": "code",
   "execution_count": 62,
   "id": "dff097f0-1db2-4126-8cfa-7cb69c7c4299",
   "metadata": {},
   "outputs": [],
   "source": [
    "class Ork(Character):\n",
    "    def __init__(self, name, weapon, level=1, armor=None):\n",
    "        super().__init__(name, weapon)\n",
    "        self._HP = level*20\n",
    "        \n",
    "        self._armor_type = None\n",
    "        self._armor_strength = None\n",
    "        if armor is not None:\n",
    "            self._armor_type = armor[0]\n",
    "            self._armor_strength = armor[1]\n",
    "            \n",
    "    def reduce_health(self, enemy):\n",
    "        \n",
    "        damage_reduction = 0.0\n",
    "        if self._armor_type is not None:\n",
    "            damage_reduction = self._armor_strength\n",
    "            \n",
    "        if self._HP > 0:\n",
    "            damage = max(enemy._weapon_strength - damage_reduction, 0) #we should never gain HP in an attack\n",
    "            self._HP -= damage\n",
    "            print(\"{} attacked {} with {} ({} damage)!\".format(enemy._name, self._name, enemy._weapon_name, damage))\n",
    "        if self._HP <= 0:\n",
    "            print(\"{} is dead!\".format(self._name))\n",
    "            \n",
    "    def __str__(self):\n",
    "        \n",
    "        armor = 'No armor.'\n",
    "        if self._armor_type is not None:\n",
    "            armor = f'Armor: {self._armor_type} ({self._armor_strength} strength)'\n",
    "            \n",
    "        return(\"Name: {}. HP: {}. Weapon: {} ({} damage). {}\".format(self._name, self._HP, \n",
    "                                                                                          self._weapon_type, self._weapon_strength,\n",
    "                                                                                          armor))\n",
    "    "
   ]
  },
  {
   "cell_type": "markdown",
   "id": "8e1311ae-eec9-4489-9842-99919b5aa7d8",
   "metadata": {},
   "source": [
    "### FIGHT!"
   ]
  },
  {
   "cell_type": "code",
   "execution_count": 63,
   "id": "6ef1a105-74f7-446d-abf9-cf8f13be9379",
   "metadata": {},
   "outputs": [
    {
     "name": "stdout",
     "output_type": "stream",
     "text": [
      "Name: Lyanna. HP: 100. Weapon: dagger (12 damage). Potions: 3 (Level: 50)\n",
      "Name: Brumbatz. HP: 20. Weapon: mace (15.5 damage). No armor.\n",
      "Lyanna attacked Brumbatz with Piekser (12.0 damage)!\n",
      "Brumbatz attacked Lyanna with Hoffnungsbrecher (15.5 damage)!\n",
      "Lyanna attacked Brumbatz with Piekser (12.0 damage)!\n",
      "Brumbatz is dead!\n",
      "Name: Lyanna. HP: 84.5. Weapon: dagger (12 damage). Potions: 3 (Level: 50)\n",
      "Lyanna looted Brumbatz. New weapon found: mace Hoffnungsbrecher with strenght 15.5\n",
      "Lyanna's health is increased to 134.5!\n",
      "Name: Lyanna. HP: 134.5. Weapon: mace (15.5 damage). Potions: 2 (Level: 50)\n",
      "Name: Brumbatz. HP: -4.0. Weapon: None (None damage). No armor.\n"
     ]
    }
   ],
   "source": [
    "player = Player('Lyanna', ('dagger', 12, 'Piekser'))\n",
    "enemy = Ork('Brumbatz', ('mace', 15.5, 'Hoffnungsbrecher'), level = 1)\n",
    "print(player)\n",
    "print(enemy)\n",
    "\n",
    "#The attacks are distinguished by who calls attack on who\n",
    "player.attack(enemy)\n",
    "enemy.attack(player)\n",
    "player.attack(enemy)\n",
    "print(player)\n",
    "      \n",
    "#only Lyana has loot and Heal because he is of type Player\n",
    "player.loot(enemy)\n",
    "player.heal()\n",
    "\n",
    "print(player)\n",
    "print(enemy)      "
   ]
  },
  {
   "cell_type": "markdown",
   "id": "f9100d68-45e1-4963-8001-62263bce574c",
   "metadata": {},
   "source": [
    "### Round 2!\n",
    "\n",
    "**Brumbatz** ist besiegt... doch **Olmur** wartet schon auf Ihre Chance. Wir instanziieren **Lyana** nicht neu - sie geht mit einer *potion* weniger und der von **Brumbatz** geplünderten Waffe in den Kampf. "
   ]
  },
  {
   "cell_type": "code",
   "execution_count": 64,
   "id": "3027512a-d031-4d84-a35f-197bc25cba0a",
   "metadata": {},
   "outputs": [
    {
     "name": "stdout",
     "output_type": "stream",
     "text": [
      "Name: Lyanna. HP: 134.5. Weapon: mace (15.5 damage). Potions: 2 (Level: 50)\n",
      "Name: Olmur. HP: 40. Weapon: axe (20.0 damage). Armor: leather (9 strength)\n",
      "Lyanna attacked Olmur with Hoffnungsbrecher (6.5 damage)!\n",
      "Olmur attacked Lyanna with Ohrenknapser (20.0 damage)!\n",
      "Lyanna attacked Olmur with Hoffnungsbrecher (6.5 damage)!\n",
      "Olmur attacked Lyanna with Ohrenknapser (20.0 damage)!\n",
      "Lyanna attacked Olmur with Hoffnungsbrecher (6.5 damage)!\n",
      "Olmur attacked Lyanna with Ohrenknapser (20.0 damage)!\n",
      "Lyanna attacked Olmur with Hoffnungsbrecher (6.5 damage)!\n",
      "Olmur attacked Lyanna with Ohrenknapser (20.0 damage)!\n",
      "Lyanna attacked Olmur with Hoffnungsbrecher (6.5 damage)!\n",
      "Olmur attacked Lyanna with Ohrenknapser (20.0 damage)!\n",
      "Lyanna attacked Olmur with Hoffnungsbrecher (6.5 damage)!\n",
      "Olmur attacked Lyanna with Ohrenknapser (20.0 damage)!\n",
      "Lyanna attacked Olmur with Hoffnungsbrecher (6.5 damage)!\n",
      "Olmur is dead!\n",
      "Lyanna looted Olmur. New weapon found: axe Ohrenknapser with strenght 20.0\n",
      "Name: Lyanna. HP: 14.5. Weapon: axe (20.0 damage). Potions: 2 (Level: 50)\n",
      "Name: Olmur. HP: -5.5. Weapon: None (None damage). Armor: leather (9 strength)\n"
     ]
    }
   ],
   "source": [
    "enemy = Ork('Olmur', ('axe', 20.0, 'Ohrenknapser'), armor = ('leather', 9), level = 2)\n",
    "print(player)\n",
    "print(enemy)\n",
    "\n",
    "while player.get_hp() > 0 and enemy.get_hp()>0:\n",
    "    if player.get_hp() > 0: # lyana attacks if she is not dead!\n",
    "        player.attack(enemy)\n",
    "    else:\n",
    "        break\n",
    "\n",
    "    if enemy.get_hp() > 0: # olmur attacks if she is not dead!\n",
    "        enemy.attack(player)\n",
    "    else:\n",
    "        break\n",
    "    \n",
    "player.loot(enemy)\n",
    "\n",
    "print(player)\n",
    "print(enemy)      "
   ]
  },
  {
   "cell_type": "markdown",
   "id": "86b5f688-6969-4ec4-9e44-6a58c6437c1e",
   "metadata": {},
   "source": [
    "Das war knapp! Zum Glück hat Lyanna noch Heiltränke... und jetzt auch eine ziemliche gute Axt!"
   ]
  },
  {
   "cell_type": "markdown",
   "id": "5b9c8763-ddc8-4402-9a07-ce8fd324ac6c",
   "metadata": {},
   "source": [
    "<div class=\"alert alert-block alert-info\">  \n",
    "Und jetzt? Was passiert wenn Lyanna auch eine Rüstung plündern will? Und wie geben wir dem/der Spieler*in die Chance eine geplünderte Waffe oder Rüstung nicht zu benutzen? Wie wäre es, wenn der Schaden der Waffe eine Zufallskomponente bekommt wie es in fast allen Computerspielen umgesetzt ist? Oder eine Rüstung die für bestimmte Waffentypen komplette Immunität liefert? Oder sie verschiedene Heiltränke zur Verfügung stellen... werden sie kreativ!"
   ]
  },
  {
   "cell_type": "markdown",
   "id": "b5674436-58d0-4401-9cae-1b584e0f33c2",
   "metadata": {},
   "source": [
    "Sie haben nun viele Vorteile von OOP gesehen, besonders wenn es um Design, Struktur und Erweiterbarkeit geht. OOP hat noch mehr zu bieten als das, was ich Ihnen gerade gezeigt habe, aber Sie sollten jetzt sehen, dass es eine großartige Sache ist, sich an OOP zu gewöhnen und Klassen zu verwenden.\n",
    "\n",
    "Die erste Umstellung von Funktionalem Programieren auf OOP ist manchmal schwer, und oft fängt man einfach an, ein paar Funktionen zu schreiben und merkt dann plötzlich, dass man wieder dieser schlechten Angewohnheit folgt. Versuchen Sie, Ihr Programm so zu bauen, wie wir unser Spiel gebaut haben: Fragen Sie sich zunächst, ob und welche Klassen benötigt werden, entscheiden Sie dann, welche Eigenschaften einige der Klassen gemeinsam haben, und führen Sie abstrakte Klassen für sie ein. Dann entwerfen Sie eine leere Klassenstruktur und bilden die Vererbung. Als letzten Schritt implementieren Sie dann die Methoden. "
   ]
  }
 ],
 "metadata": {
  "kernelspec": {
   "display_name": "Python 3 (ipykernel)",
   "language": "python",
   "name": "python3"
  },
  "language_info": {
   "codemirror_mode": {
    "name": "ipython",
    "version": 3
   },
   "file_extension": ".py",
   "mimetype": "text/x-python",
   "name": "python",
   "nbconvert_exporter": "python",
   "pygments_lexer": "ipython3",
   "version": "3.11.4"
  }
 },
 "nbformat": 4,
 "nbformat_minor": 5
}