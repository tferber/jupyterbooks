{
 "cells": [
  {
   "cell_type": "markdown",
   "id": "92461b25-8c2c-4dec-adf8-ee4fa529703b",
   "metadata": {},
   "source": [
    "# Bytecode"
   ]
  },
  {
   "cell_type": "markdown",
   "id": "f3dac4a8-bce0-4834-b12b-df5bb323ffc8",
   "metadata": {},
   "source": [
    "Python ist eine menschenlesbare Sprache. Anders als C++ wird Python erst bei der Ausführung in maschinenlesbaren Code (bestehend aus Nullen und Einsen) umgewandelt. \n",
    "Die folgt dem folgenden Schritten:\n",
    "* Quellcode:\n",
    "    * Python-Programme beginnen als menschenlesbare Textdateien, geschrieben in der Sprache Python\n",
    "* Kompilierung\n",
    "    * Wenn ein Python-Programm im Script Mode ausgeführt wird, wird die Textdatei an den Python-Interpreter übergeben. Der Interpreter kompiliert diesen Quellcode während der Laufzeit in eine Zwischenform, die als Bytecode bezeichnet wird.\n",
    "* Bytecode\n",
    "    * Bytecode ist eine plattformunabhängige Low-Level-Darstellung Ihres Quellcodes, die so konzipiert ist, dass sie leicht interpretiert werden kann. Er wird in .pyc-Dateien gespeichert.\n",
    "* Python Virtual Machine (PVM)\n",
    "    * Die PVM lädt den Bytecode und führt ihn aus. Hier wird Ihr Programm tatsächlich ausgeführt.\n",
    "* Ausführung\n",
    "    * Die PVM liest jede Anweisung im Bytecode einzeln ein und führt die entsprechende Operation aus (z. B. Arithmetik, Aufruf einer Funktion usw.).\n"
   ]
  },
  {
   "cell_type": "markdown",
   "id": "a0e62c1c-24a4-4073-898f-43ebe15adfa0",
   "metadata": {},
   "source": [
    "Das folgende Beispiel ist eine Funktion die ```(a+b)*(c+d)``` berechnet."
   ]
  },
  {
   "cell_type": "code",
   "execution_count": 1,
   "id": "78fbfd52-1ad3-40b5-803c-ed131b92dc47",
   "metadata": {},
   "outputs": [],
   "source": [
    "def test_function():\n",
    "    a = 1000\n",
    "    b = 2000\n",
    "    c = 3000\n",
    "    d = 4000\n",
    "    e = (a + b) * (c + d)\n",
    "    print(e)"
   ]
  },
  {
   "cell_type": "markdown",
   "id": "e7940cf2-7855-4e51-aabf-299f4d80a171",
   "metadata": {},
   "source": [
    "Mit dem Python disassembler kann der erzeugte Bytecode direkt analysiert werden. Mehr Infos unter https://docs.python.org/3/library/dis.html"
   ]
  },
  {
   "cell_type": "code",
   "execution_count": 2,
   "id": "b11b54fc-10ea-4991-ad62-3ad8e2396632",
   "metadata": {},
   "outputs": [
    {
     "name": "stdout",
     "output_type": "stream",
     "text": [
      "  1           0 RESUME                   0\n",
      "\n",
      "  2           2 LOAD_CONST               1 (1000)\n",
      "              4 STORE_FAST               0 (a)\n",
      "\n",
      "  3           6 LOAD_CONST               2 (2000)\n",
      "              8 STORE_FAST               1 (b)\n",
      "\n",
      "  4          10 LOAD_CONST               3 (3000)\n",
      "             12 STORE_FAST               2 (c)\n",
      "\n",
      "  5          14 LOAD_CONST               4 (4000)\n",
      "             16 STORE_FAST               3 (d)\n",
      "\n",
      "  6          18 LOAD_FAST                0 (a)\n",
      "             20 LOAD_FAST                1 (b)\n",
      "             22 BINARY_OP                0 (+)\n",
      "             26 LOAD_FAST                2 (c)\n",
      "             28 LOAD_FAST                3 (d)\n",
      "             30 BINARY_OP                0 (+)\n",
      "             34 BINARY_OP                5 (*)\n",
      "             38 STORE_FAST               4 (e)\n",
      "\n",
      "  7          40 LOAD_GLOBAL              1 (NULL + print)\n",
      "             52 LOAD_FAST                4 (e)\n",
      "             54 PRECALL                  1\n",
      "             58 CALL                     1\n",
      "             68 POP_TOP\n",
      "             70 LOAD_CONST               0 (None)\n",
      "             72 RETURN_VALUE\n"
     ]
    }
   ],
   "source": [
    "import dis\n",
    "dis.dis(test_function)"
   ]
  }
 ],
 "metadata": {
  "kernelspec": {
   "display_name": "Python 3 (ipykernel)",
   "language": "python",
   "name": "python3"
  },
  "language_info": {
   "codemirror_mode": {
    "name": "ipython",
    "version": 3
   },
   "file_extension": ".py",
   "mimetype": "text/x-python",
   "name": "python",
   "nbconvert_exporter": "python",
   "pygments_lexer": "ipython3",
   "version": "3.11.4"
  }
 },
 "nbformat": 4,
 "nbformat_minor": 5
}