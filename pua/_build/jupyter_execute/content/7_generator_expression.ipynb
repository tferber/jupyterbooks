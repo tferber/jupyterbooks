{
 "cells": [
  {
   "cell_type": "markdown",
   "id": "d57a6319-6644-4c32-92e3-c74b4ce0fd06",
   "metadata": {},
   "source": [
    "# Generator expression vs. list comprehension"
   ]
  },
  {
   "cell_type": "markdown",
   "id": "a31ee337-3410-4d7b-8fca-e563961dd521",
   "metadata": {},
   "source": [
    "Angenommen, Sie möchten eine Folge der ersten 10 geraden Zahlen erstellen. Dazu können Sie entweder eine ```list comprehension``` oder eine ```generator expression```  verwenden, aber beide haben unterschiedliche Vor- und Nachteile.\n",
    "\n",
    "Eine ```list comprehension``` ist ein syntaktisches Konstrukt, das eine Liste aus einem iterierbaren Ausdruck erzeugt. Eine Liste ist eine endliche und geordnete Sammlung von Elementen, auf die über einen Index zugegriffen werden kann. Eine ```list comprehension``` hat die folgende Syntax: ```[Ausdruck für Element in iterable if Bedingung]```\n",
    "\n",
    "Sie können zum Beispiel eine ```list comprehension``` verwenden, um eine Liste der ersten 10 geraden Zahlen wie folgt zu erstellen:"
   ]
  },
  {
   "cell_type": "code",
   "execution_count": 1,
   "id": "2c952173-7250-4d7c-aef5-474ebf74a754",
   "metadata": {},
   "outputs": [
    {
     "name": "stdout",
     "output_type": "stream",
     "text": [
      "[0, 2, 4, 6, 8, 10, 12, 14, 16, 18]\n"
     ]
    }
   ],
   "source": [
    "# Use a list comprehension to create a list of the first 10 even numbers\n",
    "lst = [x*2 for x in range(10)]\n",
    "print(lst) # [0, 2, 4, 6, 8, 10, 12, 14, 16, 18]"
   ]
  },
  {
   "cell_type": "markdown",
   "id": "8f514880-7317-46db-8e65-5bf25109c0b6",
   "metadata": {},
   "source": [
    "Die Vorteile der Verwendung einer ```list comprehension``` sind:\n",
    "\n",
    "* Sie ist elegant, da keine ```for```-Schleife geschrieben werden muss und keine Elemente an eine leere Liste angehängt werden müssen.\n",
    "* Sie ist schnell und effizient, da die Liste in einem Durchgang erstellt und im Speicher abgelegt wird.\n",
    "* Sie kann mehrfach verwendet werden, da das Listenobjekt nach seiner Erstellung bestehen bleibt.\n",
    "\n",
    "Die Nachteile der Verwendung einer ```list comprehension``` sind:\n",
    "\n",
    "* Sie kann viel Speicherplatz beanspruchen, insbesondere wenn die Liste groß ist oder komplexe Objekte enthält.\n",
    "* Sie kann langsam sein oder es kann unmöglich sein, sie zu erstellen, wenn der iterierbare Ausdruck unendlich oder sehr groß ist."
   ]
  },
  {
   "cell_type": "markdown",
   "id": "6509a0f0-fecc-47ee-8e63-c678577ebea5",
   "metadata": {},
   "source": [
    "Ein Generatorausdruck ist eine knappe Art, um einen Generator zu erstellen, der eine ähnliche Syntax wie die ```list comprehension``` verwendet. Ein Generator ist eine Funktion, die einen Iterator zurückgibt, also ein Objekt, das bei Bedarf eine Folge von Werten erzeugen kann. Eine ```generator expression``` verwendet Klammern anstelle von Klammern, und er erstellt keine Liste im Speicher. Sie können zum Beispiel eine ```generator expression``` verwenden, um einen Iterator der ersten 10 geraden Zahlen wie folgt zu erstellen:"
   ]
  },
  {
   "cell_type": "code",
   "execution_count": 2,
   "id": "5527d119-3ab3-4f04-83e6-be81f551a429",
   "metadata": {},
   "outputs": [
    {
     "name": "stdout",
     "output_type": "stream",
     "text": [
      "<generator object <genexpr> at 0x111dd31d0>\n",
      "0\n",
      "2\n",
      "4\n",
      "6\n",
      "8\n",
      "10\n",
      "12\n",
      "14\n",
      "16\n",
      "18\n"
     ]
    }
   ],
   "source": [
    "# Use a generator expression to create an iterator of the first 10 even numbers\n",
    "gen = (x*2 for x in range(10))\n",
    "print(gen) # <generator object <genexpr> at 0x000001F9C7F3EBA0>\n",
    "\n",
    "# to print the full list of values\n",
    "for value in gen:\n",
    "    print(value)"
   ]
  },
  {
   "cell_type": "markdown",
   "id": "5b01968c-fdec-45d9-adcd-7fe72be88464",
   "metadata": {},
   "source": [
    "Die Vorteile der Verwendung einer ```generator expression``` sind:\n",
    "\n",
    "* Sie ist speichereffizient, da sie nur Werte erzeugt, wenn sie benötigt werden, und sie nicht im Speicher ablegt.\n",
    "* Sie kann unendliche oder sehr große Sequenzen verarbeiten, da sie nicht versucht, sie alle auf einmal zu erzeugen.\n",
    "* Sie kann mit anderen Generatoren oder Funktionen verwendet werden, die Iteratoren akzeptieren, wie z. B. ```sum```, ```max```, ```min```, usw.\n",
    "\n",
    "Die Nachteile der Verwendung einer ```generator expression``` sind:\n",
    "\n",
    "* Sie kann nur einmal durchlaufen werden, da er die von ihm erzeugten Werte nicht speichert.\n",
    "* Sie kann langsamer sein als eine ```list comprehension```, da sie jeden Wert im laufenden Betrieb berechnen muss.\n",
    "* Sie kann nicht indiziert oder gesliced werden, da er keinen zufälligen Zugriff unterstützt.\n"
   ]
  }
 ],
 "metadata": {
  "kernelspec": {
   "display_name": "Python 3 (ipykernel)",
   "language": "python",
   "name": "python3"
  },
  "language_info": {
   "codemirror_mode": {
    "name": "ipython",
    "version": 3
   },
   "file_extension": ".py",
   "mimetype": "text/x-python",
   "name": "python",
   "nbconvert_exporter": "python",
   "pygments_lexer": "ipython3",
   "version": "3.11.4"
  }
 },
 "nbformat": 4,
 "nbformat_minor": 5
}