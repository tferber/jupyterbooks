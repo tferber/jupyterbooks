{
 "cells": [
  {
   "cell_type": "markdown",
   "id": "d57a6319-6644-4c32-92e3-c74b4ce0fd06",
   "metadata": {},
   "source": [
    "# Class und Instance Attributes"
   ]
  },
  {
   "cell_type": "markdown",
   "id": "7f2e5b94-a0e7-43fc-a9b1-2c2be2c04546",
   "metadata": {},
   "source": [
    "#### Class attributes:"
   ]
  },
  {
   "cell_type": "markdown",
   "id": "a31ee337-3410-4d7b-8fca-e563961dd521",
   "metadata": {},
   "source": [
    "- Definition: Klassenattribute sind Variablen, die von allen Instanzen einer Klasse gemeinsam genutzt werden. Sie werden innerhalb der Klasse, aber außerhalb der Methoden definiert.\n",
    "- Zugriff: Auf sie kann über den Klassennamen selbst oder über eine Instanz der Klasse zugegriffen werden.\n",
    "- Auswirkung einer Änderung: Wenn ein Klassenattribut geändert wird, wirkt sich die Änderung auf alle Instanzen der Klasse aus.\n",
    "- Häufige Verwendung: Typischerweise verwendet für Eigenschaften, die für jede Instanz der Klasse gleich sein sollten."
   ]
  },
  {
   "cell_type": "markdown",
   "id": "4f623495-14b8-49f6-9905-ce584207b47e",
   "metadata": {},
   "source": [
    "### Instanz-Attribute:"
   ]
  },
  {
   "cell_type": "markdown",
   "id": "78f40739-0946-4e8d-84b9-21e9e1a90fa5",
   "metadata": {},
   "source": [
    "- Definition: Instanzattribute sind Variablen, die für jede Instanz einer Klasse spezifisch sind. Sie werden normalerweise innerhalb der ```__init__```-Methode (Konstruktor) der Klasse definiert.\n",
    "- Zugriff: Auf sie kann nur in Bezug auf eine bestimmte Instanz zugegriffen werden.\n",
    "- Auswirkung der Änderung: Die Änderung eines Instanzattributs wirkt sich nur auf diese bestimmte Instanz aus.\n",
    "- Häufige Verwendung: Wird für Eigenschaften verwendet, die für jede Instanz anders sind."
   ]
  },
  {
   "cell_type": "code",
   "execution_count": 27,
   "id": "5fa2acde-cacd-41d0-aa59-0f77c985fff1",
   "metadata": {},
   "outputs": [
    {
     "name": "stdout",
     "output_type": "stream",
     "text": [
      "Anna studiert am Karlsruher Institut für Technologie, Fachrichtung Physik.\n",
      "Max studiert am Karlsruher Institut für Technologie, Fachrichtung Informatik.\n"
     ]
    }
   ],
   "source": [
    "class KITStudentin:\n",
    "    \"\"\"\n",
    "    Eine Klasse, die eine Student*in am Karlsruher Institut für Technologie repräsentiert.\n",
    "\n",
    "    Attributes:\n",
    "        universitaet (str): Der Name der Universität, an der alle Student*innen studieren. \n",
    "                            Dies ist ein Klassenattribut, das für alle Instanzen der Klasse gleich ist.\n",
    "    \"\"\"\n",
    "\n",
    "    # Klassenattribut\n",
    "    universitaet = \"Karlsruher Institut für Technologie\"\n",
    "\n",
    "    def __init__(self, name, studiengang):\n",
    "        \"\"\"\n",
    "        Initialisiert eine neue Instanz der KITStudentin-Klasse.\n",
    "\n",
    "        Parameters:\n",
    "            name (str): Der Name der Studentin.\n",
    "            studiengang (str): Der Studiengang, in dem die Studentin eingeschrieben ist.\n",
    "        \"\"\"\n",
    "        # Instanzattribute\n",
    "        self.name = name\n",
    "        self.studiengang = studiengang\n",
    "\n",
    "# Instanzen von KITStudent erstellen\n",
    "studentin1 = KITStudentin(\"Anna\", \"Physik\")\n",
    "student2 = KITStudentin(\"Max\", \"Informatik\")\n",
    "\n",
    "# Zugriff auf das Klassenattribut\n",
    "print(f\"{studentin1.name} studiert am {KITStudentin.universitaet}, Fachrichtung {studentin1.studiengang}.\")\n",
    "print(f\"{student2.name} studiert am {KITStudentin.universitaet}, Fachrichtung {student2.studiengang}.\")\n"
   ]
  },
  {
   "cell_type": "markdown",
   "id": "2e437ca0-6528-417a-913f-be4e024d40bf",
   "metadata": {},
   "source": [
    "Die Klasse ```KITStudentin``` hat ein Klassenattribut ```universitaet```, das auf \"Karlsruher Institut für Technologie\" gesetzt ist.\n",
    "Jeder Student (```student1``` und ```student2```) hat eigene Instanzattribute (```name``` und ```studiengang```), aber sie teilen sich das Klassenattribut ```universitaet```."
   ]
  },
  {
   "cell_type": "markdown",
   "id": "4fd21b27-b875-4fc4-baf5-4f8fcff9496d",
   "metadata": {},
   "source": [
    "### Hierarchie und Namenskonflikte:"
   ]
  },
  {
   "cell_type": "markdown",
   "id": "c5f9e953-13c8-4ecf-9861-f31b20ac4a3d",
   "metadata": {},
   "source": [
    "Zugriffshierarchie: Wenn man versucht, von einer Instanz aus auf ein Attribut zuzugreifen, sucht Python zuerst im Namespace der Instanz danach. Wenn es dort nicht gefunden wird, wird der Klassennamensraum überprüft.\n",
    "\n",
    "- Gleichnamiges Szenario: Wenn eine Klasse und eine Instanz Attribute mit demselben Namen haben, gibt der Zugriff auf das Attribut über eine Instanz das Instanzattribut und nicht das Klassenattribut zurück. Dies liegt daran, dass der Instanz-Namensraum zuerst geprüft wird.\n",
    "- Ändern von Klassenattributen: Wenn Sie ein Klassenattribut über den Klassennamen ändern (z. B. MyClass.attribute = new_value), wirkt sich dies **nicht** auf das Instanzattribut mit demselben Namen aus."
   ]
  },
  {
   "cell_type": "markdown",
   "id": "53984436-8cda-4b97-b90a-1198f33b1a01",
   "metadata": {},
   "source": [
    "### Beispiel"
   ]
  },
  {
   "cell_type": "code",
   "execution_count": 1,
   "id": "f2fb1c91-68d8-49b9-a60a-ea86e0503800",
   "metadata": {},
   "outputs": [
    {
     "name": "stdout",
     "output_type": "stream",
     "text": [
      "Klassen-Ordnung: Tier\n",
      "Löwen-Ordnung: Raubtier\n",
      "Klassen Gemeinsame Merkmale: ['mehrzellig', 'Federn']\n",
      "Löwen Gemeinsame Merkmale: ['Warmblütig', 'Wirbeltier']\n"
     ]
    }
   ],
   "source": [
    "class Tier:\n",
    "    \"\"\"\n",
    "    Eine Klasse zur Darstellung eines generischen Tiers.\n",
    "\n",
    "    Klassenattribute:\n",
    "        ordnung (str): Ein immutable Klassenattribut, das die allgemeine Kategorie des Tiers angibt.\n",
    "        gemeinsame_merkmale (list): Ein mutable Klassenattribut, das allgemeine Merkmale aller Tiere beschreibt.\n",
    "\n",
    "    Attribute:\n",
    "        name (str): Der Name des spezifischen Tieres.\n",
    "    \"\"\"\n",
    "\n",
    "    # immutable Klassenattribut\n",
    "    ordnung = \"Tier\"\n",
    "\n",
    "    # mutable Klassenattribut (Liste)\n",
    "    gemeinsame_merkmale = [\"mehrzellig\", \"Federn\"]\n",
    "\n",
    "    def __init__(self, name):\n",
    "        \"\"\"\n",
    "        Der Konstruktor für die Tierklasse.\n",
    "\n",
    "        Parameter:\n",
    "            name (str): Der Name des Tieres.\n",
    "        \"\"\"\n",
    "        self.name = name\n",
    "\n",
    "# Hier könnte weiterer Code folgen, wie die Erstellung von Tierinstanzen usw.\n",
    "\n",
    "# Erstellung einer Instanz von Tier\n",
    "loewe = Tier(\"Löwe\")\n",
    "\n",
    "# Festlegen von Instanzattributen mit demselben Namen wie die Klassenattribute\n",
    "loewe.ordnung = \"Raubtier\"\n",
    "loewe.gemeinsame_merkmale = [\"Warmblütig\", \"Wirbeltier\"]\n",
    "\n",
    "print(f\"Klassen-Ordnung: {Tier.ordnung}\")\n",
    "print(f\"Löwen-Ordnung: {loewe.ordnung}\")\n",
    "\n",
    "print(f\"Klassen Gemeinsame Merkmale: {Tier.gemeinsame_merkmale}\")\n",
    "print(f\"Löwen Gemeinsame Merkmale: {loewe.gemeinsame_merkmale}\")"
   ]
  },
  {
   "cell_type": "markdown",
   "id": "0195301c-ee8b-4ed3-a925-568111cc22fc",
   "metadata": {},
   "source": [
    "1) Klassendefinition (Tier): Es wird eine Klasse namens Tier definiert. Diese Klasse hat zwei Klassenattribute:\n",
    "\n",
    "- ```ordnung```: Dies ist ein immutable Klassenattribut mit dem  Wert \"Tier\". Als Klassenattribut wird es zwischen allen Instanzen der Klasse geteilt, es sei denn, es wird ausdrücklich auf Instanzebene überschrieben.\n",
    "- ```gemeinsame_merkmale```: Dies ist ein mutable Klassenattribut, initialisiert als Liste mit den Werten ```[\"mehrzellig\", \"Federn\"]```. Da es mutable ist, kann es direkt über die Klasse modifiziert werden, was alle Instanzen beeinflussen würde, die darauf zugreifen.\n",
    "2) Erzeugung einer Instanz (loewe): Eine Instanz der Klasse Tier wird erstellt und loewe genannt. Dem Konstruktor (```__init__```) wird der Parameter ```name``` mit dem Wert \"Löwe\" übergeben. Dadurch wird ein Instanzattribut ```name``` für diese spezielle Instanz erstellt.\n",
    "\n",
    "3) Überschreiben von Klassenattributen auf Instanzebene:\n",
    "\n",
    "- ```loewe.ordnung```: Das Klassenattribut ordnung wird auf Instanzebene für loewe auf \"Raubtier\" überschrieben. Dies beeinflusst nur die loewe-Instanz.\n",
    "- ```loewe.gemeinsame_merkmale```: Das Klassenattribut ```gemeinsame_merkmale``` wird auf Instanzebene für ```loewe``` durch eine neue Liste ```[\"Warmblütig\", \"Wirbeltier\"]``` ersetzt. Dies ändert das Attribut nur für die loewe-Instanz.\n",
    "\n",
    "4) Ausgabe:\n",
    "\n",
    "- ```print(f\"Klassen-Ordnung: {Tier.ordnung}\")```: Gibt das Klassenattribut ```ordnung``` der Klasse Tier aus, welches \"Tier\" bleibt.\n",
    "- ```print(f\"Löwen-Ordnung: {loewe.ordnung}\")```: Gibt das überschriebene Instanzattribut ```ordnung``` von ```loewe``` aus, welches jetzt \"Raubtier\" ist.\n",
    "- ```print(f\"Klassen Gemeinsame Merkmale: {Tier.gemeinsame_merkmale}\")```: Gibt das unveränderte Klassenattribut ```gemeinsame_merkmale``` der Klasse Tier aus.\n",
    "- ```print(f\"Löwen Gemeinsame Merkmale: {loewe.gemeinsame_merkmale}\")```: Gibt das auf Instanzebene überschriebene Attribut ```gemeinsame_merkmale``` von loewe aus.\n",
    "\n",
    "Das Schlüsselkonzept hier ist, dass das Überschreiben von Klassenattributen auf Instanzebene die Klassenattribute nicht ändert. Stattdessen werden individuelle Kopien dieser Attribute für die jeweilige Instanz erstellt."
   ]
  },
  {
   "cell_type": "markdown",
   "id": "3a95a29d-bcf4-4ad0-86aa-f600ad971081",
   "metadata": {},
   "source": [
    "Besonders trickreich (aber voellig konsistent) wird es, wenn sie mutable Klassenattribute ändern.\n",
    "Im folgenden Beispiel erzeugen wir eine neue Instanz ```Frosch``` und ersetzen das Klassenattribut ```gemeinsame_merkmale```  auf Instanzebene für ```Frosch``` durch eine neue Liste ```[\"Nass\", \"Gruen\"]```. \n",
    "\n",
    "Danach erzeugen wir eine neue Instanz ```Tiger``` und fuegen dem Klassenattribut ```gemeinsame_merkmale``` ein weiteres Element hinzu.\n",
    "Dies ändert das Klassenattribut sowohl für ```Tiger``` als auch fuer die Klasse selbst.\n",
    "Für Frosch```Frosch``` haben wir vorher ein neues Instanzattribut erstellt (mit dem Zuweisungsoperator) das durch eine Änderung des Klassenattributes nicht beeinflusst wird!"
   ]
  },
  {
   "cell_type": "code",
   "execution_count": 29,
   "id": "2fc41d95-2e00-4967-a354-6e5af94c6f5b",
   "metadata": {},
   "outputs": [
    {
     "name": "stdout",
     "output_type": "stream",
     "text": [
      "Klassen Gemeinsame Merkmale: ['mehrzellig', 'Federn', 'getreift']\n",
      "Frosch Gemeinsame Merkmale: ['Nass', 'Grün']\n",
      "Tiger Gemeinsame Merkmale: ['mehrzellig', 'Federn', 'getreift']\n"
     ]
    }
   ],
   "source": [
    "frosch = Tier(\"Frosch\")\n",
    "frosch.gemeinsame_merkmale = [\"Nass\", \"Grün\"]\n",
    "\n",
    "tiger = Tier(\"Tiger\")\n",
    "tiger.gemeinsame_merkmale.append(\"getreift\")\n",
    "\n",
    "print(f\"Klassen Gemeinsame Merkmale: {Tier.gemeinsame_merkmale}\")\n",
    "print(f\"Frosch Gemeinsame Merkmale: {frosch.gemeinsame_merkmale}\")\n",
    "print(f\"Tiger Gemeinsame Merkmale: {tiger.gemeinsame_merkmale}\")"
   ]
  }
 ],
 "metadata": {
  "kernelspec": {
   "display_name": "Python 3 (ipykernel)",
   "language": "python",
   "name": "python3"
  },
  "language_info": {
   "codemirror_mode": {
    "name": "ipython",
    "version": 3
   },
   "file_extension": ".py",
   "mimetype": "text/x-python",
   "name": "python",
   "nbconvert_exporter": "python",
   "pygments_lexer": "ipython3",
   "version": "3.9.16"
  }
 },
 "nbformat": 4,
 "nbformat_minor": 5
}
