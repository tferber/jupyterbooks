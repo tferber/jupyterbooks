{
 "cells": [
  {
   "cell_type": "markdown",
   "id": "92461b25-8c2c-4dec-adf8-ee4fa529703b",
   "metadata": {},
   "source": [
    "# Boolsche Algebra und Bedingungen"
   ]
  },
  {
   "cell_type": "markdown",
   "id": "59d37c8b-edea-4677-85f3-d26edba063f9",
   "metadata": {},
   "source": [
    "### Boolsche Algebra"
   ]
  },
  {
   "cell_type": "markdown",
   "id": "fc01b058-cacb-4486-9eb5-8282877b3f53",
   "metadata": {},
   "source": [
    "* ==: Dies ist der Gleichheitsoperator. Er prüft, ob die Werte von zwei Operanden gleich sind oder nicht. Wenn sie gleich sind, wird die Bedingung True. Zum Beispiel würde 5 == 5 True zurückgeben.\n",
    "* !=: Dies ist der Ungleichheitsoperator. Er prüft, ob die Werte von zwei Operanden ungleich sind oder nicht. Wenn sie ungleich sind, wird die Bedingung True. Zum Beispiel würde 5 != 6 True zurückgeben.\n",
    "<: Dies ist der Kleiner-als-Operator. Er prüft, ob der Wert des linken Operanden kleiner ist als der Wert des rechten Operanden. Wenn ja, dann wird die Bedingung True. Beispiel: 3 < 4 würde True zurückgeben.\n",
    "* \\>: Dies ist der Größer-als-Operator. Er prüft, ob der Wert des linken Operanden größer ist als der Wert des rechten Operanden. Wenn ja, wird die Bedingung True. Beispiel: 4 > 3 würde True zurückgeben.\n",
    "* \\<=: Dies ist der Operator \"kleiner als\" oder \"gleich\". Er prüft, ob der Wert des linken Operanden kleiner oder gleich dem Wert des rechten Operanden ist. Wenn ja, dann wird die Bedingung True. Beispiel: 3 <= 3 würde True zurückgeben.\n",
    "* \\>=: Dies ist der Größer-als-oder-Gleich-Operator. Er prüft, ob der Wert des linken Operanden größer oder gleich dem Wert des rechten Operanden ist. Wenn ja, dann wird die Bedingung True. Zum Beispiel würde 4 >= 4 True zurückgeben.\n",
    "\n",
    "Testen sie die Gleichheit von zwei Gleitkommazahlen immer mit `math.isclose()`!"
   ]
  },
  {
   "cell_type": "markdown",
   "id": "0629713a-f7da-4481-be00-b409359d34c0",
   "metadata": {},
   "source": [
    "#### Beispiel 1"
   ]
  },
  {
   "cell_type": "code",
   "execution_count": 9,
   "id": "38860983-d2e0-439b-b64e-d7c175536e1e",
   "metadata": {},
   "outputs": [
    {
     "name": "stdout",
     "output_type": "stream",
     "text": [
      "False\n"
     ]
    }
   ],
   "source": [
    "# In diesem Beipsiel erwarten wir, dass 0.1+02 gleich 0.3 ist. \n",
    "# Die endliche Auflösung von Gleitkommazahlen führt zu einem unerwartetetn Ergebnis.\n",
    "x = 0.1\n",
    "y = 0.2\n",
    "z = 0.3\n",
    "\n",
    "print((x + y) == z)"
   ]
  },
  {
   "cell_type": "code",
   "execution_count": 13,
   "id": "c275b0b9-96a4-4353-b3f3-a527915d5ab0",
   "metadata": {},
   "outputs": [
    {
     "name": "stdout",
     "output_type": "stream",
     "text": [
      "True\n"
     ]
    }
   ],
   "source": [
    "# Beim Testen mit einer relativen Toleranz von 1e-9 (ein Milliardstel) ergibt der Vergleich\n",
    "# das erwartete Ergebnis\n",
    "import math\n",
    "x = 0.1\n",
    "y = 0.2\n",
    "z = 0.3\n",
    "\n",
    "print(math.isclose((x + y), z, rel_tol=1e-09))"
   ]
  },
  {
   "cell_type": "markdown",
   "id": "75943ddc-d242-4815-8d3d-4f7a771e6267",
   "metadata": {},
   "source": [
    "#### Beispiel 2"
   ]
  },
  {
   "cell_type": "code",
   "execution_count": 16,
   "id": "235f1680-3382-4d90-b58a-e2c1b9469ac1",
   "metadata": {},
   "outputs": [
    {
     "name": "stdout",
     "output_type": "stream",
     "text": [
      "False\n"
     ]
    }
   ],
   "source": [
    "# Beim Testen mit einer relativen Toleranz von 1e-9 (ein Milliardstel) \n",
    "# ergibt der Vergleich mit 0.0 ein unerwartets Ergebnis: (0.1 + 0.2 - 0.3) ist gleich 0.0... oder?\n",
    "import math\n",
    "x = 0.1\n",
    "y = 0.2\n",
    "z = 0.3\n",
    "\n",
    "print(math.isclose((x + y -z), 0.0, rel_tol=1e-09))"
   ]
  },
  {
   "cell_type": "code",
   "execution_count": 21,
   "id": "9f5c3884-6ea6-425b-bb18-9605dc1b515e",
   "metadata": {},
   "outputs": [
    {
     "name": "stdout",
     "output_type": "stream",
     "text": [
      "True\n"
     ]
    }
   ],
   "source": [
    "# Das unerwartete Ergebnis kommt zustande, weil der Standardparameter der Funktion `math.isclose()\n",
    "# nur eine absolute Tolreanz von 0.0 zulässt, und die relative Toleranz keine \n",
    "# Abweichung von Null feststellen kann. Durch Ändern der absoluten Toleranz ergibt der Vergleich\n",
    "# das erwartete Ergebnis\n",
    "import math\n",
    "x = 0.1\n",
    "y = 0.2\n",
    "z = 0.3\n",
    "\n",
    "print(math.isclose((x + y -z), 0.0, rel_tol=1e-09, abs_tol=1e-09))"
   ]
  },
  {
   "cell_type": "markdown",
   "id": "08846c91-97e1-4875-bfa0-ae940c8c72ad",
   "metadata": {},
   "source": [
    "### Logische Operatoren"
   ]
  },
  {
   "cell_type": "markdown",
   "id": "f3dac4a8-bce0-4834-b12b-df5bb323ffc8",
   "metadata": {},
   "source": [
    "Zum Kombinieren von boolschen Ausdrücken stehen drei Operatoren zur Auswahl: and, or, und not\n",
    "Die Bedeutung entspricht ihrer englischen Bedeutung\n",
    "Nutzen sie Klammern um Ausdrücke zu gruppieren ",
    "\n",
    "* x and y: Ist True wenn sowohl x als auch y True sind\n",
    "Wenn x False ist, ist der Ausdruck False. Wenn x True ist, ist der Ausdruck y.\n",
    "* x or y: Ist True wenn entweder x, oder y, oder x und y True sind\n",
    "* not x: Ist True wenn x False ist."
   ]
  },
  {
   "cell_type": "markdown",
   "id": "79f44b95-4eac-46cc-bb97-538198a4e733",
   "metadata": {},
   "source": [
    "#### Beispiel 1"
   ]
  },
  {
   "cell_type": "code",
   "execution_count": 23,
   "id": "78fbfd52-1ad3-40b5-803c-ed131b92dc47",
   "metadata": {},
   "outputs": [
    {
     "name": "stdout",
     "output_type": "stream",
     "text": [
      "False\n"
     ]
    }
   ],
   "source": [
    "# Verwenden sie nicht den `is` Operator um Gleichheit zu testen, dieser Operator \n",
    "# testet ob zwei Variablen das gleiche Objekt referenzieren\n",
    "x = 2000\n",
    "y = 2000\n",
    "print(x is y)"
   ]
  },
  {
   "cell_type": "code",
   "execution_count": 25,
   "id": "c34e8410-e35d-4c99-ad94-03859cf8bd0d",
   "metadata": {},
   "outputs": [
    {
     "name": "stdout",
     "output_type": "stream",
     "text": [
      "True\n"
     ]
    }
   ],
   "source": [
    "# Zum testen ob zwei Werte gleich sind, nutzen sie “==“ oder math.isclose()\n",
    "x = 2000\n",
    "y = 2000\n",
    "print(x == y)"
   ]
  }
 ],
 "metadata": {
  "kernelspec": {
   "display_name": "Python 3 (ipykernel)",
   "language": "python",
   "name": "python3"
  },
  "language_info": {
   "codemirror_mode": {
    "name": "ipython",
    "version": 3
   },
   "file_extension": ".py",
   "mimetype": "text/x-python",
   "name": "python",
   "nbconvert_exporter": "python",
   "pygments_lexer": "ipython3",
   "version": "3.9.16"
  }
 },
 "nbformat": 4,
 "nbformat_minor": 5
}
