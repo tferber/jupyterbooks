{
 "cells": [
  {
   "cell_type": "markdown",
   "id": "92461b25-8c2c-4dec-adf8-ee4fa529703b",
   "metadata": {},
   "source": [
    "# Globale Variablen"
   ]
  },
  {
   "cell_type": "markdown",
   "id": "89c3a5e0-98b6-4a7e-a9c2-68c8a292e18f",
   "metadata": {},
   "source": [
    "In Python können Variablen mit zwei Geltungsbereichen deklariert werden: global und lokal.\n",
    "\n",
    "* Lokale Variablen: Diese werden innerhalb einer Funktion oder Methode deklariert. Auf sie kann nur innerhalb dieser Funktion oder Methode zugegriffen und sie verändert werden. Sobald die Ausführung der Funktion abgeschlossen ist, wird die lokale Variable zerstört und kann außerhalb der Funktion nicht mehr aufgerufen werden.\n",
    "\n",
    "* Globale Variablen: Diese werden außerhalb aller Funktionsdefinitionen deklariert. Sie sind im gesamten Programm zugänglich, auch innerhalb von Funktionen. Jede Funktion oder Methode kann auf eine globale Variable zugreifen und sie verändern.\n",
    "\n",
    "Der Hauptunterschied zwischen ihnen liegt in ihrem Geltungsbereich. Globale Variablen haben einen programmweiten Geltungsbereich, während lokale Variablen einen auf die Funktion, in der sie deklariert sind, begrenzten Geltungsbereich haben."
   ]
  },
  {
   "cell_type": "code",
   "execution_count": 2,
   "id": "d1a70235-9bb8-4f17-b22b-e8c92b4b1a3b",
   "metadata": {},
   "outputs": [
    {
     "name": "stdout",
     "output_type": "stream",
     "text": [
      "10\n"
     ]
    }
   ],
   "source": [
    "# Beispiel für lokale Variablen (unerwünschtes Verhalten)\n",
    "value = 10\n",
    "\n",
    "def double_variable(x):\n",
    "    \"\"\"\n",
    "    Double the value.\n",
    "\n",
    "    Parameters:\n",
    "    x (int or float): The number to be doubled.\n",
    "\n",
    "    Returns:\n",
    "    None\n",
    "    \"\"\"\n",
    "    x = x*2\n",
    "    \n",
    "double_variable(value)\n",
    "print(value)"
   ]
  },
  {
   "cell_type": "code",
   "execution_count": 4,
   "id": "1e95d64d-1fe8-442b-a497-b8f2eba67a34",
   "metadata": {},
   "outputs": [
    {
     "name": "stdout",
     "output_type": "stream",
     "text": [
      "20\n"
     ]
    }
   ],
   "source": [
    "# Beispiel für lokale Variablen (erwünschtes Verhalten)\n",
    "value = 10\n",
    "\n",
    "def double_variable(x):\n",
    "    \"\"\"\n",
    "    Return double the value.\n",
    "\n",
    "    Parameters:\n",
    "    x (int or float): The number to be doubled.\n",
    "\n",
    "    Returns:\n",
    "    int or float: The doubled value of the input number.\n",
    "    \"\"\"\n",
    "    return x*2\n",
    "    \n",
    "value = double_variable(value)\n",
    "print(value)"
   ]
  },
  {
   "cell_type": "code",
   "execution_count": 6,
   "id": "73266781-b7af-4ce6-bcdc-8cf25c2cdc67",
   "metadata": {},
   "outputs": [
    {
     "name": "stdout",
     "output_type": "stream",
     "text": [
      "20\n"
     ]
    }
   ],
   "source": [
    "# Beispiel für globale Variable (erwünschtes Verhalten, aber siehe Warnung unten)\n",
    "value = 10\n",
    "\n",
    "def double_variable():\n",
    "    \"\"\"\n",
    "    Double the value of the global variable 'value'.\n",
    "\n",
    "    It doesn't take any parameters. The function directly modifies the global variable 'value'.\n",
    "\n",
    "    Returns:\n",
    "    None\n",
    "    \"\"\"\n",
    "    \n",
    "    # Please note that this function relies on the existence of a global variable \n",
    "    # named ‘value’, and it will raise a NameError if ‘value’ is not defined in \n",
    "    # the global scope.\n",
    "    global value \n",
    "    value *= 2\n",
    "    \n",
    "double_variable()\n",
    "print(value)"
   ]
  },
  {
   "cell_type": "markdown",
   "id": "2b4579cf-ad17-44b3-8bae-25d6c8c5cb50",
   "metadata": {},
   "source": [
    "Von der Verwendung globaler Variablen wird jedoch im Allgemeinen aus mehreren Gründen abgeraten:\n",
    "\n",
    "* Schwer zu debuggen: Globale Variablen können von jeder Stelle im Programm aus geändert werden, so dass es schwierig ist, nachzuvollziehen, woher ein Wert kommt oder geändert wird.\n",
    "* Gefahr von Namenskonflikten: Wenn Sie denselben Namen für eine globale und eine lokale Variable verwenden, kann es zu unerwartetem Verhalten kommen.\n",
    "* Macht den Code weniger flexibel: Funktionen, die von globalen Variablen abhängen, sind weniger flexibel und schwieriger wiederzuverwenden, da sie von dem spezifischen Kontext abhängen, der durch diese globalen Variablen bereitgestellt wird.\n",
    "\n",
    "Anstatt globale Variablen zu verwenden, ist es oft besser, Funktionsargumente und Rückgabewerte zu verwenden, um Daten in Ihrem Programm weiterzugeben. Dadurch wird Ihr Code modularer und ist leichter zu verstehen, zu debuggen und zu testen. Wenn Sie feststellen, dass Sie viele globale Variablen verwenden, könnte dies ein Zeichen dafür sein, dass Sie Ihren Code umstrukturieren oder Klassen zur Kapselung des Zustands verwenden sollten.\n",
    "\n",
    "<font color='red'>Denken Sie daran: Globale Variablen können zwar manchmal die Erstellung von Code erleichtern, aber sie können auch zu Problemen führen und die Wartung Ihres Codes erschweren. Verwenden Sie sie sparsam und mit Bedacht!</font>"
   ]
  }
 ],
 "metadata": {
  "kernelspec": {
   "display_name": "Python 3 (ipykernel)",
   "language": "python",
   "name": "python3"
  },
  "language_info": {
   "codemirror_mode": {
    "name": "ipython",
    "version": 3
   },
   "file_extension": ".py",
   "mimetype": "text/x-python",
   "name": "python",
   "nbconvert_exporter": "python",
   "pygments_lexer": "ipython3",
   "version": "3.9.16"
  }
 },
 "nbformat": 4,
 "nbformat_minor": 5
}
