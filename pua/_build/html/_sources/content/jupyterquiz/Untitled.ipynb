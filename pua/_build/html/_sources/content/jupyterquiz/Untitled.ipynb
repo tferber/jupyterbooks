{
 "cells": [
  {
   "cell_type": "code",
   "execution_count": 13,
   "id": "74f57725-fa84-48f1-a5b4-953c51d99b88",
   "metadata": {},
   "outputs": [],
   "source": [
    "def count(n):\n",
    "    i = 0\n",
    "    while i < n:\n",
    "        yield i\n",
    "        i += 1\n",
    "        print(\"hallo\")\n"
   ]
  },
  {
   "cell_type": "code",
   "execution_count": 14,
   "id": "05825e2e-9c33-42da-a714-a7f91cd43f5a",
   "metadata": {},
   "outputs": [],
   "source": [
    "a = count(5)"
   ]
  },
  {
   "cell_type": "code",
   "execution_count": 16,
   "id": "badc3c15-207e-45e4-941e-6db98470c055",
   "metadata": {},
   "outputs": [
    {
     "name": "stdout",
     "output_type": "stream",
     "text": [
      "hallo\n"
     ]
    },
    {
     "data": {
      "text/plain": [
       "1"
      ]
     },
     "execution_count": 16,
     "metadata": {},
     "output_type": "execute_result"
    }
   ],
   "source": [
    "next(a)"
   ]
  },
  {
   "cell_type": "code",
   "execution_count": null,
   "id": "ef28255a-023b-4cb6-a563-06bc7b187291",
   "metadata": {},
   "outputs": [],
   "source": []
  }
 ],
 "metadata": {
  "kernelspec": {
   "display_name": "Python 3 (ipykernel)",
   "language": "python",
   "name": "python3"
  },
  "language_info": {
   "codemirror_mode": {
    "name": "ipython",
    "version": 3
   },
   "file_extension": ".py",
   "mimetype": "text/x-python",
   "name": "python",
   "nbconvert_exporter": "python",
   "pygments_lexer": "ipython3",
   "version": "3.9.16"
  }
 },
 "nbformat": 4,
 "nbformat_minor": 5
}
