{
 "cells": [
  {
   "cell_type": "markdown",
   "id": "e192d6ad-b82f-46fd-b3ca-476c04af8dcb",
   "metadata": {},
   "source": [
    "# Quiz Overloading"
   ]
  },
  {
   "cell_type": "code",
   "execution_count": 1,
   "id": "f90f5900-e165-41be-997e-14e6141ebaeb",
   "metadata": {
    "tags": [
     "remove-input"
    ]
   },
   "outputs": [
    {
     "ename": "ModuleNotFoundError",
     "evalue": "No module named 'jupyterquiz'",
     "output_type": "error",
     "traceback": [
      "\u001b[0;31m---------------------------------------------------------------------------\u001b[0m",
      "\u001b[0;31mModuleNotFoundError\u001b[0m                       Traceback (most recent call last)",
      "Cell \u001b[0;32mIn[1], line 1\u001b[0m\n\u001b[0;32m----> 1\u001b[0m \u001b[38;5;28;01mfrom\u001b[39;00m \u001b[38;5;21;01mjupyterquiz\u001b[39;00m \u001b[38;5;28;01mimport\u001b[39;00m display_quiz\n\u001b[1;32m      2\u001b[0m display_quiz(\u001b[38;5;124m\"\u001b[39m\u001b[38;5;124mquiz_variables.json\u001b[39m\u001b[38;5;124m\"\u001b[39m, colors\u001b[38;5;241m=\u001b[39m\u001b[38;5;124m'\u001b[39m\u001b[38;5;124mfdsp\u001b[39m\u001b[38;5;124m'\u001b[39m)\n",
      "\u001b[0;31mModuleNotFoundError\u001b[0m: No module named 'jupyterquiz'"
     ]
    }
   ],
   "source": [
    "from jupyterquiz import display_quiz\n",
    "\n",
    "q1=[{\n",
    "            \"question\": \"Was ist das Ergebnis des folgenden Codes?\",\n",
    "            \"code\": \"import math\\nmath.pi = 3.2\\nprint(math.pi)\",\n",
    "            \"type\": \"multiple_choice\",\n",
    "            \"answers\": [\n",
    "                {\n",
    "                    \"answer\": \"3.141592653589793\",\n",
    "                    \"correct\": False,\n",
    "                    \"feedback\": \"Falsch! Dies ist zwar der richtige Wert von pi, aber nicht das Ergebnis dieses Codes.\"\n",
    "                },\n",
    "                {\n",
    "                    \"answer\": \"3.2\",\n",
    "                    \"correct\": True,\n",
    "                    \"feedback\": \"Richtig. Dies ist ein Beispiel von sog. Monkey-Patching. Verwenden sie dies nur mit Bedacht wenn sie genau wissen was sie tun. Dieser Wert von pi wäre beinahe in Indiana, USA gesetzlich festgelegt worden. Der Vorgang ist unter den Namen \\\"Indiana Pi Bill\\\" berühmt und berüchtigt.\"\n",
    "                },\n",
    "                {\n",
    "                    \"answer\": \"SyntaxError\",\n",
    "                    \"correct\": False,\n",
    "                    \"feedback\": \"Falsch! SyntaxErrors werden vom Code-Parser ausgelöst, wenn ein Syntaxfehler aufgetreten ist. Dies ist hier aber nicht der Fall.\"\n",
    "                },\n",
    "                {\n",
    "                    \"answer\": \"SystemError\",\n",
    "                    \"correct\": False,\n",
    "                    \"feedback\": \"Falsch! Wird ausgelöst, wenn der Interpreter einen internen Fehler entdeckt. Dies ist hier aber nicht der Fall.\"\n",
    "                },\n",
    "            ]\n",
    "    }]\n",
    "\n",
    "q2=[{\n",
    "            \"question\": \"Was ist das Ergebnis des folgenden Codes? (für Expert*innen)\",\n",
    "            \"code\": \"class X:\\n    def __init__(self, num):\\n        self.num = num\\n\\nclass Y:\\n    def __init__(self, num):\\n        self.num = num\\n\\n    def __add__(self, other_obj):\\n        return Y(self.num + other_obj.num)\\n\\nx = X(2)\\ny = Y(3)\\nz = x + y\\nprint(z.num)\",\n",
    "            \"type\": \"multiple_choice\",\n",
    "            \"answers\": [\n",
    "                {\n",
    "                    \"answer\": \"5\",\n",
    "                    \"correct\": False,\n",
    "                    \"feedback\": \"Falsch! Das Problem ist, dass die beiden Operanden des Additionsoperators unterschiedlich sind.\"\n",
    "                },\n",
    "                {\n",
    "                    \"answer\": \"2\",\n",
    "                    \"correct\": False,\n",
    "                    \"feedback\": \"Falsch! Das Problem ist, dass die beiden Operanden des Additionsoperators unterschiedlich sind.\"\n",
    "                },\n",
    "                {\n",
    "                    \"answer\": \"3\",\n",
    "                    \"correct\": False,\n",
    "                    \"feedback\": \"Falsch! Das Problem ist, dass die beiden Operanden des Additionsoperators unterschiedlich sind.\"\n",
    "                },\n",
    "                {\n",
    "                    \"answer\": \"SyntaxError\",\n",
    "                    \"correct\": False,\n",
    "                    \"feedback\": \"Falsch! Das Problem ist, dass die beiden Operanden des Additionsoperators unterschiedlich sind, dies ist aber kein SyntaxError.\"\n",
    "                },\n",
    "                {\n",
    "                    \"answer\": \"TypeError\",\n",
    "                    \"correct\": True,\n",
    "                    \"feedback\": \"Richtig! Dieser Code erzeugt einen \\\"TypeError: unsupported operand type(s) for +: 'X' and 'Y'\\\". Wie können sie dies korrigieren indem sie ein einziges Zeichen im Code ändern?\"\n",
    "                },\n",
    "            ]\n",
    "    }]\n",
    "\n"
   ]
  },
  {
   "cell_type": "code",
   "execution_count": null,
   "id": "70fafc5c-07e8-4d5d-9070-dae8bf998f88",
   "metadata": {
    "tags": [
     "remove-input"
    ]
   },
   "outputs": [],
   "source": [
    "display_quiz(q1, colors='fdsp')\n",
    "display_quiz(q2, colors='fdsp')\n",
    "# display_quiz(q3, colors='fdsp')"
   ]
  }
 ],
 "metadata": {
  "kernelspec": {
   "display_name": "Python 3 (ipykernel)",
   "language": "python",
   "name": "python3"
  },
  "language_info": {
   "codemirror_mode": {
    "name": "ipython",
    "version": 3
   },
   "file_extension": ".py",
   "mimetype": "text/x-python",
   "name": "python",
   "nbconvert_exporter": "python",
   "pygments_lexer": "ipython3",
   "version": "3.9.16"
  }
 },
 "nbformat": 4,
 "nbformat_minor": 5
}
