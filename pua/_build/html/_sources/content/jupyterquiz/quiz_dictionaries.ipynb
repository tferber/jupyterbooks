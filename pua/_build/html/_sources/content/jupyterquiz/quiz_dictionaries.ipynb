{
 "cells": [
  {
   "cell_type": "markdown",
   "id": "e192d6ad-b82f-46fd-b3ca-476c04af8dcb",
   "metadata": {},
   "source": [
    "# Quiz Dictionaries, Sets, Tuples"
   ]
  },
  {
   "cell_type": "code",
   "execution_count": 1,
   "id": "f90f5900-e165-41be-997e-14e6141ebaeb",
   "metadata": {
    "tags": [
     "remove-input"
    ]
   },
   "outputs": [
    {
     "ename": "ModuleNotFoundError",
     "evalue": "No module named 'jupyterquiz'",
     "output_type": "error",
     "traceback": [
      "\u001b[0;31m---------------------------------------------------------------------------\u001b[0m",
      "\u001b[0;31mModuleNotFoundError\u001b[0m                       Traceback (most recent call last)",
      "Cell \u001b[0;32mIn[1], line 1\u001b[0m\n\u001b[0;32m----> 1\u001b[0m \u001b[38;5;28;01mfrom\u001b[39;00m \u001b[38;5;21;01mjupyterquiz\u001b[39;00m \u001b[38;5;28;01mimport\u001b[39;00m display_quiz\n\u001b[1;32m      2\u001b[0m display_quiz(\u001b[38;5;124m\"\u001b[39m\u001b[38;5;124mquiz_variables.json\u001b[39m\u001b[38;5;124m\"\u001b[39m, colors\u001b[38;5;241m=\u001b[39m\u001b[38;5;124m'\u001b[39m\u001b[38;5;124mfdsp\u001b[39m\u001b[38;5;124m'\u001b[39m)\n",
      "\u001b[0;31mModuleNotFoundError\u001b[0m: No module named 'jupyterquiz'"
     ]
    }
   ],
   "source": [
    "from jupyterquiz import display_quiz\n",
    "\n",
    "q1=[{\n",
    "            \"question\": \"Was ist das Ergebnis des folgenden Codes?\",\n",
    "            \"code\": \"s = {1, 2, 3}\\nprint(s[0])\",\n",
    "            \"type\": \"multiple_choice\",\n",
    "            \"answers\": [\n",
    "                {\n",
    "                    \"answer\": \"1\",\n",
    "                    \"correct\": False,\n",
    "                    \"feedback\": \"Falsch! Sets sind ungeordnete Sammlungen eindeutiger Elemente und unterstützen keine Indexierung. Daher führt der Versuch, auf ein Element eines Sets per Index zuzugreifen, zu einem TypeError.\"\n",
    "                },\n",
    "                {\n",
    "                    \"answer\": \"Error\",\n",
    "                    \"correct\": True,\n",
    "                    \"feedback\": \"Richtig! Sets sind ungeordnete Sammlungen eindeutiger Elemente und unterstützen keine Indexierung. Daher führt der Versuch, auf ein Element eines Sets per Index zuzugreifen, zu einem TypeError.\"\n",
    "                },\n",
    "                {\n",
    "                    \"answer\": \"None\",\n",
    "                    \"correct\": False,\n",
    "                    \"feedback\": \"Falsch! Sets sind ungeordnete Sammlungen eindeutiger Elemente und unterstützen keine Indexierung. Daher führt der Versuch, auf ein Element eines Sets per Index zuzugreifen, zu einem TypeError.\"\n",
    "                },\n",
    "                {\n",
    "                    \"answer\": \"0\",\n",
    "                    \"correct\": False,\n",
    "                    \"feedback\": \"Falsch! Sets sind ungeordnete Sammlungen eindeutiger Elemente und unterstützen keine Indexierung. Daher führt der Versuch, auf ein Element eines Sets per Index zuzugreifen, zu einem TypeError.\"\n",
    "                },\n",
    "            ]\n",
    "    }]\n",
    "\n",
    "explanation = \"Die get-Methode in Python gibt den Wert für den angegebenen key zurück, wenn er im Dictionary vorhanden ist. Ist dies nicht der Fall, gibt sie einen Standardwert zurück, der als zweites Argument angegeben wird. Da \\\"Banane\\\" kein key im Wörterbuch `d` ist, gibt die Methode \\\"Not found\\\" zurück.\"\n",
    "q2=[{\n",
    "            \"question\": \"Was ist das Ergebnis des folgenden Codes?\",\n",
    "            \"code\": \"d = {'Apfel': 'Obst', 'Gurke': 'Gemüse'}\\nprint(d.get('Banane', 'Not found'))\",\n",
    "            \"type\": \"multiple_choice\",\n",
    "            \"answers\": [\n",
    "                {\n",
    "                    \"answer\": \"Obst\",\n",
    "                    \"correct\": False,\n",
    "                    \"feedback\": f\"Falsch (obwohl Banane ein Obst ist, aber Python weiss das nicht)! {explanation}\",\n",
    "                },\n",
    "                {\n",
    "                    \"answer\": \"Not found\",\n",
    "                    \"correct\": True,\n",
    "                    \"feedback\": f\"Richtig! {explanation}\",\n",
    "                },\n",
    "                {\n",
    "                    \"answer\": \"Error\",\n",
    "                    \"correct\": False,\n",
    "                    \"feedback\": f\"Falsch! {explanation}\",\n",
    "                },\n",
    "                {\n",
    "                    \"answer\": \"None\",\n",
    "                    \"correct\": False,\n",
    "                    \"feedback\": f\"Falsch! {explanation}\",\n",
    "                },\n",
    "            ]\n",
    "    }]\n",
    "\n",
    "explanation = \"Die Funktion type in Python gibt den Datentyp der angegebenen Variablen zurück. In diesem Fall ist s ein Set, d ist ein Dictionary und t ist ein Tuple. \"\n",
    "explanation_full = \"Die Funktion type in Python gibt den Datentyp der angegebenen Variablen zurück. In diesem Fall ist s ein Set, d ist ein Dictionary und t ist ein Tuple. Daher geben type(s), type(d) und type(t) <class 'set'>, <class 'dict'> bzw. <class 'tuple'> zurück.\"\n",
    "q3=[{\n",
    "            \"question\": \"Was ist das Ergebnis des folgenden Codes?\",\n",
    "            \"code\": \"s = {1, 2, 3}\\nd = {'apple': 1, 'banana': 2}\\nt = (1, 2, 3)\\nprint(type(s), type(d), type(t))\",\n",
    "            \"type\": \"multiple_choice\",\n",
    "            \"answers\": [\n",
    "                {\n",
    "                    \"answer\": \"set, dict, tuple\",\n",
    "                    \"correct\": True,\n",
    "                    \"feedback\": f\"Richtig! {explanation_full}\",\n",
    "                },\n",
    "                {\n",
    "                    \"answer\": \"list, dict, tuple\",\n",
    "                    \"correct\": False,\n",
    "                    \"feedback\": f\"Falsch! {explanation}\",\n",
    "                },\n",
    "                {\n",
    "                    \"answer\": \"set, list, tuple\",\n",
    "                    \"correct\": False,\n",
    "                    \"feedback\": f\"Falsch! {explanation}\",\n",
    "                },\n",
    "                {\n",
    "                    \"answer\": \"set, dict, list\",\n",
    "                    \"correct\": False,\n",
    "                    \"feedback\": f\"Falsch! {explanation}\",\n",
    "                },\n",
    "            ]\n",
    "    }]\n",
    "\n",
    "q4=[{\n",
    "            \"question\": \"Was ist das Ergebnis des folgenden Codes?\",\n",
    "            \"code\": \"def meine_funktion(d):\\n    return d.get('a', False) and d.get('b', True)\\n\\nprint(meine_funktion({'a': True, 'b': False}))\\nprint(meine_funktion({'a': True, 'b': True}))\\nprint(meine_funktion({'a': False, 'b': True}))\\nprint(meine_funktion({'a': True}))\",\n",
    "            \"type\": \"multiple_choice\",\n",
    "            \"answers\": [\n",
    "                {\n",
    "                    \"answer\": \"True, True, False, False\",\n",
    "                    \"correct\": False,\n",
    "                    \"feedback\": f\"Falsch!\",\n",
    "                },\n",
    "                {\n",
    "                    \"answer\": \"False, True, False, True\",\n",
    "                    \"correct\": True,\n",
    "                    \"feedback\": f\"Richtig\",\n",
    "                },\n",
    "                {\n",
    "                    \"answer\": \"True, False, True, False\",\n",
    "                    \"correct\": False,\n",
    "                    \"feedback\": f\"Falsch!\",\n",
    "                },\n",
    "                {\n",
    "                    \"answer\": \"False, False, True, True\",\n",
    "                    \"correct\": False,\n",
    "                    \"feedback\": f\"Falsch!\",\n",
    "                },\n",
    "            ]\n",
    "    }]\n"
   ]
  },
  {
   "cell_type": "code",
   "execution_count": null,
   "id": "70fafc5c-07e8-4d5d-9070-dae8bf998f88",
   "metadata": {
    "tags": [
     "remove-input"
    ]
   },
   "outputs": [],
   "source": [
    "display_quiz(q1, colors='fdsp')\n",
    "display_quiz(q2, colors='fdsp')\n",
    "display_quiz(q3, colors='fdsp')\n",
    "display_quiz(q4, colors='fdsp')\n"
   ]
  }
 ],
 "metadata": {
  "kernelspec": {
   "display_name": "Python 3 (ipykernel)",
   "language": "python",
   "name": "python3"
  },
  "language_info": {
   "codemirror_mode": {
    "name": "ipython",
    "version": 3
   },
   "file_extension": ".py",
   "mimetype": "text/x-python",
   "name": "python",
   "nbconvert_exporter": "python",
   "pygments_lexer": "ipython3",
   "version": "3.9.16"
  }
 },
 "nbformat": 4,
 "nbformat_minor": 5
}
