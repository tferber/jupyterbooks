{
 "cells": [
  {
   "cell_type": "markdown",
   "id": "0b4deb62-8bb6-44bd-8836-19a65c0bc83b",
   "metadata": {},
   "source": [
    "# Quiz Kontrollstrukturen"
   ]
  },
  {
   "cell_type": "code",
   "execution_count": 1,
   "id": "f90f5900-e165-41be-997e-14e6141ebaeb",
   "metadata": {
    "tags": [
     "remove-input"
    ]
   },
   "outputs": [
    {
     "ename": "ModuleNotFoundError",
     "evalue": "No module named 'jupyterquiz'",
     "output_type": "error",
     "traceback": [
      "\u001b[0;31m---------------------------------------------------------------------------\u001b[0m",
      "\u001b[0;31mModuleNotFoundError\u001b[0m                       Traceback (most recent call last)",
      "Cell \u001b[0;32mIn[1], line 1\u001b[0m\n\u001b[0;32m----> 1\u001b[0m \u001b[38;5;28;01mfrom\u001b[39;00m \u001b[38;5;21;01mjupyterquiz\u001b[39;00m \u001b[38;5;28;01mimport\u001b[39;00m display_quiz\n\u001b[1;32m      3\u001b[0m q1\u001b[38;5;241m=\u001b[39m[{\n\u001b[1;32m      4\u001b[0m             \u001b[38;5;124m\"\u001b[39m\u001b[38;5;124mquestion\u001b[39m\u001b[38;5;124m\"\u001b[39m: \u001b[38;5;124m\"\u001b[39m\u001b[38;5;124mWas ist das Ergebnis des folgenden Codes?\u001b[39m\u001b[38;5;124m\"\u001b[39m,\n\u001b[1;32m      5\u001b[0m             \u001b[38;5;124m\"\u001b[39m\u001b[38;5;124mcode\u001b[39m\u001b[38;5;124m\"\u001b[39m: \u001b[38;5;124m\"\u001b[39m\u001b[38;5;124mx = 10\u001b[39m\u001b[38;5;130;01m\\n\u001b[39;00m\u001b[38;5;124mif x > 10:\u001b[39m\u001b[38;5;130;01m\\n\u001b[39;00m\u001b[38;5;124m    print(\u001b[39m\u001b[38;5;130;01m\\\"\u001b[39;00m\u001b[38;5;124mA\u001b[39m\u001b[38;5;130;01m\\\"\u001b[39;00m\u001b[38;5;124m)\u001b[39m\u001b[38;5;130;01m\\n\u001b[39;00m\u001b[38;5;124melif x < 10:\u001b[39m\u001b[38;5;130;01m\\n\u001b[39;00m\u001b[38;5;124m    print(\u001b[39m\u001b[38;5;130;01m\\\"\u001b[39;00m\u001b[38;5;124mB\u001b[39m\u001b[38;5;130;01m\\\"\u001b[39;00m\u001b[38;5;124m)\u001b[39m\u001b[38;5;130;01m\\n\u001b[39;00m\u001b[38;5;124melse:\u001b[39m\u001b[38;5;130;01m\\n\u001b[39;00m\u001b[38;5;124m    print(\u001b[39m\u001b[38;5;130;01m\\\"\u001b[39;00m\u001b[38;5;124mC\u001b[39m\u001b[38;5;130;01m\\\"\u001b[39;00m\u001b[38;5;124m)\u001b[39m\u001b[38;5;124m\"\u001b[39m,\n\u001b[0;32m   (...)\u001b[0m\n\u001b[1;32m     29\u001b[0m             ]\n\u001b[1;32m     30\u001b[0m     }]\n\u001b[1;32m     32\u001b[0m explanation \u001b[38;5;241m=\u001b[39m \u001b[38;5;124m\"\u001b[39m\u001b[38;5;124mDie while-Schleife im Code wird so lange ausgeführt, wie x kleiner als 100 ist. Bei jeder Iteration der Schleife wird geprüft, ob x eine gerade Zahl ist (x \u001b[39m\u001b[38;5;124m%\u001b[39m\u001b[38;5;124m 2 == 0). Wenn x gerade ist, wird es verdoppelt (x *= 2). Wenn x ungerade ist, wird 1 dazu addiert (x += 1). Gehen wir die Iterationen durch: x beginnt bei 1, was ungerade ist, also addieren wir 1, um x = 2 zu erhalten. Jetzt ist x gerade, also verdoppeln wir es, um x = 4 zu erhalten. x ist immer noch gerade, also verdoppeln wir es wieder, um x = 8 zu erhalten. Wir fahren mit diesem Muster fort (verdoppeln, wenn gerade, addieren 1, wenn ungerade), bis x 64 erreicht. Bei x = 64 ist x immer noch gerade, also verdoppeln wir es, um x = 128 zu erhalten. Jetzt ist x nicht mehr kleiner als 100, und die Schleife ist beendet. Daher ist der endgültige Wert von x am Ende der Schleife 128.\u001b[39m\u001b[38;5;124m\"\u001b[39m\n",
      "\u001b[0;31mModuleNotFoundError\u001b[0m: No module named 'jupyterquiz'"
     ]
    }
   ],
   "source": [
    "from jupyterquiz import display_quiz\n",
    "\n",
    "q1=[{\n",
    "            \"question\": \"Was ist das Ergebnis des folgenden Codes?\",\n",
    "            \"code\": \"x = 10\\nif x > 10:\\n    print(\\\"A\\\")\\nelif x < 10:\\n    print(\\\"B\\\")\\nelse:\\n    print(\\\"C\\\")\",\n",
    "            \"type\": \"multiple_choice\",\n",
    "            \"answers\": [\n",
    "                {\n",
    "                    \"answer\": \"A\",\n",
    "                    \"correct\": False,\n",
    "                    \"feedback\": \"Falsch! `x` ist eine Ganzzahl und daher wäre `x==10` `True`, nicht aber `x>10`.\"\n",
    "                },\n",
    "                {\n",
    "                    \"answer\": \"B\",\n",
    "                    \"correct\": False,\n",
    "                    \"feedback\": \"Falsch! `x` ist eine Ganzzahl und daher wäre `x==10` `True`, nicht aber `x<10`.\"\n",
    "                },\n",
    "                {\n",
    "                    \"answer\": \"C\",\n",
    "                    \"correct\": True,\n",
    "                    \"feedback\": \"Richtig!\"\n",
    "                },\n",
    "\n",
    "                {\n",
    "                    \"answer\": \"Es wird nichts auf dem Bildschirm ausgegeben.\",\n",
    "                    \"correct\": False,\n",
    "                    \"feedback\": \"Falsch!\"\n",
    "                },\n",
    "            ]\n",
    "    }]\n",
    "\n",
    "explanation = \"Die while-Schleife im Code wird so lange ausgeführt, wie x kleiner als 100 ist. Bei jeder Iteration der Schleife wird geprüft, ob x eine gerade Zahl ist (x % 2 == 0). Wenn x gerade ist, wird es verdoppelt (x *= 2). Wenn x ungerade ist, wird 1 dazu addiert (x += 1). Gehen wir die Iterationen durch: x beginnt bei 1, was ungerade ist, also addieren wir 1, um x = 2 zu erhalten.\\nJetzt ist x gerade, also verdoppeln wir es, um x = 4 zu erhalten.\\nx ist immer noch gerade, also verdoppeln wir es wieder, um x = 8 zu erhalten.\\nWir fahren mit diesem Muster fort (verdoppeln, wenn gerade, addieren 1, wenn ungerade), bis x 64 erreicht.\\nBei x = 64 ist x immer noch gerade, also verdoppeln wir es, um x = 128 zu erhalten.\\nJetzt ist x nicht mehr kleiner als 100, und die Schleife ist beendet. Daher ist der endgültige Wert von x am Ende der Schleife 128.\"\n",
    "q2=[{\n",
    "            \"question\": \"Was ist das Ergebnis des folgenden Codes?\",\n",
    "            \"code\": \"x = 1\\nwhile x < 100:\\n    if x % 2 == 0:\\n        x *= 2\\n    else:\\n        x += 1\\nprint(x)\",\n",
    "            \"type\": \"multiple_choice\",\n",
    "            \"answers\": [\n",
    "                {\n",
    "                    \"answer\": \"64\",\n",
    "                    \"correct\": False,\n",
    "                    \"feedback\": f\"Falsch! {explanation}\"\n",
    "                },\n",
    "                {\n",
    "                    \"answer\": \"100\",\n",
    "                    \"correct\": False,\n",
    "                    \"feedback\": f\"Falsch! {explanation}\"\n",
    "                },\n",
    "                {\n",
    "                    \"answer\": \"128\",\n",
    "                    \"correct\": True,\n",
    "                    \"feedback\": \"Richtig!\"\n",
    "                },\n",
    "\n",
    "                {\n",
    "                    \"answer\": \"Die while-Schleife bricht nicht ab und läuft unendlich.\",\n",
    "                    \"correct\": False,\n",
    "                    \"feedback\": f\"Falsch! {explanation}\"\n",
    "                },\n",
    "            ]\n",
    "    }]\n",
    "\n",
    "\n",
    "explanation = \"Die for-Schleife im Code durchläuft jede Zahl im Bereich von 1 bis 10. Bei jeder Iteration der Schleife wird geprüft, ob i eine gerade Zahl ist (i % 2 == 0). Wenn i gerade ist, wird i zu x addiert (x += i). Wenn i nicht gerade ist (d. h. i ist ungerade), wird i von x subtrahiert (x -= i). Gehen wir nun die Iterationen durch: Für i = 1, was ungerade ist, subtrahieren wir 1 von x und erhalten x = -1.\\nFür i = 2, was gerade ist, addieren wir 2 zu x, um x = 1 zu erhalten.\\nFür i = 3, was ungerade ist, subtrahieren wir 3 von x, um x = -2 zu erhalten.\\nFür i = 4, was gerade ist, addieren wir 4 zu x, um x = 2 zu erhalten.\\nFür i = 5, was ungerade ist, subtrahieren wir 5 von x, um x = -3 zu erhalten.\\nFür i = 6, was gerade ist, addieren wir 6 zu x, um x = 3 zu erhalten.\\nFür i = 7, was ungerade ist, subtrahieren wir 7 von x, um x = -4 zu erhalten.\\nFür i = 8, was gerade ist, addieren wir 8 zu x, um x = 4 zu erhalten.\\nFür i = 9, was ungerade ist, subtrahieren wir 9 von x, um x = -5 zu erhalten.\\nFür i = 10, was gerade ist, addieren wir 10 zu x, so dass der endgültige Wert von x -5 + 10 = 5 ist. \\nBeachten sie, dass range(start, stop) die Zahl `stop` nicht mehr enthaelt.\"\n",
    "\n",
    "q3=[{\n",
    "            \"question\": \"Was ist das Ergebnis des folgenden Codes?\",\n",
    "            \"code\": \"x = 0\\nfor i in range(1, 11):\\n    if i % 2 == 0:\\n        x += i\\n    else:\\n        x -= i\",\n",
    "            \"type\": \"multiple_choice\",\n",
    "            \"answers\": [\n",
    "                {\n",
    "                    \"answer\": \"-5\",\n",
    "                    \"correct\": False,\n",
    "                    \"feedback\": f\"Falsch! {explanation}\"\n",
    "                },\n",
    "                {\n",
    "                    \"answer\": \"0\",\n",
    "                    \"correct\": False,\n",
    "                    \"feedback\": f\"Falsch! {explanation}\"\n",
    "                },\n",
    "                {\n",
    "                    \"answer\": \"5\",\n",
    "                    \"correct\": True,\n",
    "                    \"feedback\": \"Richtig!\"\n",
    "                },\n",
    "\n",
    "                {\n",
    "                    \"answer\": \"-6\",\n",
    "                    \"correct\": False,\n",
    "                    \"feedback\": f\"Falsch! {explanation}\"\n",
    "                },\n",
    "            ]\n",
    "    }]\n",
    "\n"
   ]
  },
  {
   "cell_type": "code",
   "execution_count": null,
   "id": "70fafc5c-07e8-4d5d-9070-dae8bf998f88",
   "metadata": {
    "tags": [
     "remove-input"
    ]
   },
   "outputs": [],
   "source": [
    "display_quiz(q1, colors='fdsp')\n",
    "display_quiz(q2, colors='fdsp')\n",
    "display_quiz(q3, colors='fdsp')"
   ]
  }
 ],
 "metadata": {
  "kernelspec": {
   "display_name": "Python 3 (ipykernel)",
   "language": "python",
   "name": "python3"
  },
  "language_info": {
   "codemirror_mode": {
    "name": "ipython",
    "version": 3
   },
   "file_extension": ".py",
   "mimetype": "text/x-python",
   "name": "python",
   "nbconvert_exporter": "python",
   "pygments_lexer": "ipython3",
   "version": "3.9.16"
  }
 },
 "nbformat": 4,
 "nbformat_minor": 5
}
