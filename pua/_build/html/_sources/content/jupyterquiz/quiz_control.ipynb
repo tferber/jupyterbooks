{
 "cells": [
  {
   "cell_type": "markdown",
   "id": "0b4deb62-8bb6-44bd-8836-19a65c0bc83b",
   "metadata": {},
   "source": [
    "# Quiz Kontrollstrukturen"
   ]
  },
  {
   "cell_type": "code",
   "execution_count": 1,
   "id": "f90f5900-e165-41be-997e-14e6141ebaeb",
   "metadata": {
    "tags": [
     "remove-input"
    ]
   },
   "outputs": [
    {
     "ename": "ModuleNotFoundError",
     "evalue": "No module named 'jupyterquiz'",
     "output_type": "error",
     "traceback": [
      "\u001b[0;31m---------------------------------------------------------------------------\u001b[0m",
      "\u001b[0;31mModuleNotFoundError\u001b[0m                       Traceback (most recent call last)",
      "Cell \u001b[0;32mIn[1], line 1\u001b[0m\n\u001b[0;32m----> 1\u001b[0m \u001b[38;5;28;01mfrom\u001b[39;00m \u001b[38;5;21;01mjupyterquiz\u001b[39;00m \u001b[38;5;28;01mimport\u001b[39;00m display_quiz\n\u001b[1;32m      2\u001b[0m display_quiz(\u001b[38;5;124m\"\u001b[39m\u001b[38;5;124mquiz_variables.json\u001b[39m\u001b[38;5;124m\"\u001b[39m, colors\u001b[38;5;241m=\u001b[39m\u001b[38;5;124m'\u001b[39m\u001b[38;5;124mfdsp\u001b[39m\u001b[38;5;124m'\u001b[39m)\n",
      "\u001b[0;31mModuleNotFoundError\u001b[0m: No module named 'jupyterquiz'"
     ]
    }
   ],
   "source": [
    "from jupyterquiz import display_quiz\n",
    "\n",
    "q1=[{\n",
    "            \"question\": \"Was ist das Ergebnis des folgenden Codes?\",\n",
    "            \"code\": \"def print_square(n):\\n    print(n ** 2)\\n\\nprint_square(4)\",\n",
    "            \"type\": \"multiple_choice\",\n",
    "            \"answers\": [\n",
    "                {\n",
    "                    \"answer\": \"4\",\n",
    "                    \"correct\": False,\n",
    "                    \"feedback\": \"Falsch!\"\n",
    "                },\n",
    "                {\n",
    "                    \"answer\": \"16\",\n",
    "                    \"correct\": True,\n",
    "                    \"feedback\": \"Richtig! Es ist erlaubt innerhalb einer Funktion (z.B. print_square()) eine weitere Funktion (z.B. print()) aufzurufen und in dieser sogar eine Berechnung durchzuführen.\"\n",
    "                },\n",
    "                {\n",
    "                    \"answer\": \"8\",\n",
    "                    \"correct\": False,\n",
    "                    \"feedback\": \"Falsch! ** ist der Exponentiationsoperator, nicht der Multiplikatiosnoperator.\"\n",
    "                },\n",
    "            ]\n",
    "    }]\n",
    "\n",
    "q2=[{\n",
    "            \"question\": \"Was ist das Ergebnis des folgenden Codes?\",\n",
    "            \"code\": \"x = 10\\ndef change_x():\\n    x = 20\\n    print(x)\\n\\nchange_x()\\nprint(x)\",\n",
    "            \"type\": \"multiple_choice\",\n",
    "            \"answers\": [\n",
    "                {\n",
    "                    \"answer\": \"10\",\n",
    "                    \"correct\": False,\n",
    "                    \"feedback\": \"Falsch! Das print() innerhalb der Funktion wird zuerst ausgeführt. \"\n",
    "                },\n",
    "                {\n",
    "                    \"answer\": \"20\",\n",
    "                    \"correct\": False,\n",
    "                    \"feedback\": \"Falsch! Das print() innerhalb der Funktion wird zuerst ausgeführt.\"\n",
    "                },\n",
    "                {\n",
    "                    \"answer\": \"20, dann 20\",\n",
    "                    \"correct\": False,\n",
    "                    \"feedback\": \"Falsch! Die Variable `x` in der Funktion ist lokal und ändert nicht die äussere Variable `x`.\"\n",
    "                },\n",
    "                {\n",
    "                    \"answer\": \"20, dann 10\",\n",
    "                    \"correct\": True,\n",
    "                    \"feedback\": \"Richtig! Die Variable `x` in der Funktion ist lokal und ändert nicht die äussere Variable `x`.\"\n",
    "                },\n",
    "            ]\n",
    "    }]\n",
    "\n",
    "q3=[{\n",
    "            \"question\": \"Was ist das Ergebnis des folgenden Codes?\",\n",
    "            \"code\": \"def tricky():\\n    print(x)\\n    x = 10\\n\\ntricky()\",\n",
    "            \"type\": \"multiple_choice\",\n",
    "            \"answers\": [\n",
    "                {\n",
    "                    \"answer\": \"10\",\n",
    "                    \"correct\": False,\n",
    "                    \"feedback\": \"Falsch! print(x) wird ausgeführt bevor die Variable `x` erzeugt wird. \"\n",
    "                },\n",
    "                {\n",
    "                    \"answer\": \"0\",\n",
    "                    \"correct\": False,\n",
    "                    \"feedback\": \"Falsch (aber Sie sind auf der richtigen Spur)! print(x) wird ausgeführt bevor die Variable `x` erzeugt wird. Eine nicht definierte Variable hat nicht den Wert null.\"\n",
    "                },\n",
    "                {\n",
    "                    \"answer\": \"Eine zufällige Zahl.\",\n",
    "                    \"correct\": False,\n",
    "                    \"feedback\": \"Falsch (aber Sie sind auf der richtigen Spur)! print(x) wird ausgeführt bevor die Variable `x` erzeugt wird. Eine nicht definierte Variable hat keinen zufälligen Wert.\"\n",
    "                },\n",
    "                {\n",
    "                    \"answer\": \"Eine Fehlermeldung.\",\n",
    "                    \"correct\": True,\n",
    "                    \"feedback\": \"Richtig! Genauer der Fehler \\\"UnboundLocalError local variable 'x' referenced before assignment\\\".\"\n",
    "                },\n",
    "            ]\n",
    "    }]\n",
    "\n"
   ]
  },
  {
   "cell_type": "code",
   "execution_count": null,
   "id": "70fafc5c-07e8-4d5d-9070-dae8bf998f88",
   "metadata": {
    "tags": [
     "remove-input"
    ]
   },
   "outputs": [],
   "source": [
    "display_quiz(q1, colors='fdsp')\n",
    "display_quiz(q2, colors='fdsp')\n",
    "display_quiz(q3, colors='fdsp')"
   ]
  }
 ],
 "metadata": {
  "kernelspec": {
   "display_name": "Python 3 (ipykernel)",
   "language": "python",
   "name": "python3"
  },
  "language_info": {
   "codemirror_mode": {
    "name": "ipython",
    "version": 3
   },
   "file_extension": ".py",
   "mimetype": "text/x-python",
   "name": "python",
   "nbconvert_exporter": "python",
   "pygments_lexer": "ipython3",
   "version": "3.9.16"
  }
 },
 "nbformat": 4,
 "nbformat_minor": 5
}
