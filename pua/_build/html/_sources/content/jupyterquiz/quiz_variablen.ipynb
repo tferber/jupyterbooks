{
 "cells": [
  {
   "cell_type": "markdown",
   "id": "85bfe4b7-7dcf-4217-a13b-34677f8d4802",
   "metadata": {},
   "source": [
    "# Quiz Variablen"
   ]
  },
  {
   "cell_type": "code",
   "execution_count": 1,
   "id": "f90f5900-e165-41be-997e-14e6141ebaeb",
   "metadata": {
    "tags": [
     "remove-input"
    ]
   },
   "outputs": [
    {
     "ename": "ModuleNotFoundError",
     "evalue": "No module named 'jupyterquiz'",
     "output_type": "error",
     "traceback": [
      "\u001b[0;31m---------------------------------------------------------------------------\u001b[0m",
      "\u001b[0;31mModuleNotFoundError\u001b[0m                       Traceback (most recent call last)",
      "Cell \u001b[0;32mIn[1], line 1\u001b[0m\n\u001b[0;32m----> 1\u001b[0m \u001b[38;5;28;01mfrom\u001b[39;00m \u001b[38;5;21;01mjupyterquiz\u001b[39;00m \u001b[38;5;28;01mimport\u001b[39;00m display_quiz\n\u001b[1;32m      2\u001b[0m display_quiz(\u001b[38;5;124m\"\u001b[39m\u001b[38;5;124mquiz_variables.json\u001b[39m\u001b[38;5;124m\"\u001b[39m, colors\u001b[38;5;241m=\u001b[39m\u001b[38;5;124m'\u001b[39m\u001b[38;5;124mfdsp\u001b[39m\u001b[38;5;124m'\u001b[39m)\n",
      "\u001b[0;31mModuleNotFoundError\u001b[0m: No module named 'jupyterquiz'"
     ]
    }
   ],
   "source": [
    "from jupyterquiz import display_quiz\n",
    "# git_path=\"https://github.com/tferber/jupyterbooks/tree/main/pua/content/jupyterquiz/\"\n",
    "# display_quiz(git_path + \"quiz_variablen.json\", colors='fdsp')\n",
    "\n",
    "q1=[{\n",
    "            \"question\": \"Was ist `b`?\",\n",
    "            \"code\": \"a=1\\nb=a\\na=4\",\n",
    "            \"type\": \"multiple_choice\",\n",
    "            \"answers\": [\n",
    "                {\n",
    "                    \"answer\": \"b=4\",\n",
    "                    \"correct\": False,\n",
    "                    \"feedback\": \"Falsch! Variablen referenzieren immer einen Wert, in diesem Fall referenziert `b` welchen Wert?\"\n",
    "                },\n",
    "                {\n",
    "                    \"answer\": \"b=1\",\n",
    "                    \"correct\": True,\n",
    "                    \"feedback\": \"Richtig!\"\n",
    "                },\n",
    "                {\n",
    "                    \"answer\": \"b=None\",\n",
    "                    \"correct\": False,\n",
    "                    \"feedback\": \"Falsch! `None` ist reserviert für Datenobjekte ohne Typ. `b` referenziert allerdings ein Datenobjekt mit einem definierten Typ.\"\n",
    "                },\n",
    "            ]\n",
    "    }]\n",
    "\n",
    "q2=[{\n",
    "            \"question\": \"Was ist `b`?\",\n",
    "            \"code\": \"a=2\\nb=a*5\\na=4\\nb=b+1\",\n",
    "            \"type\": \"multiple_choice\",\n",
    "            \"answers\": [\n",
    "                {\n",
    "                    \"answer\": \"b=11\",\n",
    "                    \"correct\": True,\n",
    "                    \"feedback\": \"Richtig!\"\n",
    "                },\n",
    "                {\n",
    "                    \"answer\": \"b=None\",\n",
    "                    \"correct\": False,\n",
    "                    \"feedback\": \"Falsch! Die Operation `b=b+1` ist erlaubt und wird sogar recht häufig angewendet.\"\n",
    "                },\n",
    "                {\n",
    "                    \"answer\": \"b=21\",\n",
    "                    \"correct\": False,\n",
    "                    \"feedback\": \"Falsch! Die zweite Zuweisung von `a` hat keinerlei Auswirkung auf `b`.\"\n",
    "                },\n",
    "            ]\n",
    "    }]\n",
    "\n",
    "q3=[{\n",
    "            \"question\": \"Welche beiden Variablen referenzieren das gleiche Objekt bei Verwendung des Interpreter Mode? (Für Expert*innen!)\",\n",
    "            \"type\": \"multiple_choice\",\n",
    "            \"answers\": [\n",
    "                {\n",
    "                    \"code\": \"a=10\\nb=10\",\n",
    "                    \"correct\": True,\n",
    "                    \"feedback\": \"Richtig! Hierfür verantworlich ist sog. Caching sehr kleiner `int` Werte zwischen -5 und 256 in Python.\"\n",
    "                },\n",
    "                {\n",
    "                    \"code\": \"a=3120\\nb=3120\",\n",
    "                    \"correct\": False,\n",
    "                    \"feedback\": \"Falsch. Die beiden Variablen refenzieren unterschiedliche Datenobjekte - die zufällig den gleichen Wert abbilden. Sollten sie den Code im Script Mode ausführen und die beiden Referenzen mit dem `is` Operator vergleichen, wird der Python bytecode Compiler eine optimierung vornehmen und erkennen, dass die beiden Werte mit nur einem Objekt dargestellt werden können.\"\n",
    "                },\n",
    "                {\n",
    "                    \"code\": \"a=\\\"Haus_Am_See\\\"\\nb=\\\"Haus_Am_See\\\"\",\n",
    "                    \"correct\": True,\n",
    "                    \"feedback\": \"Richtig! Hierfür verantworlich ist sog. string interning aller alphanumerischen Buchstaben und des Unterstrichs. Dies ist nicht Teil des Python Standards sondern eine Optimierung im CPython Interpreter die sich jederzeit auch ohne Ankündigung ändern kann.\"\n",
    "                },\n",
    "                {\n",
    "                    \"code\": \"a=\\\"Haus Am See\\\"\\nb=\\\"Haus Am See\\\"\",\n",
    "                    \"correct\": False,\n",
    "                    \"feedback\": \"Falsch! Hierfür verantworlich ist sog. string interning aller alphanumerrischen Buchstaben und des Unterstrichs - nicht aber des Leerzeichens. Dies ist nicht Teil des Python Standards sondern eine Optimierung im CPython Interpreter die sich jederzeit auch ohne Ankündigung ändern kann.\"\n",
    "                },\n",
    "            ]\n",
    "    }]\n",
    "\n"
   ]
  },
  {
   "cell_type": "code",
   "execution_count": null,
   "id": "70fafc5c-07e8-4d5d-9070-dae8bf998f88",
   "metadata": {
    "tags": [
     "remove-input"
    ]
   },
   "outputs": [],
   "source": [
    "display_quiz(q1, colors='fdsp')\n",
    "display_quiz(q2, colors='fdsp')\n",
    "display_quiz(q3, colors='fdsp')"
   ]
  }
 ],
 "metadata": {
  "kernelspec": {
   "display_name": "Python 3 (ipykernel)",
   "language": "python",
   "name": "python3"
  },
  "language_info": {
   "codemirror_mode": {
    "name": "ipython",
    "version": 3
   },
   "file_extension": ".py",
   "mimetype": "text/x-python",
   "name": "python",
   "nbconvert_exporter": "python",
   "pygments_lexer": "ipython3",
   "version": "3.9.16"
  }
 },
 "nbformat": 4,
 "nbformat_minor": 5
}
