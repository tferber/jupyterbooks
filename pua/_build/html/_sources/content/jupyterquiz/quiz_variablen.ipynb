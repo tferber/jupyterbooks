{
 "cells": [
  {
   "cell_type": "markdown",
   "id": "85bfe4b7-7dcf-4217-a13b-34677f8d4802",
   "metadata": {},
   "source": [
    "# Quiz Variablen"
   ]
  },
  {
   "cell_type": "code",
   "execution_count": 1,
   "id": "f90f5900-e165-41be-997e-14e6141ebaeb",
   "metadata": {
    "tags": [
     "remove-input"
    ]
   },
   "outputs": [
    {
     "ename": "ModuleNotFoundError",
     "evalue": "No module named 'jupyterquiz'",
     "output_type": "error",
     "traceback": [
      "\u001b[0;31m---------------------------------------------------------------------------\u001b[0m",
      "\u001b[0;31mModuleNotFoundError\u001b[0m                       Traceback (most recent call last)",
      "Cell \u001b[0;32mIn[1], line 1\u001b[0m\n\u001b[0;32m----> 1\u001b[0m \u001b[38;5;28;01mfrom\u001b[39;00m \u001b[38;5;21;01mjupyterquiz\u001b[39;00m \u001b[38;5;28;01mimport\u001b[39;00m display_quiz\n\u001b[1;32m      2\u001b[0m display_quiz(\u001b[38;5;124m\"\u001b[39m\u001b[38;5;124mquiz_variables.json\u001b[39m\u001b[38;5;124m\"\u001b[39m, colors\u001b[38;5;241m=\u001b[39m\u001b[38;5;124m'\u001b[39m\u001b[38;5;124mfdsp\u001b[39m\u001b[38;5;124m'\u001b[39m)\n",
      "\u001b[0;31mModuleNotFoundError\u001b[0m: No module named 'jupyterquiz'"
     ]
    }
   ],
   "source": [
    "from jupyterquiz import display_quiz\n",
    "# git_path=\"https://github.com/tferber/jupyterbooks/tree/main/pua/content/jupyterquiz/\"\n",
    "# display_quiz(git_path + \"quiz_variablen.json\", colors='fdsp')\n",
    "\n",
    "q1=[{\n",
    "            \"question\": \"Was ist das \\\"x\\\"?\",\n",
    "            \"code\": \"a=\\\"1\\\" \\n b=\\\"2\\\" \\n print(a+b)\",\n",
    "            \"type\": \"multiple_choice\",\n",
    "            \"answers\": [\n",
    "                {\n",
    "                    \"answer\": \"x=5\",\n",
    "                    \"correct\": True,\n",
    "                    \"feedback\": \".\"\n",
    "                },\n",
    "                {\n",
    "                    \"answer\": \"x=None\",\n",
    "                    \"correct\": False,\n",
    "                    \"feedback\": \".\"\n",
    "                },\n",
    "                {\n",
    "                    \"answer\": \"x=12\",\n",
    "                    \"correct\": False,\n",
    "                    \"feedback\": \"Richtig.\"\n",
    "                },\n",
    "                {\n",
    "                    \"answer\": \"x=24.\",\n",
    "                    \"correct\": False,\n",
    "                    \"feedback\": \".\"\n",
    "                }\n",
    "            ]\n",
    "    }]\n",
    "\n"
   ]
  },
  {
   "cell_type": "code",
   "execution_count": null,
   "id": "70fafc5c-07e8-4d5d-9070-dae8bf998f88",
   "metadata": {
    "tags": [
     "remove-input"
    ]
   },
   "outputs": [],
   "source": [
    "display_quiz(q1, colors='fdsp')"
   ]
  }
 ],
 "metadata": {
  "kernelspec": {
   "display_name": "Python 3 (ipykernel)",
   "language": "python",
   "name": "python3"
  },
  "language_info": {
   "codemirror_mode": {
    "name": "ipython",
    "version": 3
   },
   "file_extension": ".py",
   "mimetype": "text/x-python",
   "name": "python",
   "nbconvert_exporter": "python",
   "pygments_lexer": "ipython3",
   "version": "3.9.16"
  }
 },
 "nbformat": 4,
 "nbformat_minor": 5
}
