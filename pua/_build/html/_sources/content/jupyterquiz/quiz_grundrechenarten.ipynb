{
 "cells": [
  {
   "cell_type": "markdown",
   "id": "c3ce9370-716e-4dac-bf28-6bcd6d0fcf6f",
   "metadata": {},
   "source": [
    "# Quiz Grundrechenarten\n",
    " "
   ]
  },
  {
   "cell_type": "code",
   "execution_count": 1,
   "id": "f90f5900-e165-41be-997e-14e6141ebaeb",
   "metadata": {
    "tags": [
     "remove-input"
    ]
   },
   "outputs": [
    {
     "ename": "ModuleNotFoundError",
     "evalue": "No module named 'jupyterquiz'",
     "output_type": "error",
     "traceback": [
      "\u001b[0;31m---------------------------------------------------------------------------\u001b[0m",
      "\u001b[0;31mModuleNotFoundError\u001b[0m                       Traceback (most recent call last)",
      "Cell \u001b[0;32mIn[1], line 1\u001b[0m\n\u001b[0;32m----> 1\u001b[0m \u001b[38;5;28;01mfrom\u001b[39;00m \u001b[38;5;21;01mjupyterquiz\u001b[39;00m \u001b[38;5;28;01mimport\u001b[39;00m display_quiz\n\u001b[1;32m      2\u001b[0m display_quiz(\u001b[38;5;124m\"\u001b[39m\u001b[38;5;124mquiz_variables.json\u001b[39m\u001b[38;5;124m\"\u001b[39m, colors\u001b[38;5;241m=\u001b[39m\u001b[38;5;124m'\u001b[39m\u001b[38;5;124mfdsp\u001b[39m\u001b[38;5;124m'\u001b[39m)\n",
      "\u001b[0;31mModuleNotFoundError\u001b[0m: No module named 'jupyterquiz'"
     ]
    }
   ],
   "source": [
    "from jupyterquiz import display_quiz\n",
    "\n",
    "q2=[{\n",
    "        \"question\": \"Was ist das Ergebnis des folgenden Codes?\",\n",
    "        \"code\": \"4.0 / 2\",\n",
    "            \"type\": \"multiple_choice\",\n",
    "            \"answers\": [\n",
    "                {\n",
    "                    \"answer\": \"2.0\",\n",
    "                    \"correct\": True,\n",
    "                    \"feedback\": \"Richtig. Das Ergebnis einer Division ist immer eine Gleitkommazahl, auch wenn einer der Operanden ein ganzzahliger Datentyp ist.\"\n",
    "                },\n",
    "                {\n",
    "                    \"answer\": \"2\",\n",
    "                    \"correct\": False,\n",
    "                    \"feedback\": \"Falsch. Das Ergebnis einer Division ist immer eine Gleitkommazahl, auch wenn einer der Operanden ein ganzzahliger Datentyp ist.\"\n",
    "                },\n",
    "                {\n",
    "                    \"answer\": \"2.0000000000001\",\n",
    "                    \"correct\": False,\n",
    "                    \"feedback\": \"Falsch! Allerdings kann es durch begrenzte numerische Präzision und die Schwierigkeiten manche Zahlen auf dem Computer binär darzustellen durchaus zu solchen Fällen kommen.\"\n",
    "                }\n",
    "            ]\n",
    "    }]\n",
    "\n",
    "\n",
    "q3=[{\n",
    "        \"question\": \"Was ist das Ergebnis des folgenden Codes?\",\n",
    "        \"code\": \"4.0 % 2\",\n",
    "            \"type\": \"multiple_choice\",\n",
    "            \"answers\": [\n",
    "                {\n",
    "                    \"answer\": \"0.0\",\n",
    "                    \"correct\": True,\n",
    "                    \"feedback\": \"Richtig. Das Ergebnis der Ganzzahldivision ist zwei, der Rest ist null. Da einer der Operanden eine Gleitkommazahl ist, ist das Ergebnis eine Gleitkommazahl.\"\n",
    "                },\n",
    "                {\n",
    "                    \"answer\": \"0\",\n",
    "                    \"correct\": False,\n",
    "                    \"feedback\": \"Falsch (aber fast richtig). Das Ergebnis der Ganzzahldivision ist zwei, der Rest ist null. Da aber einer der Operanden eine Gleitkommazahl ist, ist das Ergebnis eine Gleitkommazahl.\"\n",
    "                },\n",
    "                {\n",
    "                    \"answer\": \"2\",\n",
    "                    \"correct\": False,\n",
    "                    \"feedback\": \"Falsch! % ist nicht der Divisionsoperator, sondern beschreibt den Rest einer Ganzzahldivision.\"\n",
    "                }\n",
    "            ]\n",
    "    }]\n",
    "\n",
    "\n",
    "q4=[{\n",
    "        \"question\": \"Was ist das Ergebnis des folgenden Codes?\",\n",
    "        \"code\": \"5.0 // 2.0\",\n",
    "            \"type\": \"multiple_choice\",\n",
    "            \"answers\": [\n",
    "                {\n",
    "                    \"answer\": \"2.0\",\n",
    "                    \"correct\": True,\n",
    "                    \"feedback\": \"Richtig! Das Ergebnis der Ganzzahldivision ist zwei, der Rest ist eins. Da mindestens einer der Operanden eine Gleitkommazahl ist, ist das Ergebnis eine Gleitkommazahl.\"\n",
    "                },\n",
    "                {\n",
    "                    \"answer\": \"1\",\n",
    "                    \"correct\": False,\n",
    "                    \"feedback\": \"Falsch! Das Ergebnis der Ganzzahldivision ist zwei, der Rest ist eins. // beschreibt den Quotienten, nicht den Rest (diesen bekommen sie mit dem Modulo Operator %).\"\n",
    "                },\n",
    "                {\n",
    "                    \"answer\": \"2.5\",\n",
    "                    \"correct\": False,\n",
    "                    \"feedback\": \"Falsch! // beschreibt keine Division sondern eine Division mit Rest.\"\n",
    "                },\n",
    "                {\n",
    "                    \"answer\": \"2\",\n",
    "                    \"correct\": False,\n",
    "                    \"feedback\": \"Falsch (aber fast richtig)! Das Ergebnis der Ganzzahldivision ist zwei, der Rest ist eins. Da aber mindestens einer der Operanden eine Gleitkommazahl ist, ist das Ergebnis eine Gleitkommazahl.\"\n",
    "                }\n",
    "            ]\n",
    "    }]\n",
    "\n"
   ]
  },
  {
   "cell_type": "code",
   "execution_count": null,
   "id": "70fafc5c-07e8-4d5d-9070-dae8bf998f88",
   "metadata": {
    "tags": [
     "remove-input"
    ]
   },
   "outputs": [],
   "source": [
    "display_quiz(q2, colors='fdsp')\n",
    "display_quiz(q3, colors='fdsp')\n",
    "display_quiz(q4, colors='fdsp')\n"
   ]
  }
 ],
 "metadata": {
  "kernelspec": {
   "display_name": "Python 3 (ipykernel)",
   "language": "python",
   "name": "python3"
  },
  "language_info": {
   "codemirror_mode": {
    "name": "ipython",
    "version": 3
   },
   "file_extension": ".py",
   "mimetype": "text/x-python",
   "name": "python",
   "nbconvert_exporter": "python",
   "pygments_lexer": "ipython3",
   "version": "3.9.16"
  }
 },
 "nbformat": 4,
 "nbformat_minor": 5
}
