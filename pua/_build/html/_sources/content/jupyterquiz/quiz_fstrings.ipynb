{
 "cells": [
  {
   "cell_type": "markdown",
   "id": "e192d6ad-b82f-46fd-b3ca-476c04af8dcb",
   "metadata": {},
   "source": [
    "# Quiz f-strings"
   ]
  },
  {
   "cell_type": "code",
   "execution_count": 1,
   "id": "f90f5900-e165-41be-997e-14e6141ebaeb",
   "metadata": {
    "tags": [
     "remove-input"
    ]
   },
   "outputs": [
    {
     "ename": "ModuleNotFoundError",
     "evalue": "No module named 'jupyterquiz'",
     "output_type": "error",
     "traceback": [
      "\u001b[0;31m---------------------------------------------------------------------------\u001b[0m",
      "\u001b[0;31mModuleNotFoundError\u001b[0m                       Traceback (most recent call last)",
      "Cell \u001b[0;32mIn[1], line 1\u001b[0m\n\u001b[0;32m----> 1\u001b[0m \u001b[38;5;28;01mfrom\u001b[39;00m \u001b[38;5;21;01mjupyterquiz\u001b[39;00m \u001b[38;5;28;01mimport\u001b[39;00m display_quiz\n\u001b[1;32m      2\u001b[0m display_quiz(\u001b[38;5;124m\"\u001b[39m\u001b[38;5;124mquiz_variables.json\u001b[39m\u001b[38;5;124m\"\u001b[39m, colors\u001b[38;5;241m=\u001b[39m\u001b[38;5;124m'\u001b[39m\u001b[38;5;124mfdsp\u001b[39m\u001b[38;5;124m'\u001b[39m)\n",
      "\u001b[0;31mModuleNotFoundError\u001b[0m: No module named 'jupyterquiz'"
     ]
    }
   ],
   "source": [
    "from jupyterquiz import display_quiz\n",
    "# git_path=\"https://github.com/tferber/jupyterbooks/tree/main/pua/content/jupyterquiz/\"\n",
    "# display_quiz(git_path + \"quiz_variablen.json\", colors='fdsp')\n",
    "\n",
    "q1=[{\n",
    "            \"question\": \"Was ist ein f-string in Python?\",\n",
    "            \"type\": \"multiple_choice\",\n",
    "            \"answers\": [\n",
    "                {\n",
    "                    \"answer\": \"Ein string der mit dem Buchstaben f beginnt\",\n",
    "                    \"correct\": False,\n",
    "                    \"feedback\": \"Falsch! Ein f-string beginnt zwar mit einem f, es ist aber nicht Teil des strings!\"\n",
    "                },\n",
    "                {\n",
    "                    \"answer\": \"Die empfohlene string-Formatierung in modernem Python\",\n",
    "                    \"correct\": True,\n",
    "                    \"feedback\": \"Richtig! f-strings wurden erst in python 3.6 eingeführt und sind die empfohlene Methode strings mit Zahlen darzustellen.\"\n",
    "                },\n",
    "                {\n",
    "                    \"answer\": \"Eine Methode eine Gleitkommazahl (`float`) in einen string umzuwandeln.\",\n",
    "                    \"correct\": False,\n",
    "                    \"feedback\": \"Falsch! Eine Gleitkommazahl `x` wandeln sie durch explizite Type-Konvertierung str(x) in einen string um.\"\n",
    "                },\n",
    "            ]\n",
    "    }]\n",
    "\n",
    "q2=[{\n",
    "            \"question\": \"Wie würden sie eine Variable `x=42.0` in einem f-string benutzen?\",\n",
    "            \"type\": \"multiple_choice\",\n",
    "            \"answers\": [\n",
    "                {\n",
    "                    \"answer\": \"f\\\"The answer to the Ultimate Question of Life, the Universe, and Everything is {x}\\\"\",\n",
    "                    \"correct\": True,\n",
    "                    \"feedback\": \"Richtig!\"\n",
    "                },\n",
    "                {\n",
    "                    \"answer\": \"f\\\"The answer to the Ultimate Question of Life, the Universe, and Everything is %f\\\" % x\",\n",
    "                    \"correct\": False,\n",
    "                    \"feedback\": \"Falsch! Dies ist die veraltete %-Formatierung.\"\n",
    "                },\n",
    "                {\n",
    "                    \"answer\": \"f\\\"The answer to the Ultimate Question of Life, the Universe, and Everything is {}\\\".format(x)\",\n",
    "                    \"correct\": False,\n",
    "                    \"feedback\": \"Falsch! Dies ist das veraltete str.format().\"\n",
    "                },\n",
    "                {\n",
    "                    \"answer\": \"f\\\"The answer to the Ultimate Question of Life, the Universe, and Everything is\\\" + x\",\n",
    "                    \"correct\": False,\n",
    "                    \"feedback\": \"Falsch! Sie können einen `string` und eine Gleitkommazahl nicht mit einer Additionsoperation verbinden.\"\n",
    "                },\n",
    "            ]\n",
    "    }]\n",
    "\n",
    "q3=[{\n",
    "            \"question\": \"Wie würden sie einen f-string so verwenden, dass `x` mit zwei Dezimalstellen angezeigt wird?\",\n",
    "            \"type\": \"multiple_choice\",\n",
    "            \"answers\": [\n",
    "                {\n",
    "                    \"answer\": \"f\\\"{number:.2}\\\"\",\n",
    "                    \"correct\": False,\n",
    "                    \"feedback\": \"Falsch! Diese Formatierung ist zwar kein Syntaxfehler, hat aber keine Wirkung.\"\n",
    "                },\n",
    "                {\n",
    "                    \"answer\": \"f\\\"{number:.2f}\\\"\",\n",
    "                    \"correct\": True,\n",
    "                    \"feedback\": \"Richtig!\"\n",
    "                },\n",
    "                {\n",
    "                    \"answer\": \"f\\\"{number:2f}\\\"\",\n",
    "                    \"correct\": False,\n",
    "                    \"feedback\": \"Falsch! Diese Formatierung ist zwar kein Syntaxfehler, hat aber keine Wirkung.\"\n",
    "                },\n",
    "                {\n",
    "                    \"answer\": \"f\\\"{number.2f}\\\"\",\n",
    "                    \"correct\": False,\n",
    "                    \"feedback\": \"Falsch! Diese Formatierung ist ein Syntaxfehler, auf eine Gleitkommazahl muss ein Doppelpunkt folgen um weitere Fomrtierungsoptionen anzugeben.\"\n",
    "                },\n",
    "            ]\n",
    "    }]\n"
   ]
  },
  {
   "cell_type": "code",
   "execution_count": null,
   "id": "70fafc5c-07e8-4d5d-9070-dae8bf998f88",
   "metadata": {
    "tags": [
     "remove-input"
    ]
   },
   "outputs": [],
   "source": [
    "display_quiz(q1, colors='fdsp')\n",
    "display_quiz(q2, colors='fdsp')\n",
    "display_quiz(q3, colors='fdsp')\n"
   ]
  }
 ],
 "metadata": {
  "kernelspec": {
   "display_name": "Python 3 (ipykernel)",
   "language": "python",
   "name": "python3"
  },
  "language_info": {
   "codemirror_mode": {
    "name": "ipython",
    "version": 3
   },
   "file_extension": ".py",
   "mimetype": "text/x-python",
   "name": "python",
   "nbconvert_exporter": "python",
   "pygments_lexer": "ipython3",
   "version": "3.9.16"
  }
 },
 "nbformat": 4,
 "nbformat_minor": 5
}
