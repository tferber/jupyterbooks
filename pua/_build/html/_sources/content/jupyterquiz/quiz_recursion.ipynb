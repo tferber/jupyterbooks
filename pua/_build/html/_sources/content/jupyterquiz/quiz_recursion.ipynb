{
 "cells": [
  {
   "cell_type": "markdown",
   "id": "e192d6ad-b82f-46fd-b3ca-476c04af8dcb",
   "metadata": {},
   "source": [
    "# Quiz Rekursion"
   ]
  },
  {
   "cell_type": "code",
   "execution_count": 1,
   "id": "f90f5900-e165-41be-997e-14e6141ebaeb",
   "metadata": {
    "tags": [
     "remove-input"
    ]
   },
   "outputs": [
    {
     "ename": "ModuleNotFoundError",
     "evalue": "No module named 'jupyterquiz'",
     "output_type": "error",
     "traceback": [
      "\u001b[0;31m---------------------------------------------------------------------------\u001b[0m",
      "\u001b[0;31mModuleNotFoundError\u001b[0m                       Traceback (most recent call last)",
      "Cell \u001b[0;32mIn[1], line 1\u001b[0m\n\u001b[0;32m----> 1\u001b[0m \u001b[38;5;28;01mfrom\u001b[39;00m \u001b[38;5;21;01mjupyterquiz\u001b[39;00m \u001b[38;5;28;01mimport\u001b[39;00m display_quiz\n\u001b[1;32m      2\u001b[0m display_quiz(\u001b[38;5;124m\"\u001b[39m\u001b[38;5;124mquiz_variables.json\u001b[39m\u001b[38;5;124m\"\u001b[39m, colors\u001b[38;5;241m=\u001b[39m\u001b[38;5;124m'\u001b[39m\u001b[38;5;124mfdsp\u001b[39m\u001b[38;5;124m'\u001b[39m)\n",
      "\u001b[0;31mModuleNotFoundError\u001b[0m: No module named 'jupyterquiz'"
     ]
    }
   ],
   "source": [
    "from jupyterquiz import display_quiz\n",
    "\n",
    "q1=[{\n",
    "            \"question\": \"Was ist das Ergebnis des folgenden Codes?\",\n",
    "            \"code\": \"def function1(n):\\n    if n == 1:\\n        return 1\\n    else:\\n        return n * function1(n-1)\\n\\nprint(function1(5))\",\n",
    "            \"type\": \"multiple_choice\",\n",
    "            \"answers\": [\n",
    "                {\n",
    "                    \"answer\": \"15\",\n",
    "                    \"correct\": False,\n",
    "                    \"feedback\": \"Falsch!\"\n",
    "                },\n",
    "                {\n",
    "                    \"answer\": \"16\",\n",
    "                    \"correct\": False,\n",
    "                    \"feedback\": \"Falsch!\"\n",
    "                },\n",
    "                {\n",
    "                    \"answer\": \"120\",\n",
    "                    \"correct\": True,\n",
    "                    \"feedback\": \"Richtig! Die Funktion ist auch als Fakultät bekannt.\"\n",
    "                },\n",
    "                {\n",
    "                    \"answer\": \"5040\",\n",
    "                    \"correct\": False,\n",
    "                    \"feedback\": \"Falsch!\"\n",
    "                },\n",
    "            ]\n",
    "    }]\n",
    "\n",
    "q2=[{\n",
    "            \"question\": \"Was ist das Ergebnis des folgenden Codes (Achtung, die Funktion bekommt zwei Parameter übergeben)?\",\n",
    "            \"code\": \"def function2(n, m):\\n    if m == 0:\\n        return 1\\n    else:\\n        return n * function2(n, m-1)\\n\\nprint(function2(2,5))\",\n",
    "            \"type\": \"multiple_choice\",\n",
    "            \"answers\": [\n",
    "                {\n",
    "                    \"answer\": \"8\",\n",
    "                    \"correct\": False,\n",
    "                    \"feedback\": \"Falsch!\"\n",
    "                },\n",
    "                {\n",
    "                    \"answer\": \"16\",\n",
    "                    \"correct\": False,\n",
    "                    \"feedback\": \"Falsch!\"\n",
    "                },\n",
    "                {\n",
    "                    \"answer\": \"32\",\n",
    "                    \"correct\": True,\n",
    "                    \"feedback\": \"Richtig! Die Funktion ist auch als Potenz zur Basis n bekannt.\"\n",
    "                },\n",
    "                {\n",
    "                    \"answer\": \"2\",\n",
    "                    \"correct\": False,\n",
    "                    \"feedback\": \"Falsch!\"\n",
    "                },\n",
    "            ]\n",
    "    }]\n",
    "\n",
    "q3=[{\n",
    "            \"question\": \"Was ist das Ergebnis des folgenden Codes?\",\n",
    "            \"code\": \"def function3(n):\\n    if n > 10000:\\n        return n\\n    else:\\n        return function3(function3(n+1))\\n\\nprint(function3(0))\",\n",
    "            \"type\": \"multiple_choice\",\n",
    "            \"answers\": [\n",
    "                {\n",
    "                    \"answer\": \"0\",\n",
    "                    \"correct\": False,\n",
    "                    \"feedback\": \"Falsch!\"\n",
    "                },\n",
    "                {\n",
    "                    \"answer\": \"10000\",\n",
    "                    \"correct\": False,\n",
    "                    \"feedback\": \"Falsch!\"\n",
    "                },\n",
    "                {\n",
    "                    \"answer\": \"10001\",\n",
    "                    \"correct\": False,\n",
    "                    \"feedback\": \"Falsch.\"\n",
    "                },\n",
    "                {\n",
    "                    \"answer\": \"RecursionError\",\n",
    "                    \"correct\": True,\n",
    "                    \"feedback\": \"Richtig! Bei einer so hohen Zahl von Rekursionen wird i.A. die maximale Rekursionstiefe überschritten.\"\n",
    "                },\n",
    "            ]\n",
    "    }]\n"
   ]
  },
  {
   "cell_type": "code",
   "execution_count": null,
   "id": "70fafc5c-07e8-4d5d-9070-dae8bf998f88",
   "metadata": {
    "tags": [
     "remove-input"
    ]
   },
   "outputs": [],
   "source": [
    "display_quiz(q1, colors='fdsp')\n",
    "display_quiz(q2, colors='fdsp')\n",
    "display_quiz(q3, colors='fdsp')\n"
   ]
  }
 ],
 "metadata": {
  "kernelspec": {
   "display_name": "Python 3 (ipykernel)",
   "language": "python",
   "name": "python3"
  },
  "language_info": {
   "codemirror_mode": {
    "name": "ipython",
    "version": 3
   },
   "file_extension": ".py",
   "mimetype": "text/x-python",
   "name": "python",
   "nbconvert_exporter": "python",
   "pygments_lexer": "ipython3",
   "version": "3.9.16"
  }
 },
 "nbformat": 4,
 "nbformat_minor": 5
}
