{
 "cells": [
  {
   "cell_type": "markdown",
   "id": "e192d6ad-b82f-46fd-b3ca-476c04af8dcb",
   "metadata": {},
   "source": [
    "# Quiz Classes"
   ]
  },
  {
   "cell_type": "code",
   "execution_count": 1,
   "id": "f90f5900-e165-41be-997e-14e6141ebaeb",
   "metadata": {
    "tags": [
     "remove-input"
    ]
   },
   "outputs": [
    {
     "ename": "ModuleNotFoundError",
     "evalue": "No module named 'jupyterquiz'",
     "output_type": "error",
     "traceback": [
      "\u001b[0;31m---------------------------------------------------------------------------\u001b[0m",
      "\u001b[0;31mModuleNotFoundError\u001b[0m                       Traceback (most recent call last)",
      "Cell \u001b[0;32mIn[1], line 1\u001b[0m\n\u001b[0;32m----> 1\u001b[0m \u001b[38;5;28;01mfrom\u001b[39;00m \u001b[38;5;21;01mjupyterquiz\u001b[39;00m \u001b[38;5;28;01mimport\u001b[39;00m display_quiz\n\u001b[1;32m      2\u001b[0m display_quiz(\u001b[38;5;124m\"\u001b[39m\u001b[38;5;124mquiz_variables.json\u001b[39m\u001b[38;5;124m\"\u001b[39m, colors\u001b[38;5;241m=\u001b[39m\u001b[38;5;124m'\u001b[39m\u001b[38;5;124mfdsp\u001b[39m\u001b[38;5;124m'\u001b[39m)\n",
      "\u001b[0;31mModuleNotFoundError\u001b[0m: No module named 'jupyterquiz'"
     ]
    }
   ],
   "source": [
    "from jupyterquiz import display_quiz\n",
    "\n",
    "q1=[{\n",
    "            \"question\": \"Was ist das Ergebnis des folgenden Codes?\",\n",
    "            \"code\": \"import copy\\n\\nclass MyClass:\\n    def __init__(self, my_list):\\n        self.my_list = my_list\\n\\noriginal = MyClass([1, 2, 3])\\nshallow_copy = copy.copy(original)\\ndeep_copy = copy.deepcopy(original)\\n\\noriginal.my_list.append(4)\\nprint(shallow_copy.my_list)\\nprint(deep_copy.my_list)\",\n",
    "            \"type\": \"multiple_choice\",\n",
    "            \"answers\": [\n",
    "                {\n",
    "                    \"answer\": \"[1, 2, 3] und [1, 2, 3]\",\n",
    "                    \"correct\": False,\n",
    "                    \"feedback\": \"Falsch! deepcopy und shallow copy unterscheiden sich, wenn nicht simple Datenobjekte (wie 'int') kopiert werden!\"\n",
    "                },\n",
    "                {\n",
    "                    \"answer\": \"[1, 2, 3] und [1, 2, 3, 4]\",\n",
    "                    \"correct\": False,\n",
    "                    \"feedback\": \"Falsch! deepcopy und shallow copy unterscheiden sich, wenn nicht simple Datenobjekte (wie 'int') kopiert werden!\"\n",
    "                },\n",
    "                {\n",
    "                    \"answer\":\"[1, 2, 3, 4] und [1, 2, 3]\",\n",
    "                    \"correct\": True,\n",
    "                    \"feedback\": \"Richtig!\"\n",
    "                },\n",
    "                {\n",
    "                    \"answer\":\"[1, 2, 3, 4] und [1, 2, 3, 4]\",\n",
    "                    \"correct\": False,\n",
    "                    \"feedback\": \"Falsch! deepcopy und shallow copy unterscheiden sich, wenn nicht simple Datenobjekte (wie 'int') kopiert werden!\"\n",
    "                },\n",
    "            ]\n",
    "    }]\n",
    "\n",
    "q2=[{\n",
    "            \"question\": \"Was der folgenden Aussagen über diesen Code sind falsch?\",\n",
    "            \"code\": \"class MyClass:\\n    def __init__(self):\\n        self.__private_attr = 42\\n\\n    def get_private_attr(self):\\n        return self.__private_attr\\n\\n    def set_private_attr(self, new_value):\\n        self.__private_attr = new_value\\n\\nmy_object = MyClass()\",\n",
    "    \"type\": \"multiple_choice\",\n",
    "            \"answers\": [\n",
    "                {\n",
    "                    \"answer\": \"Auf my_object.__private_attr kann direkt zugegriffen werden.\",\n",
    "                    \"correct\": True,\n",
    "                    \"feedback\": \"Richtig! Python nutzt sog. name-mangling um solche Zugriffe zu erschweren. Wissen sie auch wie man trtzdem auf __private_attr zugreifen könnte?\"\n",
    "                },\n",
    "                {\n",
    "                    \"answer\": \"my_object.get_private_attr() gibt den Wert von of __private_attr zurück.\",\n",
    "                    \"correct\": False,\n",
    "                    \"feedback\": \"Diese Operation ist erlaubt.\"\n",
    "                },\n",
    "                {\n",
    "                    \"answer\": \"my_object.set_private_attr(100) setzt den Wert von __private_attr auf 100\",\n",
    "                    \"correct\": False,\n",
    "                    \"feedback\": \"Diese Operation ist erlaubt.\"\n",
    "                },\n",
    "                {\n",
    "                    \"answer\": \"my_object.__private_attr erzeugt einen Fehler wenn man es innerhalb der Klasse aufruft.\",\n",
    "                    \"correct\": False,\n",
    "                    \"feedback\": \"Diese Operation ist erlaubt - ist es auch erlaubt wenn sie von ausserhalb der Klasse darauf zugreifen würden?\"\n",
    "                },\n",
    "            ]\n",
    "    }]\n",
    "\n",
    "q3=[{\n",
    "            \"question\": \"Was ist das Ergebnis des folgenden Codes? (Dieser Code ist ein Beispiel für schlechte Variablennamen die weder beschreibend\",\n",
    "            \"code\": \"class MyClass:\\n    x = 5\\n\\nx = MyClass()\\nx.x = 6\\nprint(MyClass.x)\",\n",
    "    \"type\": \"multiple_choice\",\n",
    "            \"answers\": [\n",
    "                {\n",
    "                    \"answer\": \"6\",\n",
    "                    \"correct\": False,\n",
    "                    \"feedback\": \"Falsch! Python unterscheiden sog. class-attributes (gleich für alle Instanzen der Klasse) und instance-attributes (unterschiedlich für verschiedene Instanzen der Klasse). \"\n",
    "                },\n",
    "                {\n",
    "                    \"answer\": \"5\",\n",
    "                    \"correct\": True,\n",
    "                    \"feedback\": \"Richtig! Python unterscheiden sog. class-attributes (gleich für alle Instanzen der Klasse) und instance-attributes (unterschiedlich für verschiedene Instanzen der Klasse). \"\n",
    "                },\n",
    "                {\n",
    "                    \"answer\": \"SyntaxError\",\n",
    "                    \"correct\": False,\n",
    "                    \"feedback\": \"Falsch! Dieser Code ist erlaubt. \"\n",
    "                },\n",
    "                {\n",
    "                    \"answer\": \"None\",\n",
    "                    \"correct\": False,\n",
    "                    \"feedback\": \"Falsch! Dieser Code gibt einen anderen Datentyp zurück, nicht None.\"\n",
    "                },\n",
    "            ]\n",
    "    }]\n"
   ]
  },
  {
   "cell_type": "code",
   "execution_count": null,
   "id": "70fafc5c-07e8-4d5d-9070-dae8bf998f88",
   "metadata": {
    "tags": [
     "remove-input"
    ]
   },
   "outputs": [],
   "source": [
    "display_quiz(q1, colors='fdsp')\n",
    "display_quiz(q2, colors='fdsp')\n",
    "display_quiz(q3, colors='fdsp')\n"
   ]
  },
  {
   "cell_type": "code",
   "execution_count": null,
   "id": "c5aeb140-a6db-4e9a-be03-8b9f72fca652",
   "metadata": {},
   "outputs": [],
   "source": []
  }
 ],
 "metadata": {
  "kernelspec": {
   "display_name": "Python 3 (ipykernel)",
   "language": "python",
   "name": "python3"
  },
  "language_info": {
   "codemirror_mode": {
    "name": "ipython",
    "version": 3
   },
   "file_extension": ".py",
   "mimetype": "text/x-python",
   "name": "python",
   "nbconvert_exporter": "python",
   "pygments_lexer": "ipython3",
   "version": "3.9.16"
  }
 },
 "nbformat": 4,
 "nbformat_minor": 5
}
